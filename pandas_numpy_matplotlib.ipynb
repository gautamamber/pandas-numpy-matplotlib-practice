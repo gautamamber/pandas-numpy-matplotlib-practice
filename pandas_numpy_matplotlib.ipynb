{
 "cells": [
  {
   "cell_type": "code",
   "execution_count": 1,
   "metadata": {},
   "outputs": [],
   "source": [
    "# Data preprocessing using pandas and numpy\n",
    "# Data Visualization using matplotlib"
   ]
  },
  {
   "cell_type": "code",
   "execution_count": 2,
   "metadata": {},
   "outputs": [],
   "source": [
    "# Introducing python"
   ]
  },
  {
   "cell_type": "code",
   "execution_count": 3,
   "metadata": {},
   "outputs": [
    {
     "name": "stdout",
     "output_type": "stream",
     "text": [
      "hello world\n"
     ]
    }
   ],
   "source": [
    "print(\"hello world\")"
   ]
  },
  {
   "cell_type": "code",
   "execution_count": 4,
   "metadata": {},
   "outputs": [],
   "source": [
    "a = 3\n",
    "b = 4\n",
    "c = a+b"
   ]
  },
  {
   "cell_type": "code",
   "execution_count": 5,
   "metadata": {},
   "outputs": [
    {
     "name": "stdout",
     "output_type": "stream",
     "text": [
      "7\n"
     ]
    }
   ],
   "source": [
    "print(c)"
   ]
  },
  {
   "cell_type": "code",
   "execution_count": 6,
   "metadata": {},
   "outputs": [],
   "source": [
    "# Lets  get start with pandas\n",
    "# start with series"
   ]
  },
  {
   "cell_type": "code",
   "execution_count": 7,
   "metadata": {},
   "outputs": [],
   "source": [
    "import pandas as pd"
   ]
  },
  {
   "cell_type": "code",
   "execution_count": 9,
   "metadata": {},
   "outputs": [
    {
     "data": {
      "text/plain": [
       "0    10\n",
       "dtype: int64"
      ]
     },
     "execution_count": 9,
     "metadata": {},
     "output_type": "execute_result"
    }
   ],
   "source": [
    "# series objects\n",
    "s1 = pd.Series(10)\n",
    "s1"
   ]
  },
  {
   "cell_type": "code",
   "execution_count": 10,
   "metadata": {},
   "outputs": [],
   "source": [
    "# It gives index and value\n",
    "# index   value"
   ]
  },
  {
   "cell_type": "code",
   "execution_count": 11,
   "metadata": {},
   "outputs": [
    {
     "data": {
      "text/plain": [
       "0    10\n",
       "1    20\n",
       "2    30\n",
       "3    40\n",
       "4    50\n",
       "dtype: int64"
      ]
     },
     "execution_count": 11,
     "metadata": {},
     "output_type": "execute_result"
    }
   ],
   "source": [
    "s2 = pd.Series([10,20,30,40,50])\n",
    "s2"
   ]
  },
  {
   "cell_type": "code",
   "execution_count": 12,
   "metadata": {},
   "outputs": [],
   "source": [
    "# above generate series"
   ]
  },
  {
   "cell_type": "code",
   "execution_count": 15,
   "metadata": {},
   "outputs": [],
   "source": [
    "name = pd.Series([\"amber\", \"gautam\", \"John\"], index = ['a', 'g', 'j'])"
   ]
  },
  {
   "cell_type": "code",
   "execution_count": 16,
   "metadata": {},
   "outputs": [
    {
     "data": {
      "text/plain": [
       "a     amber\n",
       "g    gautam\n",
       "j      John\n",
       "dtype: object"
      ]
     },
     "execution_count": 16,
     "metadata": {},
     "output_type": "execute_result"
    }
   ],
   "source": [
    "name\n",
    "# by this we will get index values which we specified"
   ]
  },
  {
   "cell_type": "code",
   "execution_count": 19,
   "metadata": {},
   "outputs": [
    {
     "data": {
      "text/plain": [
       "a     amber\n",
       "g    gautam\n",
       "j      john\n",
       "b       bob\n",
       "dtype: object"
      ]
     },
     "execution_count": 19,
     "metadata": {},
     "output_type": "execute_result"
    }
   ],
   "source": [
    "# now with dictionaries\n",
    "name2 = pd.Series({'a':'amber','g':'gautam', 'j':'john', 'b':'bob'})\n",
    "name2"
   ]
  },
  {
   "cell_type": "code",
   "execution_count": 20,
   "metadata": {},
   "outputs": [],
   "source": [
    "# now start with numpy \n",
    "import numpy as np"
   ]
  },
  {
   "cell_type": "code",
   "execution_count": 22,
   "metadata": {},
   "outputs": [
    {
     "data": {
      "text/plain": [
       "0    100.0\n",
       "1    200.0\n",
       "2    150.0\n",
       "3    300.0\n",
       "4    600.0\n",
       "5    150.0\n",
       "6      NaN\n",
       "dtype: float64"
      ]
     },
     "execution_count": 22,
     "metadata": {},
     "output_type": "execute_result"
    }
   ],
   "source": [
    "views = pd.Series([100,200,150,300,600,150, np.nan])\n",
    "views\n",
    "# Nan: no values, given by numpy"
   ]
  },
  {
   "cell_type": "code",
   "execution_count": 23,
   "metadata": {},
   "outputs": [
    {
     "data": {
      "text/plain": [
       "7"
      ]
     },
     "execution_count": 23,
     "metadata": {},
     "output_type": "execute_result"
    }
   ],
   "source": [
    "# length of views series\n",
    "len(views)"
   ]
  },
  {
   "cell_type": "code",
   "execution_count": 24,
   "metadata": {},
   "outputs": [
    {
     "data": {
      "text/plain": [
       "(7,)"
      ]
     },
     "execution_count": 24,
     "metadata": {},
     "output_type": "execute_result"
    }
   ],
   "source": [
    "# another way to get of length\n",
    "views.shape"
   ]
  },
  {
   "cell_type": "code",
   "execution_count": 25,
   "metadata": {},
   "outputs": [
    {
     "data": {
      "text/plain": [
       "7"
      ]
     },
     "execution_count": 25,
     "metadata": {},
     "output_type": "execute_result"
    }
   ],
   "source": [
    "# another method to get length\n",
    "views.size"
   ]
  },
  {
   "cell_type": "code",
   "execution_count": 28,
   "metadata": {},
   "outputs": [
    {
     "data": {
      "text/plain": [
       "6"
      ]
     },
     "execution_count": 28,
     "metadata": {},
     "output_type": "execute_result"
    }
   ],
   "source": [
    "# get non NAN value\n",
    "views.count()"
   ]
  },
  {
   "cell_type": "code",
   "execution_count": 29,
   "metadata": {},
   "outputs": [
    {
     "data": {
      "text/plain": [
       "array([100., 200., 150., 300., 600.,  nan])"
      ]
     },
     "execution_count": 29,
     "metadata": {},
     "output_type": "execute_result"
    }
   ],
   "source": [
    "# get the unique values\n",
    "views.unique()"
   ]
  },
  {
   "cell_type": "code",
   "execution_count": 30,
   "metadata": {},
   "outputs": [
    {
     "data": {
      "text/plain": [
       "150.0    2\n",
       "600.0    1\n",
       "300.0    1\n",
       "200.0    1\n",
       "100.0    1\n",
       "dtype: int64"
      ]
     },
     "execution_count": 30,
     "metadata": {},
     "output_type": "execute_result"
    }
   ],
   "source": [
    "# frequency of values\n",
    "views.value_counts()"
   ]
  },
  {
   "cell_type": "code",
   "execution_count": 31,
   "metadata": {},
   "outputs": [],
   "source": [
    "# lets start with new series\n",
    "new_series = pd.Series([100,200,100,400,300,500,np.nan], index = ['sun', 'mon','tue','wed','thu','fri','sat'])"
   ]
  },
  {
   "cell_type": "code",
   "execution_count": 32,
   "metadata": {},
   "outputs": [
    {
     "data": {
      "text/plain": [
       "sun    100.0\n",
       "mon    200.0\n",
       "tue    100.0\n",
       "wed    400.0\n",
       "thu    300.0\n",
       "fri    500.0\n",
       "sat      NaN\n",
       "dtype: float64"
      ]
     },
     "execution_count": 32,
     "metadata": {},
     "output_type": "execute_result"
    }
   ],
   "source": [
    "new_series"
   ]
  },
  {
   "cell_type": "code",
   "execution_count": 33,
   "metadata": {},
   "outputs": [
    {
     "data": {
      "text/plain": [
       "Index(['sun', 'mon', 'tue', 'wed', 'thu', 'fri', 'sat'], dtype='object')"
      ]
     },
     "execution_count": 33,
     "metadata": {},
     "output_type": "execute_result"
    }
   ],
   "source": [
    "# get index\n",
    "new_series.index"
   ]
  },
  {
   "cell_type": "code",
   "execution_count": 34,
   "metadata": {},
   "outputs": [
    {
     "data": {
      "text/plain": [
       "array([100., 200., 100., 400., 300., 500.,  nan])"
      ]
     },
     "execution_count": 34,
     "metadata": {},
     "output_type": "execute_result"
    }
   ],
   "source": [
    "# get the values\n",
    "new_series.values"
   ]
  },
  {
   "cell_type": "code",
   "execution_count": 37,
   "metadata": {},
   "outputs": [
    {
     "data": {
      "text/plain": [
       "sun    100.0\n",
       "mon    200.0\n",
       "tue    100.0\n",
       "wed    400.0\n",
       "thu    300.0\n",
       "dtype: float64"
      ]
     },
     "execution_count": 37,
     "metadata": {},
     "output_type": "execute_result"
    }
   ],
   "source": [
    "# slice a specific rows\n",
    "# empty head give first five rows\n",
    "new_series.head()"
   ]
  },
  {
   "cell_type": "code",
   "execution_count": 36,
   "metadata": {},
   "outputs": [
    {
     "data": {
      "text/plain": [
       "sun    100.0\n",
       "mon    200.0\n",
       "dtype: float64"
      ]
     },
     "execution_count": 36,
     "metadata": {},
     "output_type": "execute_result"
    }
   ],
   "source": [
    "new_series.head(2)"
   ]
  },
  {
   "cell_type": "code",
   "execution_count": 38,
   "metadata": {},
   "outputs": [
    {
     "data": {
      "text/plain": [
       "thu    300.0\n",
       "fri    500.0\n",
       "sat      NaN\n",
       "dtype: float64"
      ]
     },
     "execution_count": 38,
     "metadata": {},
     "output_type": "execute_result"
    }
   ],
   "source": [
    "# get last rows\n",
    "new_series.tail(3)"
   ]
  },
  {
   "cell_type": "code",
   "execution_count": 39,
   "metadata": {},
   "outputs": [
    {
     "data": {
      "text/plain": [
       "tue    100.0\n",
       "wed    400.0\n",
       "thu    300.0\n",
       "fri    500.0\n",
       "sat      NaN\n",
       "dtype: float64"
      ]
     },
     "execution_count": 39,
     "metadata": {},
     "output_type": "execute_result"
    }
   ],
   "source": [
    "new_series.tail()"
   ]
  },
  {
   "cell_type": "code",
   "execution_count": 41,
   "metadata": {},
   "outputs": [
    {
     "data": {
      "text/plain": [
       "100.0"
      ]
     },
     "execution_count": 41,
     "metadata": {},
     "output_type": "execute_result"
    }
   ],
   "source": [
    "# Retrieve a value from new_series\n",
    "new_series['sun']"
   ]
  },
  {
   "cell_type": "code",
   "execution_count": 42,
   "metadata": {},
   "outputs": [
    {
     "data": {
      "text/plain": [
       "200.0"
      ]
     },
     "execution_count": 42,
     "metadata": {},
     "output_type": "execute_result"
    }
   ],
   "source": [
    "# using index\n",
    "new_series[1]"
   ]
  },
  {
   "cell_type": "code",
   "execution_count": 43,
   "metadata": {},
   "outputs": [
    {
     "data": {
      "text/plain": [
       "mon    200.0\n",
       "sat      NaN\n",
       "dtype: float64"
      ]
     },
     "execution_count": 43,
     "metadata": {},
     "output_type": "execute_result"
    }
   ],
   "source": [
    "new_series[['mon','sat']]"
   ]
  },
  {
   "cell_type": "code",
   "execution_count": 44,
   "metadata": {},
   "outputs": [
    {
     "data": {
      "text/plain": [
       "tue    100.0\n",
       "mon    200.0\n",
       "dtype: float64"
      ]
     },
     "execution_count": 44,
     "metadata": {},
     "output_type": "execute_result"
    }
   ],
   "source": [
    "new_series[[2,1]]"
   ]
  },
  {
   "cell_type": "code",
   "execution_count": 45,
   "metadata": {},
   "outputs": [
    {
     "data": {
      "text/plain": [
       "sun    100.0\n",
       "mon    200.0\n",
       "wed    400.0\n",
       "dtype: float64"
      ]
     },
     "execution_count": 45,
     "metadata": {},
     "output_type": "execute_result"
    }
   ],
   "source": [
    "new_series.take([0,1,3])"
   ]
  },
  {
   "cell_type": "code",
   "execution_count": 46,
   "metadata": {},
   "outputs": [],
   "source": [
    "# above are to get data using index or positions"
   ]
  },
  {
   "cell_type": "code",
   "execution_count": 47,
   "metadata": {},
   "outputs": [],
   "source": [
    "# now srting series"
   ]
  },
  {
   "cell_type": "code",
   "execution_count": 48,
   "metadata": {},
   "outputs": [
    {
     "data": {
      "text/plain": [
       "a    100\n",
       "b    200\n",
       "c    300\n",
       "dtype: object"
      ]
     },
     "execution_count": 48,
     "metadata": {},
     "output_type": "execute_result"
    }
   ],
   "source": [
    "string = pd.Series(['100', '200', '300'], index = ['a','b','c'])\n",
    "string"
   ]
  },
  {
   "cell_type": "code",
   "execution_count": 52,
   "metadata": {},
   "outputs": [
    {
     "data": {
      "text/plain": [
       "'200'"
      ]
     },
     "execution_count": 52,
     "metadata": {},
     "output_type": "execute_result"
    }
   ],
   "source": [
    "string[1]"
   ]
  },
  {
   "cell_type": "code",
   "execution_count": 53,
   "metadata": {},
   "outputs": [
    {
     "data": {
      "text/plain": [
       "'100'"
      ]
     },
     "execution_count": 53,
     "metadata": {},
     "output_type": "execute_result"
    }
   ],
   "source": [
    "# get by label\n",
    "string['a']"
   ]
  },
  {
   "cell_type": "code",
   "execution_count": 55,
   "metadata": {},
   "outputs": [
    {
     "data": {
      "text/plain": [
       "0     1\n",
       "1     2\n",
       "2    33\n",
       "3     4\n",
       "dtype: int64"
      ]
     },
     "execution_count": 55,
     "metadata": {},
     "output_type": "execute_result"
    }
   ],
   "source": [
    "integer = pd.Series([1,2,33,4])\n",
    "integer"
   ]
  },
  {
   "cell_type": "code",
   "execution_count": 56,
   "metadata": {},
   "outputs": [
    {
     "data": {
      "text/plain": [
       "2"
      ]
     },
     "execution_count": 56,
     "metadata": {},
     "output_type": "execute_result"
    }
   ],
   "source": [
    " integer.loc[1]"
   ]
  },
  {
   "cell_type": "code",
   "execution_count": 61,
   "metadata": {},
   "outputs": [
    {
     "data": {
      "text/plain": [
       "4"
      ]
     },
     "execution_count": 61,
     "metadata": {},
     "output_type": "execute_result"
    }
   ],
   "source": [
    "# not start with index 0 get by label\n",
    "integer.iloc[3]"
   ]
  },
  {
   "cell_type": "code",
   "execution_count": 62,
   "metadata": {},
   "outputs": [
    {
     "data": {
      "text/plain": [
       "1     2\n",
       "2    33\n",
       "dtype: int64"
      ]
     },
     "execution_count": 62,
     "metadata": {},
     "output_type": "execute_result"
    }
   ],
   "source": [
    "integer.iloc[[1,2]]"
   ]
  },
  {
   "cell_type": "code",
   "execution_count": 63,
   "metadata": {},
   "outputs": [
    {
     "data": {
      "text/plain": [
       "2    33\n",
       "3     4\n",
       "1     2\n",
       "dtype: int64"
      ]
     },
     "execution_count": 63,
     "metadata": {},
     "output_type": "execute_result"
    }
   ],
   "source": [
    "integer.iloc[[2,3,1]]"
   ]
  },
  {
   "cell_type": "code",
   "execution_count": 64,
   "metadata": {},
   "outputs": [
    {
     "data": {
      "text/plain": [
       "1    2\n",
       "dtype: int64"
      ]
     },
     "execution_count": 64,
     "metadata": {},
     "output_type": "execute_result"
    }
   ],
   "source": [
    "integer.loc[[1]]"
   ]
  },
  {
   "cell_type": "code",
   "execution_count": 67,
   "metadata": {},
   "outputs": [
    {
     "name": "stderr",
     "output_type": "stream",
     "text": [
      "/home/amber/Desktop/DataScience/env/lib/python3.6/site-packages/ipykernel_launcher.py:1: FutureWarning: \n",
      "Passing list-likes to .loc or [] with any missing label will raise\n",
      "KeyError in the future, you can use .reindex() as an alternative.\n",
      "\n",
      "See the documentation here:\n",
      "https://pandas.pydata.org/pandas-docs/stable/indexing.html#deprecate-loc-reindex-listlike\n",
      "  \"\"\"Entry point for launching an IPython kernel.\n"
     ]
    },
    {
     "data": {
      "text/plain": [
       "1     2.0\n",
       "2    33.0\n",
       "3     4.0\n",
       "4     NaN\n",
       "5     NaN\n",
       "dtype: float64"
      ]
     },
     "execution_count": 67,
     "metadata": {},
     "output_type": "execute_result"
    }
   ],
   "source": [
    "integer.loc[[1,2,3,4,5]]"
   ]
  },
  {
   "cell_type": "code",
   "execution_count": 68,
   "metadata": {},
   "outputs": [],
   "source": [
    "# If data is not present it will give NaN"
   ]
  },
  {
   "cell_type": "code",
   "execution_count": null,
   "metadata": {},
   "outputs": [],
   "source": [
    "# Alignment in pandas"
   ]
  },
  {
   "cell_type": "code",
   "execution_count": 72,
   "metadata": {},
   "outputs": [
    {
     "data": {
      "text/plain": [
       "e    50\n",
       "f    60\n",
       "g    70\n",
       "h    80\n",
       "dtype: int64"
      ]
     },
     "execution_count": 72,
     "metadata": {},
     "output_type": "execute_result"
    }
   ],
   "source": [
    "series1 = pd.Series([50,60,70,80], index = ['e','f','g','h'])\n",
    "series1"
   ]
  },
  {
   "cell_type": "code",
   "execution_count": 73,
   "metadata": {},
   "outputs": [
    {
     "data": {
      "text/plain": [
       "h    20\n",
       "g    30\n",
       "f    40\n",
       "e    50\n",
       "dtype: int64"
      ]
     },
     "execution_count": 73,
     "metadata": {},
     "output_type": "execute_result"
    }
   ],
   "source": [
    "series2 = pd.Series([20,30,40,50], index = ['h','g','f','e'])\n",
    "series2"
   ]
  },
  {
   "cell_type": "code",
   "execution_count": 74,
   "metadata": {},
   "outputs": [
    {
     "data": {
      "text/plain": [
       "e    100\n",
       "f    100\n",
       "g    100\n",
       "h    100\n",
       "dtype: int64"
      ]
     },
     "execution_count": 74,
     "metadata": {},
     "output_type": "execute_result"
    }
   ],
   "source": [
    "# Now add \n",
    "series1 + series2"
   ]
  },
  {
   "cell_type": "code",
   "execution_count": 75,
   "metadata": {},
   "outputs": [
    {
     "data": {
      "text/plain": [
       "a    10\n",
       "p    20\n",
       "c    40\n",
       "d    50\n",
       "f    60\n",
       "dtype: int64"
      ]
     },
     "execution_count": 75,
     "metadata": {},
     "output_type": "execute_result"
    }
   ],
   "source": [
    "# same index values are add\n",
    "# pandas firstly align the data than apply the arithematic operations\n",
    "series3 = pd.Series([10,20,40,50,60], index = ['a','p','c','d','f'])\n",
    "series3"
   ]
  },
  {
   "cell_type": "code",
   "execution_count": 76,
   "metadata": {},
   "outputs": [
    {
     "data": {
      "text/plain": [
       "a    80\n",
       "p    20\n",
       "c    44\n",
       "d    22\n",
       "f    11\n",
       "dtype: int64"
      ]
     },
     "execution_count": 76,
     "metadata": {},
     "output_type": "execute_result"
    }
   ],
   "source": [
    "series4 = pd.Series([80,20,44,22,11], index = ['a','p','c','d','f'])\n",
    "series4"
   ]
  },
  {
   "cell_type": "code",
   "execution_count": 77,
   "metadata": {},
   "outputs": [
    {
     "data": {
      "text/plain": [
       "a    90\n",
       "p    40\n",
       "c    84\n",
       "d    72\n",
       "f    71\n",
       "dtype: int64"
      ]
     },
     "execution_count": 77,
     "metadata": {},
     "output_type": "execute_result"
    }
   ],
   "source": [
    "# use in many statistical data, to deal with messing data\n",
    "series3 + series4"
   ]
  },
  {
   "cell_type": "code",
   "execution_count": 78,
   "metadata": {},
   "outputs": [
    {
     "data": {
      "text/plain": [
       "x    10\n",
       "x    20\n",
       "y    30\n",
       "dtype: int64"
      ]
     },
     "execution_count": 78,
     "metadata": {},
     "output_type": "execute_result"
    }
   ],
   "source": [
    "# Now search with duplicated data\n",
    "series5 = pd.Series([10,20,30], index = ['x','x','y'])\n",
    "series5"
   ]
  },
  {
   "cell_type": "code",
   "execution_count": 79,
   "metadata": {},
   "outputs": [
    {
     "data": {
      "text/plain": [
       "x    40\n",
       "x    50\n",
       "z    60\n",
       "dtype: int64"
      ]
     },
     "execution_count": 79,
     "metadata": {},
     "output_type": "execute_result"
    }
   ],
   "source": [
    "series6 = pd.Series([40,50,60], index = ['x','x','z'])\n",
    "series6"
   ]
  },
  {
   "cell_type": "code",
   "execution_count": 80,
   "metadata": {},
   "outputs": [
    {
     "data": {
      "text/plain": [
       "x    50.0\n",
       "x    60.0\n",
       "x    60.0\n",
       "x    70.0\n",
       "y     NaN\n",
       "z     NaN\n",
       "dtype: float64"
      ]
     },
     "execution_count": 80,
     "metadata": {},
     "output_type": "execute_result"
    }
   ],
   "source": [
    "series5 + series6"
   ]
  },
  {
   "cell_type": "code",
   "execution_count": 82,
   "metadata": {},
   "outputs": [],
   "source": [
    "# How we get the above result, one x is add with both\n",
    "#  duplicate labels will match in alignment and non duplicate not"
   ]
  },
  {
   "cell_type": "code",
   "execution_count": 83,
   "metadata": {},
   "outputs": [
    {
     "data": {
      "text/plain": [
       "x     400.0\n",
       "x     500.0\n",
       "x     800.0\n",
       "x    1000.0\n",
       "y       NaN\n",
       "z       NaN\n",
       "dtype: float64"
      ]
     },
     "execution_count": 83,
     "metadata": {},
     "output_type": "execute_result"
    }
   ],
   "source": [
    "# lets try multiplication\n",
    "series5 * series6"
   ]
  },
  {
   "cell_type": "code",
   "execution_count": 84,
   "metadata": {},
   "outputs": [
    {
     "data": {
      "text/plain": [
       "x    100\n",
       "x    200\n",
       "y    300\n",
       "dtype: int64"
      ]
     },
     "execution_count": 84,
     "metadata": {},
     "output_type": "execute_result"
    }
   ],
   "source": [
    "series5 * 10"
   ]
  },
  {
   "cell_type": "code",
   "execution_count": 85,
   "metadata": {},
   "outputs": [
    {
     "data": {
      "text/plain": [
       "x    4000\n",
       "x    5000\n",
       "z    6000\n",
       "dtype: int64"
      ]
     },
     "execution_count": 85,
     "metadata": {},
     "output_type": "execute_result"
    }
   ],
   "source": [
    "series6 * 100"
   ]
  },
  {
   "cell_type": "code",
   "execution_count": 86,
   "metadata": {},
   "outputs": [
    {
     "data": {
      "text/plain": [
       "0    10\n",
       "1    20\n",
       "2    30\n",
       "3    50\n",
       "dtype: int64"
      ]
     },
     "execution_count": 86,
     "metadata": {},
     "output_type": "execute_result"
    }
   ],
   "source": [
    "# different ways to changing series data\n",
    "new = pd.Series([10,20,30,50])\n",
    "new"
   ]
  },
  {
   "cell_type": "code",
   "execution_count": 87,
   "metadata": {},
   "outputs": [],
   "source": [
    "# in above index are automatic generated\n",
    "# we also give index"
   ]
  },
  {
   "cell_type": "code",
   "execution_count": 88,
   "metadata": {},
   "outputs": [
    {
     "data": {
      "text/plain": [
       "a    10\n",
       "b    20\n",
       "c    30\n",
       "d    50\n",
       "dtype: int64"
      ]
     },
     "execution_count": 88,
     "metadata": {},
     "output_type": "execute_result"
    }
   ],
   "source": [
    "new.index = ['a','b','c','d']\n",
    "new"
   ]
  },
  {
   "cell_type": "code",
   "execution_count": 90,
   "metadata": {},
   "outputs": [],
   "source": [
    "# remember always index no is same as data no\n",
    "new_1 = new.reindex(['a','b','c','d','e','f'])"
   ]
  },
  {
   "cell_type": "code",
   "execution_count": 92,
   "metadata": {},
   "outputs": [
    {
     "data": {
      "text/plain": [
       "a    10.0\n",
       "b    20.0\n",
       "c    30.0\n",
       "d    50.0\n",
       "e     NaN\n",
       "f     NaN\n",
       "dtype: float64"
      ]
     },
     "execution_count": 92,
     "metadata": {},
     "output_type": "execute_result"
    }
   ],
   "source": [
    "# by reindex we will get NAN value for extra index\n",
    "new_1"
   ]
  },
  {
   "cell_type": "code",
   "execution_count": 93,
   "metadata": {},
   "outputs": [],
   "source": [
    "# In many cases we need reindexing, how? lets check"
   ]
  },
  {
   "cell_type": "code",
   "execution_count": 94,
   "metadata": {},
   "outputs": [
    {
     "data": {
      "text/plain": [
       "1    10\n",
       "2    20\n",
       "3    50\n",
       "dtype: int64"
      ]
     },
     "execution_count": 94,
     "metadata": {},
     "output_type": "execute_result"
    }
   ],
   "source": [
    "series7 = pd.Series([10,20,50], index = ['1','2','3'])\n",
    "series7"
   ]
  },
  {
   "cell_type": "code",
   "execution_count": 95,
   "metadata": {},
   "outputs": [
    {
     "data": {
      "text/plain": [
       "1   NaN\n",
       "2   NaN\n",
       "3   NaN\n",
       "a   NaN\n",
       "b   NaN\n",
       "c   NaN\n",
       "d   NaN\n",
       "dtype: float64"
      ]
     },
     "execution_count": 95,
     "metadata": {},
     "output_type": "execute_result"
    }
   ],
   "source": [
    "series7 + new"
   ]
  },
  {
   "cell_type": "code",
   "execution_count": 100,
   "metadata": {},
   "outputs": [],
   "source": [
    "# Modify series and slicing"
   ]
  },
  {
   "cell_type": "code",
   "execution_count": 101,
   "metadata": {},
   "outputs": [
    {
     "data": {
      "text/plain": [
       "amber      49\n",
       "gautam    200\n",
       "john       30\n",
       "jack       45\n",
       "dtype: int64"
      ]
     },
     "execution_count": 101,
     "metadata": {},
     "output_type": "execute_result"
    }
   ],
   "source": [
    "grades = pd.Series([49,200,30,45], index = ['amber', 'gautam', 'john', 'jack'])\n",
    "grades"
   ]
  },
  {
   "cell_type": "code",
   "execution_count": 102,
   "metadata": {},
   "outputs": [
    {
     "data": {
      "text/plain": [
       "amber     49\n",
       "gautam    33\n",
       "john      30\n",
       "jack      45\n",
       "dtype: int64"
      ]
     },
     "execution_count": 102,
     "metadata": {},
     "output_type": "execute_result"
    }
   ],
   "source": [
    "# now change the grade of john or (solve illogical or wring value)\n",
    "# so correct this\n",
    "grades['gautam'] = 33\n",
    "grades"
   ]
  },
  {
   "cell_type": "code",
   "execution_count": 103,
   "metadata": {},
   "outputs": [],
   "source": [
    "# delete row\n",
    "# amber row data is delete\n",
    "del(grades['amber'])"
   ]
  },
  {
   "cell_type": "code",
   "execution_count": 104,
   "metadata": {},
   "outputs": [
    {
     "data": {
      "text/plain": [
       "gautam    33\n",
       "john      30\n",
       "jack      45\n",
       "dtype: int64"
      ]
     },
     "execution_count": 104,
     "metadata": {},
     "output_type": "execute_result"
    }
   ],
   "source": [
    "grades"
   ]
  },
  {
   "cell_type": "code",
   "execution_count": 105,
   "metadata": {},
   "outputs": [
    {
     "data": {
      "text/plain": [
       "amber      49\n",
       "gautam    200\n",
       "john       30\n",
       "jack       45\n",
       "mark       22\n",
       "ayan       43\n",
       "dtype: int64"
      ]
     },
     "execution_count": 105,
     "metadata": {},
     "output_type": "execute_result"
    }
   ],
   "source": [
    "# add more items in above series\n",
    "grades = pd.Series([49,200,30,45,22,43], index = ['amber', 'gautam', 'john', 'jack', 'mark', 'ayan'])\n",
    "grades"
   ]
  },
  {
   "cell_type": "code",
   "execution_count": 106,
   "metadata": {},
   "outputs": [
    {
     "data": {
      "text/plain": [
       "amber      49\n",
       "gautam    200\n",
       "john       30\n",
       "jack       45\n",
       "dtype: int64"
      ]
     },
     "execution_count": 106,
     "metadata": {},
     "output_type": "execute_result"
    }
   ],
   "source": [
    "# slice the data\n",
    "grades[0:4]"
   ]
  },
  {
   "cell_type": "code",
   "execution_count": 107,
   "metadata": {},
   "outputs": [
    {
     "data": {
      "text/plain": [
       "amber    49\n",
       "john     30\n",
       "dtype: int64"
      ]
     },
     "execution_count": 107,
     "metadata": {},
     "output_type": "execute_result"
    }
   ],
   "source": [
    "# last parameter is for difference\n",
    "grades[0:4:2]"
   ]
  },
  {
   "cell_type": "code",
   "execution_count": 108,
   "metadata": {},
   "outputs": [
    {
     "data": {
      "text/plain": [
       "amber      49\n",
       "gautam    200\n",
       "john       30\n",
       "jack       45\n",
       "dtype: int64"
      ]
     },
     "execution_count": 108,
     "metadata": {},
     "output_type": "execute_result"
    }
   ],
   "source": [
    "grades[:4]"
   ]
  },
  {
   "cell_type": "code",
   "execution_count": 109,
   "metadata": {},
   "outputs": [
    {
     "data": {
      "text/plain": [
       "mark    22\n",
       "ayan    43\n",
       "dtype: int64"
      ]
     },
     "execution_count": 109,
     "metadata": {},
     "output_type": "execute_result"
    }
   ],
   "source": [
    "grades[4:]"
   ]
  },
  {
   "cell_type": "code",
   "execution_count": 110,
   "metadata": {},
   "outputs": [
    {
     "data": {
      "text/plain": [
       "amber      49\n",
       "gautam    200\n",
       "john       30\n",
       "jack       45\n",
       "mark       22\n",
       "dtype: int64"
      ]
     },
     "execution_count": 110,
     "metadata": {},
     "output_type": "execute_result"
    }
   ],
   "source": [
    "grades[:-1]"
   ]
  },
  {
   "cell_type": "code",
   "execution_count": 111,
   "metadata": {},
   "outputs": [
    {
     "data": {
      "text/plain": [
       "amber      49\n",
       "gautam    200\n",
       "john       30\n",
       "jack       45\n",
       "mark       22\n",
       "ayan       43\n",
       "dtype: int64"
      ]
     },
     "execution_count": 111,
     "metadata": {},
     "output_type": "execute_result"
    }
   ],
   "source": [
    "grades[:]"
   ]
  },
  {
   "cell_type": "code",
   "execution_count": 112,
   "metadata": {},
   "outputs": [
    {
     "data": {
      "text/plain": [
       "amber    49\n",
       "dtype: int64"
      ]
     },
     "execution_count": 112,
     "metadata": {},
     "output_type": "execute_result"
    }
   ],
   "source": [
    "grades[:3:4]"
   ]
  },
  {
   "cell_type": "code",
   "execution_count": 113,
   "metadata": {},
   "outputs": [
    {
     "data": {
      "text/plain": [
       "mark     22\n",
       "john     30\n",
       "amber    49\n",
       "dtype: int64"
      ]
     },
     "execution_count": 113,
     "metadata": {},
     "output_type": "execute_result"
    }
   ],
   "source": [
    "grades[4::-2]"
   ]
  },
  {
   "cell_type": "code",
   "execution_count": 114,
   "metadata": {},
   "outputs": [
    {
     "data": {
      "text/plain": [
       "45"
      ]
     },
     "execution_count": 114,
     "metadata": {},
     "output_type": "execute_result"
    }
   ],
   "source": [
    "grades[-3]"
   ]
  },
  {
   "cell_type": "code",
   "execution_count": 115,
   "metadata": {},
   "outputs": [
    {
     "data": {
      "text/plain": [
       "amber      49\n",
       "gautam    200\n",
       "john       30\n",
       "dtype: int64"
      ]
     },
     "execution_count": 115,
     "metadata": {},
     "output_type": "execute_result"
    }
   ],
   "source": [
    "grades[:-3]"
   ]
  },
  {
   "cell_type": "code",
   "execution_count": 116,
   "metadata": {},
   "outputs": [],
   "source": [
    "# Now deal with rows and tables \n",
    "# Dataframes\n",
    "# create a dataframe"
   ]
  },
  {
   "cell_type": "code",
   "execution_count": 117,
   "metadata": {},
   "outputs": [
    {
     "data": {
      "text/plain": [
       "microsoft    200\n",
       "google       300\n",
       "yahoo        400\n",
       "facebook     500\n",
       "dtype: int64"
      ]
     },
     "execution_count": 117,
     "metadata": {},
     "output_type": "execute_result"
    }
   ],
   "source": [
    "# create series object\n",
    "sales = pd.Series([200,300,400,500], index = ['microsoft', 'google','yahoo', 'facebook'])\n",
    "sales"
   ]
  },
  {
   "cell_type": "code",
   "execution_count": 118,
   "metadata": {},
   "outputs": [
    {
     "data": {
      "text/html": [
       "<div>\n",
       "<style scoped>\n",
       "    .dataframe tbody tr th:only-of-type {\n",
       "        vertical-align: middle;\n",
       "    }\n",
       "\n",
       "    .dataframe tbody tr th {\n",
       "        vertical-align: top;\n",
       "    }\n",
       "\n",
       "    .dataframe thead th {\n",
       "        text-align: right;\n",
       "    }\n",
       "</style>\n",
       "<table border=\"1\" class=\"dataframe\">\n",
       "  <thead>\n",
       "    <tr style=\"text-align: right;\">\n",
       "      <th></th>\n",
       "      <th>2018</th>\n",
       "    </tr>\n",
       "  </thead>\n",
       "  <tbody>\n",
       "    <tr>\n",
       "      <th>microsoft</th>\n",
       "      <td>200</td>\n",
       "    </tr>\n",
       "    <tr>\n",
       "      <th>google</th>\n",
       "      <td>300</td>\n",
       "    </tr>\n",
       "    <tr>\n",
       "      <th>yahoo</th>\n",
       "      <td>400</td>\n",
       "    </tr>\n",
       "    <tr>\n",
       "      <th>facebook</th>\n",
       "      <td>500</td>\n",
       "    </tr>\n",
       "  </tbody>\n",
       "</table>\n",
       "</div>"
      ],
      "text/plain": [
       "           2018\n",
       "microsoft   200\n",
       "google      300\n",
       "yahoo       400\n",
       "facebook    500"
      ]
     },
     "execution_count": 118,
     "metadata": {},
     "output_type": "execute_result"
    }
   ],
   "source": [
    "# create the dataframe of above series\n",
    "df1 = pd.DataFrame({2018:sales})\n",
    "df1"
   ]
  },
  {
   "cell_type": "code",
   "execution_count": 119,
   "metadata": {},
   "outputs": [
    {
     "data": {
      "text/plain": [
       "microsoft    2000\n",
       "google       3000\n",
       "yahoo        4000\n",
       "facebook     5000\n",
       "dtype: int64"
      ]
     },
     "execution_count": 119,
     "metadata": {},
     "output_type": "execute_result"
    }
   ],
   "source": [
    "# so above is the dataframe of one series\n",
    "sales2 = pd.Series([2000,3000,4000,5000], index = ['microsoft', 'google','yahoo', 'facebook'])\n",
    "sales2"
   ]
  },
  {
   "cell_type": "code",
   "execution_count": 120,
   "metadata": {},
   "outputs": [
    {
     "data": {
      "text/plain": [
       "microsoft    20\n",
       "google       30\n",
       "yahoo        40\n",
       "facebook     50\n",
       "dtype: int64"
      ]
     },
     "execution_count": 120,
     "metadata": {},
     "output_type": "execute_result"
    }
   ],
   "source": [
    "sales3 = pd.Series([20,30,40,50], index = ['microsoft', 'google','yahoo', 'facebook'])\n",
    "sales3"
   ]
  },
  {
   "cell_type": "code",
   "execution_count": 121,
   "metadata": {},
   "outputs": [
    {
     "data": {
      "text/html": [
       "<div>\n",
       "<style scoped>\n",
       "    .dataframe tbody tr th:only-of-type {\n",
       "        vertical-align: middle;\n",
       "    }\n",
       "\n",
       "    .dataframe tbody tr th {\n",
       "        vertical-align: top;\n",
       "    }\n",
       "\n",
       "    .dataframe thead th {\n",
       "        text-align: right;\n",
       "    }\n",
       "</style>\n",
       "<table border=\"1\" class=\"dataframe\">\n",
       "  <thead>\n",
       "    <tr style=\"text-align: right;\">\n",
       "      <th></th>\n",
       "      <th>2019</th>\n",
       "      <th>2017</th>\n",
       "      <th>2018</th>\n",
       "    </tr>\n",
       "  </thead>\n",
       "  <tbody>\n",
       "    <tr>\n",
       "      <th>microsoft</th>\n",
       "      <td>2000</td>\n",
       "      <td>200</td>\n",
       "      <td>20</td>\n",
       "    </tr>\n",
       "    <tr>\n",
       "      <th>google</th>\n",
       "      <td>3000</td>\n",
       "      <td>300</td>\n",
       "      <td>30</td>\n",
       "    </tr>\n",
       "    <tr>\n",
       "      <th>yahoo</th>\n",
       "      <td>4000</td>\n",
       "      <td>400</td>\n",
       "      <td>40</td>\n",
       "    </tr>\n",
       "    <tr>\n",
       "      <th>facebook</th>\n",
       "      <td>5000</td>\n",
       "      <td>500</td>\n",
       "      <td>50</td>\n",
       "    </tr>\n",
       "  </tbody>\n",
       "</table>\n",
       "</div>"
      ],
      "text/plain": [
       "           2019  2017  2018\n",
       "microsoft  2000   200    20\n",
       "google     3000   300    30\n",
       "yahoo      4000   400    40\n",
       "facebook   5000   500    50"
      ]
     },
     "execution_count": 121,
     "metadata": {},
     "output_type": "execute_result"
    }
   ],
   "source": [
    "df2 = pd.DataFrame({2019:sales2, 2017:sales, 2018:sales3})\n",
    "df2"
   ]
  },
  {
   "cell_type": "code",
   "execution_count": 122,
   "metadata": {},
   "outputs": [
    {
     "data": {
      "text/plain": [
       "(4, 3)"
      ]
     },
     "execution_count": 122,
     "metadata": {},
     "output_type": "execute_result"
    }
   ],
   "source": [
    "df2.shape"
   ]
  },
  {
   "cell_type": "code",
   "execution_count": 124,
   "metadata": {},
   "outputs": [
    {
     "data": {
      "text/html": [
       "<div>\n",
       "<style scoped>\n",
       "    .dataframe tbody tr th:only-of-type {\n",
       "        vertical-align: middle;\n",
       "    }\n",
       "\n",
       "    .dataframe tbody tr th {\n",
       "        vertical-align: top;\n",
       "    }\n",
       "\n",
       "    .dataframe thead th {\n",
       "        text-align: right;\n",
       "    }\n",
       "</style>\n",
       "<table border=\"1\" class=\"dataframe\">\n",
       "  <thead>\n",
       "    <tr style=\"text-align: right;\">\n",
       "      <th></th>\n",
       "      <th>A</th>\n",
       "      <th>B</th>\n",
       "      <th>C</th>\n",
       "    </tr>\n",
       "  </thead>\n",
       "  <tbody>\n",
       "    <tr>\n",
       "      <th>microsoft</th>\n",
       "      <td>2000</td>\n",
       "      <td>200</td>\n",
       "      <td>20</td>\n",
       "    </tr>\n",
       "    <tr>\n",
       "      <th>google</th>\n",
       "      <td>3000</td>\n",
       "      <td>300</td>\n",
       "      <td>30</td>\n",
       "    </tr>\n",
       "    <tr>\n",
       "      <th>yahoo</th>\n",
       "      <td>4000</td>\n",
       "      <td>400</td>\n",
       "      <td>40</td>\n",
       "    </tr>\n",
       "    <tr>\n",
       "      <th>facebook</th>\n",
       "      <td>5000</td>\n",
       "      <td>500</td>\n",
       "      <td>50</td>\n",
       "    </tr>\n",
       "  </tbody>\n",
       "</table>\n",
       "</div>"
      ],
      "text/plain": [
       "              A    B   C\n",
       "microsoft  2000  200  20\n",
       "google     3000  300  30\n",
       "yahoo      4000  400  40\n",
       "facebook   5000  500  50"
      ]
     },
     "execution_count": 124,
     "metadata": {},
     "output_type": "execute_result"
    }
   ],
   "source": [
    "# change lables\n",
    "df2.columns = ['A','B','C']\n",
    "df2"
   ]
  },
  {
   "cell_type": "code",
   "execution_count": 125,
   "metadata": {},
   "outputs": [
    {
     "data": {
      "text/html": [
       "<div>\n",
       "<style scoped>\n",
       "    .dataframe tbody tr th:only-of-type {\n",
       "        vertical-align: middle;\n",
       "    }\n",
       "\n",
       "    .dataframe tbody tr th {\n",
       "        vertical-align: top;\n",
       "    }\n",
       "\n",
       "    .dataframe thead th {\n",
       "        text-align: right;\n",
       "    }\n",
       "</style>\n",
       "<table border=\"1\" class=\"dataframe\">\n",
       "  <thead>\n",
       "    <tr style=\"text-align: right;\">\n",
       "      <th></th>\n",
       "      <th>A</th>\n",
       "      <th>B</th>\n",
       "      <th>C</th>\n",
       "    </tr>\n",
       "  </thead>\n",
       "  <tbody>\n",
       "    <tr>\n",
       "      <th>M</th>\n",
       "      <td>2000</td>\n",
       "      <td>200</td>\n",
       "      <td>20</td>\n",
       "    </tr>\n",
       "    <tr>\n",
       "      <th>G</th>\n",
       "      <td>3000</td>\n",
       "      <td>300</td>\n",
       "      <td>30</td>\n",
       "    </tr>\n",
       "    <tr>\n",
       "      <th>Y</th>\n",
       "      <td>4000</td>\n",
       "      <td>400</td>\n",
       "      <td>40</td>\n",
       "    </tr>\n",
       "    <tr>\n",
       "      <th>F</th>\n",
       "      <td>5000</td>\n",
       "      <td>500</td>\n",
       "      <td>50</td>\n",
       "    </tr>\n",
       "  </tbody>\n",
       "</table>\n",
       "</div>"
      ],
      "text/plain": [
       "      A    B   C\n",
       "M  2000  200  20\n",
       "G  3000  300  30\n",
       "Y  4000  400  40\n",
       "F  5000  500  50"
      ]
     },
     "execution_count": 125,
     "metadata": {},
     "output_type": "execute_result"
    }
   ],
   "source": [
    "# change index \n",
    "df2.index = ['M', 'G','Y','F']\n",
    "df2"
   ]
  },
  {
   "cell_type": "code",
   "execution_count": 126,
   "metadata": {},
   "outputs": [],
   "source": [
    "# columns names can be access using columns property"
   ]
  },
  {
   "cell_type": "code",
   "execution_count": 127,
   "metadata": {},
   "outputs": [
    {
     "data": {
      "text/plain": [
       "Index(['A', 'B', 'C'], dtype='object')"
      ]
     },
     "execution_count": 127,
     "metadata": {},
     "output_type": "execute_result"
    }
   ],
   "source": [
    "df2.columns"
   ]
  },
  {
   "cell_type": "code",
   "execution_count": 128,
   "metadata": {},
   "outputs": [
    {
     "data": {
      "text/plain": [
       "Index(['M', 'G', 'Y', 'F'], dtype='object')"
      ]
     },
     "execution_count": 128,
     "metadata": {},
     "output_type": "execute_result"
    }
   ],
   "source": [
    "df2.index"
   ]
  },
  {
   "cell_type": "code",
   "execution_count": 129,
   "metadata": {},
   "outputs": [
    {
     "data": {
      "text/plain": [
       "microsoft    2000\n",
       "google       3000\n",
       "yahoo        4000\n",
       "facebook     5000\n",
       "dtype: int64"
      ]
     },
     "execution_count": 129,
     "metadata": {},
     "output_type": "execute_result"
    }
   ],
   "source": [
    "# Data frame properties \n",
    "# recall series\n",
    "sales2 = pd.Series([2000,3000,4000,5000], index = ['microsoft', 'google','yahoo', 'facebook'])\n",
    "sales2"
   ]
  },
  {
   "cell_type": "code",
   "execution_count": 130,
   "metadata": {},
   "outputs": [
    {
     "data": {
      "text/plain": [
       "microsoft    200\n",
       "google       300\n",
       "yahoo        400\n",
       "facebook     500\n",
       "dtype: int64"
      ]
     },
     "execution_count": 130,
     "metadata": {},
     "output_type": "execute_result"
    }
   ],
   "source": [
    "sales1 = pd.Series([200,300,400,500], index = ['microsoft', 'google','yahoo', 'facebook'])\n",
    "sales"
   ]
  },
  {
   "cell_type": "code",
   "execution_count": 131,
   "metadata": {},
   "outputs": [],
   "source": [
    "sales3 = pd.Series([20,30,40,50], index = ['microsoft', 'google','yahoo', 'facebook'])"
   ]
  },
  {
   "cell_type": "code",
   "execution_count": 132,
   "metadata": {},
   "outputs": [
    {
     "data": {
      "text/plain": [
       "microsoft    20\n",
       "google       30\n",
       "yahoo        40\n",
       "facebook     50\n",
       "dtype: int64"
      ]
     },
     "execution_count": 132,
     "metadata": {},
     "output_type": "execute_result"
    }
   ],
   "source": [
    "sales3"
   ]
  },
  {
   "cell_type": "code",
   "execution_count": 133,
   "metadata": {},
   "outputs": [
    {
     "data": {
      "text/html": [
       "<div>\n",
       "<style scoped>\n",
       "    .dataframe tbody tr th:only-of-type {\n",
       "        vertical-align: middle;\n",
       "    }\n",
       "\n",
       "    .dataframe tbody tr th {\n",
       "        vertical-align: top;\n",
       "    }\n",
       "\n",
       "    .dataframe thead th {\n",
       "        text-align: right;\n",
       "    }\n",
       "</style>\n",
       "<table border=\"1\" class=\"dataframe\">\n",
       "  <thead>\n",
       "    <tr style=\"text-align: right;\">\n",
       "      <th></th>\n",
       "      <th>2017</th>\n",
       "      <th>2018</th>\n",
       "      <th>2019</th>\n",
       "    </tr>\n",
       "  </thead>\n",
       "  <tbody>\n",
       "    <tr>\n",
       "      <th>microsoft</th>\n",
       "      <td>200</td>\n",
       "      <td>2000</td>\n",
       "      <td>20</td>\n",
       "    </tr>\n",
       "    <tr>\n",
       "      <th>google</th>\n",
       "      <td>300</td>\n",
       "      <td>3000</td>\n",
       "      <td>30</td>\n",
       "    </tr>\n",
       "    <tr>\n",
       "      <th>yahoo</th>\n",
       "      <td>400</td>\n",
       "      <td>4000</td>\n",
       "      <td>40</td>\n",
       "    </tr>\n",
       "    <tr>\n",
       "      <th>facebook</th>\n",
       "      <td>500</td>\n",
       "      <td>5000</td>\n",
       "      <td>50</td>\n",
       "    </tr>\n",
       "  </tbody>\n",
       "</table>\n",
       "</div>"
      ],
      "text/plain": [
       "           2017  2018  2019\n",
       "microsoft   200  2000    20\n",
       "google      300  3000    30\n",
       "yahoo       400  4000    40\n",
       "facebook    500  5000    50"
      ]
     },
     "execution_count": 133,
     "metadata": {},
     "output_type": "execute_result"
    }
   ],
   "source": [
    "df1 = pd.DataFrame({2017:sales1, 2018:sales2, 2019:sales3 })\n",
    "df1"
   ]
  },
  {
   "cell_type": "code",
   "execution_count": 134,
   "metadata": {},
   "outputs": [
    {
     "data": {
      "text/html": [
       "<div>\n",
       "<style scoped>\n",
       "    .dataframe tbody tr th:only-of-type {\n",
       "        vertical-align: middle;\n",
       "    }\n",
       "\n",
       "    .dataframe tbody tr th {\n",
       "        vertical-align: top;\n",
       "    }\n",
       "\n",
       "    .dataframe thead th {\n",
       "        text-align: right;\n",
       "    }\n",
       "</style>\n",
       "<table border=\"1\" class=\"dataframe\">\n",
       "  <thead>\n",
       "    <tr style=\"text-align: right;\">\n",
       "      <th></th>\n",
       "      <th>2018</th>\n",
       "    </tr>\n",
       "  </thead>\n",
       "  <tbody>\n",
       "    <tr>\n",
       "      <th>microsoft</th>\n",
       "      <td>2000</td>\n",
       "    </tr>\n",
       "    <tr>\n",
       "      <th>google</th>\n",
       "      <td>3000</td>\n",
       "    </tr>\n",
       "    <tr>\n",
       "      <th>yahoo</th>\n",
       "      <td>4000</td>\n",
       "    </tr>\n",
       "    <tr>\n",
       "      <th>facebook</th>\n",
       "      <td>5000</td>\n",
       "    </tr>\n",
       "  </tbody>\n",
       "</table>\n",
       "</div>"
      ],
      "text/plain": [
       "           2018\n",
       "microsoft  2000\n",
       "google     3000\n",
       "yahoo      4000\n",
       "facebook   5000"
      ]
     },
     "execution_count": 134,
     "metadata": {},
     "output_type": "execute_result"
    }
   ],
   "source": [
    "df1[{2018}]"
   ]
  },
  {
   "cell_type": "code",
   "execution_count": 135,
   "metadata": {},
   "outputs": [
    {
     "data": {
      "text/html": [
       "<div>\n",
       "<style scoped>\n",
       "    .dataframe tbody tr th:only-of-type {\n",
       "        vertical-align: middle;\n",
       "    }\n",
       "\n",
       "    .dataframe tbody tr th {\n",
       "        vertical-align: top;\n",
       "    }\n",
       "\n",
       "    .dataframe thead th {\n",
       "        text-align: right;\n",
       "    }\n",
       "</style>\n",
       "<table border=\"1\" class=\"dataframe\">\n",
       "  <thead>\n",
       "    <tr style=\"text-align: right;\">\n",
       "      <th></th>\n",
       "      <th>2018</th>\n",
       "      <th>2019</th>\n",
       "    </tr>\n",
       "  </thead>\n",
       "  <tbody>\n",
       "    <tr>\n",
       "      <th>microsoft</th>\n",
       "      <td>2000</td>\n",
       "      <td>20</td>\n",
       "    </tr>\n",
       "    <tr>\n",
       "      <th>google</th>\n",
       "      <td>3000</td>\n",
       "      <td>30</td>\n",
       "    </tr>\n",
       "    <tr>\n",
       "      <th>yahoo</th>\n",
       "      <td>4000</td>\n",
       "      <td>40</td>\n",
       "    </tr>\n",
       "    <tr>\n",
       "      <th>facebook</th>\n",
       "      <td>5000</td>\n",
       "      <td>50</td>\n",
       "    </tr>\n",
       "  </tbody>\n",
       "</table>\n",
       "</div>"
      ],
      "text/plain": [
       "           2018  2019\n",
       "microsoft  2000    20\n",
       "google     3000    30\n",
       "yahoo      4000    40\n",
       "facebook   5000    50"
      ]
     },
     "execution_count": 135,
     "metadata": {},
     "output_type": "execute_result"
    }
   ],
   "source": [
    "df1[{2018, 2019}]"
   ]
  },
  {
   "cell_type": "code",
   "execution_count": 137,
   "metadata": {},
   "outputs": [
    {
     "data": {
      "text/html": [
       "<div>\n",
       "<style scoped>\n",
       "    .dataframe tbody tr th:only-of-type {\n",
       "        vertical-align: middle;\n",
       "    }\n",
       "\n",
       "    .dataframe tbody tr th {\n",
       "        vertical-align: top;\n",
       "    }\n",
       "\n",
       "    .dataframe thead th {\n",
       "        text-align: right;\n",
       "    }\n",
       "</style>\n",
       "<table border=\"1\" class=\"dataframe\">\n",
       "  <thead>\n",
       "    <tr style=\"text-align: right;\">\n",
       "      <th></th>\n",
       "      <th>2018</th>\n",
       "      <th>2019</th>\n",
       "    </tr>\n",
       "  </thead>\n",
       "  <tbody>\n",
       "    <tr>\n",
       "      <th>microsoft</th>\n",
       "      <td>2000</td>\n",
       "      <td>20</td>\n",
       "    </tr>\n",
       "    <tr>\n",
       "      <th>google</th>\n",
       "      <td>3000</td>\n",
       "      <td>30</td>\n",
       "    </tr>\n",
       "  </tbody>\n",
       "</table>\n",
       "</div>"
      ],
      "text/plain": [
       "           2018  2019\n",
       "microsoft  2000    20\n",
       "google     3000    30"
      ]
     },
     "execution_count": 137,
     "metadata": {},
     "output_type": "execute_result"
    }
   ],
   "source": [
    "# access columns and row\n",
    "# first two rows\n",
    "df1[[2018,2019]].head(2)"
   ]
  },
  {
   "cell_type": "code",
   "execution_count": 139,
   "metadata": {},
   "outputs": [
    {
     "data": {
      "text/html": [
       "<div>\n",
       "<style scoped>\n",
       "    .dataframe tbody tr th:only-of-type {\n",
       "        vertical-align: middle;\n",
       "    }\n",
       "\n",
       "    .dataframe tbody tr th {\n",
       "        vertical-align: top;\n",
       "    }\n",
       "\n",
       "    .dataframe thead th {\n",
       "        text-align: right;\n",
       "    }\n",
       "</style>\n",
       "<table border=\"1\" class=\"dataframe\">\n",
       "  <thead>\n",
       "    <tr style=\"text-align: right;\">\n",
       "      <th></th>\n",
       "      <th>2018</th>\n",
       "      <th>2019</th>\n",
       "    </tr>\n",
       "  </thead>\n",
       "  <tbody>\n",
       "    <tr>\n",
       "      <th>yahoo</th>\n",
       "      <td>4000</td>\n",
       "      <td>40</td>\n",
       "    </tr>\n",
       "    <tr>\n",
       "      <th>facebook</th>\n",
       "      <td>5000</td>\n",
       "      <td>50</td>\n",
       "    </tr>\n",
       "  </tbody>\n",
       "</table>\n",
       "</div>"
      ],
      "text/plain": [
       "          2018  2019\n",
       "yahoo     4000    40\n",
       "facebook  5000    50"
      ]
     },
     "execution_count": 139,
     "metadata": {},
     "output_type": "execute_result"
    }
   ],
   "source": [
    "#  last 2 rows\n",
    "df1[[2018,2019]].tail(2)"
   ]
  },
  {
   "cell_type": "code",
   "execution_count": 140,
   "metadata": {},
   "outputs": [
    {
     "data": {
      "text/html": [
       "<div>\n",
       "<style scoped>\n",
       "    .dataframe tbody tr th:only-of-type {\n",
       "        vertical-align: middle;\n",
       "    }\n",
       "\n",
       "    .dataframe tbody tr th {\n",
       "        vertical-align: top;\n",
       "    }\n",
       "\n",
       "    .dataframe thead th {\n",
       "        text-align: right;\n",
       "    }\n",
       "</style>\n",
       "<table border=\"1\" class=\"dataframe\">\n",
       "  <thead>\n",
       "    <tr style=\"text-align: right;\">\n",
       "      <th></th>\n",
       "      <th>2018</th>\n",
       "      <th>2019</th>\n",
       "    </tr>\n",
       "  </thead>\n",
       "  <tbody>\n",
       "    <tr>\n",
       "      <th>microsoft</th>\n",
       "      <td>2000</td>\n",
       "      <td>20</td>\n",
       "    </tr>\n",
       "    <tr>\n",
       "      <th>yahoo</th>\n",
       "      <td>4000</td>\n",
       "      <td>40</td>\n",
       "    </tr>\n",
       "  </tbody>\n",
       "</table>\n",
       "</div>"
      ],
      "text/plain": [
       "           2018  2019\n",
       "microsoft  2000    20\n",
       "yahoo      4000    40"
      ]
     },
     "execution_count": 140,
     "metadata": {},
     "output_type": "execute_result"
    }
   ],
   "source": [
    "df1[[2018,2019]].take([0,2])"
   ]
  },
  {
   "cell_type": "code",
   "execution_count": 141,
   "metadata": {},
   "outputs": [
    {
     "data": {
      "text/plain": [
       "pandas.core.frame.DataFrame"
      ]
     },
     "execution_count": 141,
     "metadata": {},
     "output_type": "execute_result"
    }
   ],
   "source": [
    "type(df1[[2018,2019]].take([0,2]))"
   ]
  },
  {
   "cell_type": "code",
   "execution_count": 145,
   "metadata": {},
   "outputs": [
    {
     "data": {
      "text/plain": [
       "pandas.core.series.Series"
      ]
     },
     "execution_count": 145,
     "metadata": {},
     "output_type": "execute_result"
    }
   ],
   "source": [
    "type(df1[2018].head(2))"
   ]
  },
  {
   "cell_type": "code",
   "execution_count": 146,
   "metadata": {},
   "outputs": [
    {
     "data": {
      "text/html": [
       "<div>\n",
       "<style scoped>\n",
       "    .dataframe tbody tr th:only-of-type {\n",
       "        vertical-align: middle;\n",
       "    }\n",
       "\n",
       "    .dataframe tbody tr th {\n",
       "        vertical-align: top;\n",
       "    }\n",
       "\n",
       "    .dataframe thead th {\n",
       "        text-align: right;\n",
       "    }\n",
       "</style>\n",
       "<table border=\"1\" class=\"dataframe\">\n",
       "  <thead>\n",
       "    <tr style=\"text-align: right;\">\n",
       "      <th></th>\n",
       "      <th>2017</th>\n",
       "      <th>2018</th>\n",
       "      <th>2019</th>\n",
       "    </tr>\n",
       "  </thead>\n",
       "  <tbody>\n",
       "    <tr>\n",
       "      <th>google</th>\n",
       "      <td>300</td>\n",
       "      <td>3000</td>\n",
       "      <td>30</td>\n",
       "    </tr>\n",
       "  </tbody>\n",
       "</table>\n",
       "</div>"
      ],
      "text/plain": [
       "        2017  2018  2019\n",
       "google   300  3000    30"
      ]
     },
     "execution_count": 146,
     "metadata": {},
     "output_type": "execute_result"
    }
   ],
   "source": [
    "# create data frames with multiple series objects\n",
    "df1[1:2]"
   ]
  },
  {
   "cell_type": "code",
   "execution_count": 151,
   "metadata": {},
   "outputs": [
    {
     "data": {
      "text/html": [
       "<div>\n",
       "<style scoped>\n",
       "    .dataframe tbody tr th:only-of-type {\n",
       "        vertical-align: middle;\n",
       "    }\n",
       "\n",
       "    .dataframe tbody tr th {\n",
       "        vertical-align: top;\n",
       "    }\n",
       "\n",
       "    .dataframe thead th {\n",
       "        text-align: right;\n",
       "    }\n",
       "</style>\n",
       "<table border=\"1\" class=\"dataframe\">\n",
       "  <thead>\n",
       "    <tr style=\"text-align: right;\">\n",
       "      <th></th>\n",
       "      <th>A</th>\n",
       "      <th>B</th>\n",
       "      <th>C</th>\n",
       "    </tr>\n",
       "  </thead>\n",
       "  <tbody>\n",
       "    <tr>\n",
       "      <th>G</th>\n",
       "      <td>3000</td>\n",
       "      <td>300</td>\n",
       "      <td>30</td>\n",
       "    </tr>\n",
       "    <tr>\n",
       "      <th>Y</th>\n",
       "      <td>4000</td>\n",
       "      <td>400</td>\n",
       "      <td>40</td>\n",
       "    </tr>\n",
       "  </tbody>\n",
       "</table>\n",
       "</div>"
      ],
      "text/plain": [
       "      A    B   C\n",
       "G  3000  300  30\n",
       "Y  4000  400  40"
      ]
     },
     "execution_count": 151,
     "metadata": {},
     "output_type": "execute_result"
    }
   ],
   "source": [
    "df2[1:3]"
   ]
  },
  {
   "cell_type": "code",
   "execution_count": 152,
   "metadata": {},
   "outputs": [
    {
     "data": {
      "text/html": [
       "<div>\n",
       "<style scoped>\n",
       "    .dataframe tbody tr th:only-of-type {\n",
       "        vertical-align: middle;\n",
       "    }\n",
       "\n",
       "    .dataframe tbody tr th {\n",
       "        vertical-align: top;\n",
       "    }\n",
       "\n",
       "    .dataframe thead th {\n",
       "        text-align: right;\n",
       "    }\n",
       "</style>\n",
       "<table border=\"1\" class=\"dataframe\">\n",
       "  <thead>\n",
       "    <tr style=\"text-align: right;\">\n",
       "      <th></th>\n",
       "      <th>2017</th>\n",
       "      <th>2018</th>\n",
       "      <th>2019</th>\n",
       "    </tr>\n",
       "  </thead>\n",
       "  <tbody>\n",
       "    <tr>\n",
       "      <th>microsoft</th>\n",
       "      <td>200</td>\n",
       "      <td>2000</td>\n",
       "      <td>20</td>\n",
       "    </tr>\n",
       "    <tr>\n",
       "      <th>google</th>\n",
       "      <td>300</td>\n",
       "      <td>3000</td>\n",
       "      <td>30</td>\n",
       "    </tr>\n",
       "  </tbody>\n",
       "</table>\n",
       "</div>"
      ],
      "text/plain": [
       "           2017  2018  2019\n",
       "microsoft   200  2000    20\n",
       "google      300  3000    30"
      ]
     },
     "execution_count": 152,
     "metadata": {},
     "output_type": "execute_result"
    }
   ],
   "source": [
    "df1[:2]"
   ]
  },
  {
   "cell_type": "code",
   "execution_count": 153,
   "metadata": {},
   "outputs": [
    {
     "data": {
      "text/html": [
       "<div>\n",
       "<style scoped>\n",
       "    .dataframe tbody tr th:only-of-type {\n",
       "        vertical-align: middle;\n",
       "    }\n",
       "\n",
       "    .dataframe tbody tr th {\n",
       "        vertical-align: top;\n",
       "    }\n",
       "\n",
       "    .dataframe thead th {\n",
       "        text-align: right;\n",
       "    }\n",
       "</style>\n",
       "<table border=\"1\" class=\"dataframe\">\n",
       "  <thead>\n",
       "    <tr style=\"text-align: right;\">\n",
       "      <th></th>\n",
       "      <th>A</th>\n",
       "      <th>B</th>\n",
       "      <th>C</th>\n",
       "    </tr>\n",
       "  </thead>\n",
       "  <tbody>\n",
       "    <tr>\n",
       "      <th>microsoft</th>\n",
       "      <td>200</td>\n",
       "      <td>2000</td>\n",
       "      <td>20</td>\n",
       "    </tr>\n",
       "    <tr>\n",
       "      <th>google</th>\n",
       "      <td>300</td>\n",
       "      <td>3000</td>\n",
       "      <td>30</td>\n",
       "    </tr>\n",
       "    <tr>\n",
       "      <th>yahoo</th>\n",
       "      <td>400</td>\n",
       "      <td>4000</td>\n",
       "      <td>40</td>\n",
       "    </tr>\n",
       "    <tr>\n",
       "      <th>facebook</th>\n",
       "      <td>500</td>\n",
       "      <td>5000</td>\n",
       "      <td>50</td>\n",
       "    </tr>\n",
       "  </tbody>\n",
       "</table>\n",
       "</div>"
      ],
      "text/plain": [
       "             A     B   C\n",
       "microsoft  200  2000  20\n",
       "google     300  3000  30\n",
       "yahoo      400  4000  40\n",
       "facebook   500  5000  50"
      ]
     },
     "execution_count": 153,
     "metadata": {},
     "output_type": "execute_result"
    }
   ],
   "source": [
    "df3= pd.DataFrame({'A':sales1, 'B': sales2, 'C':sales3})\n",
    "df3"
   ]
  },
  {
   "cell_type": "code",
   "execution_count": 155,
   "metadata": {},
   "outputs": [
    {
     "data": {
      "text/plain": [
       "M    False\n",
       "G    False\n",
       "Y     True\n",
       "F     True\n",
       "Name: B, dtype: bool"
      ]
     },
     "execution_count": 155,
     "metadata": {},
     "output_type": "execute_result"
    }
   ],
   "source": [
    "# row greater than 200\n",
    "df2.A > 300\n",
    "df2.B > 300"
   ]
  },
  {
   "cell_type": "code",
   "execution_count": 156,
   "metadata": {},
   "outputs": [
    {
     "data": {
      "text/plain": [
       "M    False\n",
       "G    False\n",
       "Y    False\n",
       "F    False\n",
       "Name: C, dtype: bool"
      ]
     },
     "execution_count": 156,
     "metadata": {},
     "output_type": "execute_result"
    }
   ],
   "source": [
    "df2.C>300"
   ]
  },
  {
   "cell_type": "code",
   "execution_count": 160,
   "metadata": {},
   "outputs": [
    {
     "data": {
      "text/plain": [
       "3000"
      ]
     },
     "execution_count": 160,
     "metadata": {},
     "output_type": "execute_result"
    }
   ],
   "source": [
    "# access google sale in 2018\n",
    "df1.at['google', 2018]"
   ]
  },
  {
   "cell_type": "code",
   "execution_count": 161,
   "metadata": {},
   "outputs": [
    {
     "data": {
      "text/plain": [
       "20"
      ]
     },
     "execution_count": 161,
     "metadata": {},
     "output_type": "execute_result"
    }
   ],
   "source": [
    "# row 1 and colums 2\n",
    "df1.iat[0,2]"
   ]
  },
  {
   "cell_type": "code",
   "execution_count": 162,
   "metadata": {},
   "outputs": [
    {
     "data": {
      "text/html": [
       "<div>\n",
       "<style scoped>\n",
       "    .dataframe tbody tr th:only-of-type {\n",
       "        vertical-align: middle;\n",
       "    }\n",
       "\n",
       "    .dataframe tbody tr th {\n",
       "        vertical-align: top;\n",
       "    }\n",
       "\n",
       "    .dataframe thead th {\n",
       "        text-align: right;\n",
       "    }\n",
       "</style>\n",
       "<table border=\"1\" class=\"dataframe\">\n",
       "  <thead>\n",
       "    <tr style=\"text-align: right;\">\n",
       "      <th></th>\n",
       "      <th>2017</th>\n",
       "      <th>2018</th>\n",
       "      <th>2019</th>\n",
       "    </tr>\n",
       "  </thead>\n",
       "  <tbody>\n",
       "    <tr>\n",
       "      <th>microsoft</th>\n",
       "      <td>200</td>\n",
       "      <td>2000</td>\n",
       "      <td>20</td>\n",
       "    </tr>\n",
       "    <tr>\n",
       "      <th>google</th>\n",
       "      <td>300</td>\n",
       "      <td>3000</td>\n",
       "      <td>30</td>\n",
       "    </tr>\n",
       "    <tr>\n",
       "      <th>yahoo</th>\n",
       "      <td>400</td>\n",
       "      <td>4000</td>\n",
       "      <td>40</td>\n",
       "    </tr>\n",
       "    <tr>\n",
       "      <th>facebook</th>\n",
       "      <td>500</td>\n",
       "      <td>5000</td>\n",
       "      <td>50</td>\n",
       "    </tr>\n",
       "  </tbody>\n",
       "</table>\n",
       "</div>"
      ],
      "text/plain": [
       "           2017  2018  2019\n",
       "microsoft   200  2000    20\n",
       "google      300  3000    30\n",
       "yahoo       400  4000    40\n",
       "facebook    500  5000    50"
      ]
     },
     "execution_count": 162,
     "metadata": {},
     "output_type": "execute_result"
    }
   ],
   "source": [
    "df1"
   ]
  },
  {
   "cell_type": "code",
   "execution_count": 164,
   "metadata": {},
   "outputs": [
    {
     "data": {
      "text/html": [
       "<div>\n",
       "<style scoped>\n",
       "    .dataframe tbody tr th:only-of-type {\n",
       "        vertical-align: middle;\n",
       "    }\n",
       "\n",
       "    .dataframe tbody tr th {\n",
       "        vertical-align: top;\n",
       "    }\n",
       "\n",
       "    .dataframe thead th {\n",
       "        text-align: right;\n",
       "    }\n",
       "</style>\n",
       "<table border=\"1\" class=\"dataframe\">\n",
       "  <thead>\n",
       "    <tr style=\"text-align: right;\">\n",
       "      <th></th>\n",
       "      <th>2017</th>\n",
       "      <th>2014</th>\n",
       "      <th>2019</th>\n",
       "    </tr>\n",
       "  </thead>\n",
       "  <tbody>\n",
       "    <tr>\n",
       "      <th>microsoft</th>\n",
       "      <td>200</td>\n",
       "      <td>2000</td>\n",
       "      <td>20</td>\n",
       "    </tr>\n",
       "    <tr>\n",
       "      <th>google</th>\n",
       "      <td>300</td>\n",
       "      <td>3000</td>\n",
       "      <td>30</td>\n",
       "    </tr>\n",
       "    <tr>\n",
       "      <th>yahoo</th>\n",
       "      <td>400</td>\n",
       "      <td>4000</td>\n",
       "      <td>40</td>\n",
       "    </tr>\n",
       "    <tr>\n",
       "      <th>facebook</th>\n",
       "      <td>500</td>\n",
       "      <td>5000</td>\n",
       "      <td>50</td>\n",
       "    </tr>\n",
       "  </tbody>\n",
       "</table>\n",
       "</div>"
      ],
      "text/plain": [
       "           2017  2014  2019\n",
       "microsoft   200  2000    20\n",
       "google      300  3000    30\n",
       "yahoo       400  4000    40\n",
       "facebook    500  5000    50"
      ]
     },
     "execution_count": 164,
     "metadata": {},
     "output_type": "execute_result"
    }
   ],
   "source": [
    "# suppose data frame has wrong column name, \"rename\" will use\n",
    "# lets change 2018 to 2014, but data is not change\n",
    "new_df = df1.rename(columns = {2018:2014})\n",
    "new_df"
   ]
  },
  {
   "cell_type": "code",
   "execution_count": 165,
   "metadata": {},
   "outputs": [
    {
     "data": {
      "text/html": [
       "<div>\n",
       "<style scoped>\n",
       "    .dataframe tbody tr th:only-of-type {\n",
       "        vertical-align: middle;\n",
       "    }\n",
       "\n",
       "    .dataframe tbody tr th {\n",
       "        vertical-align: top;\n",
       "    }\n",
       "\n",
       "    .dataframe thead th {\n",
       "        text-align: right;\n",
       "    }\n",
       "</style>\n",
       "<table border=\"1\" class=\"dataframe\">\n",
       "  <thead>\n",
       "    <tr style=\"text-align: right;\">\n",
       "      <th></th>\n",
       "      <th>2017</th>\n",
       "      <th>2018</th>\n",
       "      <th>2019</th>\n",
       "    </tr>\n",
       "  </thead>\n",
       "  <tbody>\n",
       "    <tr>\n",
       "      <th>microsoft</th>\n",
       "      <td>200</td>\n",
       "      <td>2000</td>\n",
       "      <td>20</td>\n",
       "    </tr>\n",
       "    <tr>\n",
       "      <th>google</th>\n",
       "      <td>300</td>\n",
       "      <td>3000</td>\n",
       "      <td>30</td>\n",
       "    </tr>\n",
       "    <tr>\n",
       "      <th>yahoo</th>\n",
       "      <td>400</td>\n",
       "      <td>4000</td>\n",
       "      <td>40</td>\n",
       "    </tr>\n",
       "    <tr>\n",
       "      <th>facebook</th>\n",
       "      <td>500</td>\n",
       "      <td>5000</td>\n",
       "      <td>50</td>\n",
       "    </tr>\n",
       "  </tbody>\n",
       "</table>\n",
       "</div>"
      ],
      "text/plain": [
       "           2017  2018  2019\n",
       "microsoft   200  2000    20\n",
       "google      300  3000    30\n",
       "yahoo       400  4000    40\n",
       "facebook    500  5000    50"
      ]
     },
     "execution_count": 165,
     "metadata": {},
     "output_type": "execute_result"
    }
   ],
   "source": [
    "df1"
   ]
  },
  {
   "cell_type": "code",
   "execution_count": 168,
   "metadata": {},
   "outputs": [
    {
     "data": {
      "text/html": [
       "<div>\n",
       "<style scoped>\n",
       "    .dataframe tbody tr th:only-of-type {\n",
       "        vertical-align: middle;\n",
       "    }\n",
       "\n",
       "    .dataframe tbody tr th {\n",
       "        vertical-align: top;\n",
       "    }\n",
       "\n",
       "    .dataframe thead th {\n",
       "        text-align: right;\n",
       "    }\n",
       "</style>\n",
       "<table border=\"1\" class=\"dataframe\">\n",
       "  <thead>\n",
       "    <tr style=\"text-align: right;\">\n",
       "      <th></th>\n",
       "      <th>2017</th>\n",
       "      <th>2014</th>\n",
       "      <th>2019</th>\n",
       "    </tr>\n",
       "  </thead>\n",
       "  <tbody>\n",
       "    <tr>\n",
       "      <th>microsoft</th>\n",
       "      <td>200</td>\n",
       "      <td>2000</td>\n",
       "      <td>20</td>\n",
       "    </tr>\n",
       "    <tr>\n",
       "      <th>google</th>\n",
       "      <td>300</td>\n",
       "      <td>3000</td>\n",
       "      <td>30</td>\n",
       "    </tr>\n",
       "    <tr>\n",
       "      <th>yahoo</th>\n",
       "      <td>400</td>\n",
       "      <td>4000</td>\n",
       "      <td>40</td>\n",
       "    </tr>\n",
       "    <tr>\n",
       "      <th>facebook</th>\n",
       "      <td>500</td>\n",
       "      <td>5000</td>\n",
       "      <td>50</td>\n",
       "    </tr>\n",
       "  </tbody>\n",
       "</table>\n",
       "</div>"
      ],
      "text/plain": [
       "           2017  2014  2019\n",
       "microsoft   200  2000    20\n",
       "google      300  3000    30\n",
       "yahoo       400  4000    40\n",
       "facebook    500  5000    50"
      ]
     },
     "execution_count": 168,
     "metadata": {},
     "output_type": "execute_result"
    }
   ],
   "source": [
    "# modification not in original\n",
    "df1.rename(columns = {2018:2014})"
   ]
  },
  {
   "cell_type": "code",
   "execution_count": 170,
   "metadata": {},
   "outputs": [],
   "source": [
    "# change in original\n",
    "df1.rename(columns = {2018:2014}, inplace = True)"
   ]
  },
  {
   "cell_type": "code",
   "execution_count": 171,
   "metadata": {},
   "outputs": [
    {
     "data": {
      "text/html": [
       "<div>\n",
       "<style scoped>\n",
       "    .dataframe tbody tr th:only-of-type {\n",
       "        vertical-align: middle;\n",
       "    }\n",
       "\n",
       "    .dataframe tbody tr th {\n",
       "        vertical-align: top;\n",
       "    }\n",
       "\n",
       "    .dataframe thead th {\n",
       "        text-align: right;\n",
       "    }\n",
       "</style>\n",
       "<table border=\"1\" class=\"dataframe\">\n",
       "  <thead>\n",
       "    <tr style=\"text-align: right;\">\n",
       "      <th></th>\n",
       "      <th>2017</th>\n",
       "      <th>2014</th>\n",
       "      <th>2019</th>\n",
       "    </tr>\n",
       "  </thead>\n",
       "  <tbody>\n",
       "    <tr>\n",
       "      <th>microsoft</th>\n",
       "      <td>200</td>\n",
       "      <td>2000</td>\n",
       "      <td>20</td>\n",
       "    </tr>\n",
       "    <tr>\n",
       "      <th>google</th>\n",
       "      <td>300</td>\n",
       "      <td>3000</td>\n",
       "      <td>30</td>\n",
       "    </tr>\n",
       "    <tr>\n",
       "      <th>yahoo</th>\n",
       "      <td>400</td>\n",
       "      <td>4000</td>\n",
       "      <td>40</td>\n",
       "    </tr>\n",
       "    <tr>\n",
       "      <th>facebook</th>\n",
       "      <td>500</td>\n",
       "      <td>5000</td>\n",
       "      <td>50</td>\n",
       "    </tr>\n",
       "  </tbody>\n",
       "</table>\n",
       "</div>"
      ],
      "text/plain": [
       "           2017  2014  2019\n",
       "microsoft   200  2000    20\n",
       "google      300  3000    30\n",
       "yahoo       400  4000    40\n",
       "facebook    500  5000    50"
      ]
     },
     "execution_count": 171,
     "metadata": {},
     "output_type": "execute_result"
    }
   ],
   "source": [
    "df1"
   ]
  },
  {
   "cell_type": "code",
   "execution_count": 172,
   "metadata": {},
   "outputs": [],
   "source": [
    "# change new colums\n",
    "df1[2020] = ([20,30,50,60])"
   ]
  },
  {
   "cell_type": "code",
   "execution_count": 174,
   "metadata": {},
   "outputs": [
    {
     "data": {
      "text/html": [
       "<div>\n",
       "<style scoped>\n",
       "    .dataframe tbody tr th:only-of-type {\n",
       "        vertical-align: middle;\n",
       "    }\n",
       "\n",
       "    .dataframe tbody tr th {\n",
       "        vertical-align: top;\n",
       "    }\n",
       "\n",
       "    .dataframe thead th {\n",
       "        text-align: right;\n",
       "    }\n",
       "</style>\n",
       "<table border=\"1\" class=\"dataframe\">\n",
       "  <thead>\n",
       "    <tr style=\"text-align: right;\">\n",
       "      <th></th>\n",
       "      <th>2017</th>\n",
       "      <th>2014</th>\n",
       "      <th>2019</th>\n",
       "      <th>2020</th>\n",
       "    </tr>\n",
       "  </thead>\n",
       "  <tbody>\n",
       "    <tr>\n",
       "      <th>microsoft</th>\n",
       "      <td>200</td>\n",
       "      <td>2000</td>\n",
       "      <td>20</td>\n",
       "      <td>20</td>\n",
       "    </tr>\n",
       "    <tr>\n",
       "      <th>google</th>\n",
       "      <td>300</td>\n",
       "      <td>3000</td>\n",
       "      <td>30</td>\n",
       "      <td>30</td>\n",
       "    </tr>\n",
       "    <tr>\n",
       "      <th>yahoo</th>\n",
       "      <td>400</td>\n",
       "      <td>4000</td>\n",
       "      <td>40</td>\n",
       "      <td>50</td>\n",
       "    </tr>\n",
       "    <tr>\n",
       "      <th>facebook</th>\n",
       "      <td>500</td>\n",
       "      <td>5000</td>\n",
       "      <td>50</td>\n",
       "      <td>60</td>\n",
       "    </tr>\n",
       "  </tbody>\n",
       "</table>\n",
       "</div>"
      ],
      "text/plain": [
       "           2017  2014  2019  2020\n",
       "microsoft   200  2000    20    20\n",
       "google      300  3000    30    30\n",
       "yahoo       400  4000    40    50\n",
       "facebook    500  5000    50    60"
      ]
     },
     "execution_count": 174,
     "metadata": {},
     "output_type": "execute_result"
    }
   ],
   "source": [
    "# by this new column will add\n",
    "df1"
   ]
  },
  {
   "cell_type": "code",
   "execution_count": 175,
   "metadata": {},
   "outputs": [
    {
     "data": {
      "text/html": [
       "<div>\n",
       "<style scoped>\n",
       "    .dataframe tbody tr th:only-of-type {\n",
       "        vertical-align: middle;\n",
       "    }\n",
       "\n",
       "    .dataframe tbody tr th {\n",
       "        vertical-align: top;\n",
       "    }\n",
       "\n",
       "    .dataframe thead th {\n",
       "        text-align: right;\n",
       "    }\n",
       "</style>\n",
       "<table border=\"1\" class=\"dataframe\">\n",
       "  <thead>\n",
       "    <tr style=\"text-align: right;\">\n",
       "      <th></th>\n",
       "      <th>2017</th>\n",
       "      <th>2014</th>\n",
       "      <th>2019</th>\n",
       "      <th>2020</th>\n",
       "    </tr>\n",
       "  </thead>\n",
       "  <tbody>\n",
       "    <tr>\n",
       "      <th>microsoft</th>\n",
       "      <td>200</td>\n",
       "      <td>2000</td>\n",
       "      <td>20</td>\n",
       "      <td>20</td>\n",
       "    </tr>\n",
       "    <tr>\n",
       "      <th>google</th>\n",
       "      <td>300</td>\n",
       "      <td>3000</td>\n",
       "      <td>30</td>\n",
       "      <td>30</td>\n",
       "    </tr>\n",
       "    <tr>\n",
       "      <th>yahoo</th>\n",
       "      <td>400</td>\n",
       "      <td>4000</td>\n",
       "      <td>40</td>\n",
       "      <td>50</td>\n",
       "    </tr>\n",
       "    <tr>\n",
       "      <th>facebook</th>\n",
       "      <td>500</td>\n",
       "      <td>5000</td>\n",
       "      <td>50</td>\n",
       "      <td>60</td>\n",
       "    </tr>\n",
       "  </tbody>\n",
       "</table>\n",
       "</div>"
      ],
      "text/plain": [
       "           2017  2014  2019  2020\n",
       "microsoft   200  2000    20    20\n",
       "google      300  3000    30    30\n",
       "yahoo       400  4000    40    50\n",
       "facebook    500  5000    50    60"
      ]
     },
     "execution_count": 175,
     "metadata": {},
     "output_type": "execute_result"
    }
   ],
   "source": [
    "df1"
   ]
  },
  {
   "cell_type": "code",
   "execution_count": 176,
   "metadata": {},
   "outputs": [
    {
     "data": {
      "text/html": [
       "<div>\n",
       "<style scoped>\n",
       "    .dataframe tbody tr th:only-of-type {\n",
       "        vertical-align: middle;\n",
       "    }\n",
       "\n",
       "    .dataframe tbody tr th {\n",
       "        vertical-align: top;\n",
       "    }\n",
       "\n",
       "    .dataframe thead th {\n",
       "        text-align: right;\n",
       "    }\n",
       "</style>\n",
       "<table border=\"1\" class=\"dataframe\">\n",
       "  <thead>\n",
       "    <tr style=\"text-align: right;\">\n",
       "      <th></th>\n",
       "      <th>2017</th>\n",
       "      <th>2014</th>\n",
       "      <th>2019</th>\n",
       "      <th>2008</th>\n",
       "      <th>2020</th>\n",
       "    </tr>\n",
       "  </thead>\n",
       "  <tbody>\n",
       "    <tr>\n",
       "      <th>microsoft</th>\n",
       "      <td>200</td>\n",
       "      <td>2000</td>\n",
       "      <td>20</td>\n",
       "      <td>20</td>\n",
       "      <td>20</td>\n",
       "    </tr>\n",
       "    <tr>\n",
       "      <th>google</th>\n",
       "      <td>300</td>\n",
       "      <td>3000</td>\n",
       "      <td>30</td>\n",
       "      <td>30</td>\n",
       "      <td>30</td>\n",
       "    </tr>\n",
       "    <tr>\n",
       "      <th>yahoo</th>\n",
       "      <td>400</td>\n",
       "      <td>4000</td>\n",
       "      <td>40</td>\n",
       "      <td>50</td>\n",
       "      <td>50</td>\n",
       "    </tr>\n",
       "    <tr>\n",
       "      <th>facebook</th>\n",
       "      <td>500</td>\n",
       "      <td>5000</td>\n",
       "      <td>50</td>\n",
       "      <td>55</td>\n",
       "      <td>60</td>\n",
       "    </tr>\n",
       "  </tbody>\n",
       "</table>\n",
       "</div>"
      ],
      "text/plain": [
       "           2017  2014  2019  2008  2020\n",
       "microsoft   200  2000    20    20    20\n",
       "google      300  3000    30    30    30\n",
       "yahoo       400  4000    40    50    50\n",
       "facebook    500  5000    50    55    60"
      ]
     },
     "execution_count": 176,
     "metadata": {},
     "output_type": "execute_result"
    }
   ],
   "source": [
    "# add new column at specific position\n",
    "df1.insert(3,2008,[20,30,50,55])\n",
    "df1"
   ]
  },
  {
   "cell_type": "code",
   "execution_count": 177,
   "metadata": {},
   "outputs": [],
   "source": [
    "# change the column name\n",
    "df1.columns = ['a','b','c','d','e']"
   ]
  },
  {
   "cell_type": "code",
   "execution_count": 179,
   "metadata": {},
   "outputs": [
    {
     "data": {
      "text/html": [
       "<div>\n",
       "<style scoped>\n",
       "    .dataframe tbody tr th:only-of-type {\n",
       "        vertical-align: middle;\n",
       "    }\n",
       "\n",
       "    .dataframe tbody tr th {\n",
       "        vertical-align: top;\n",
       "    }\n",
       "\n",
       "    .dataframe thead th {\n",
       "        text-align: right;\n",
       "    }\n",
       "</style>\n",
       "<table border=\"1\" class=\"dataframe\">\n",
       "  <thead>\n",
       "    <tr style=\"text-align: right;\">\n",
       "      <th></th>\n",
       "      <th>a</th>\n",
       "      <th>b</th>\n",
       "      <th>c</th>\n",
       "      <th>d</th>\n",
       "      <th>e</th>\n",
       "    </tr>\n",
       "  </thead>\n",
       "  <tbody>\n",
       "    <tr>\n",
       "      <th>microsoft</th>\n",
       "      <td>200</td>\n",
       "      <td>2000</td>\n",
       "      <td>20</td>\n",
       "      <td>20</td>\n",
       "      <td>20</td>\n",
       "    </tr>\n",
       "    <tr>\n",
       "      <th>google</th>\n",
       "      <td>300</td>\n",
       "      <td>3000</td>\n",
       "      <td>30</td>\n",
       "      <td>30</td>\n",
       "      <td>30</td>\n",
       "    </tr>\n",
       "    <tr>\n",
       "      <th>yahoo</th>\n",
       "      <td>400</td>\n",
       "      <td>4000</td>\n",
       "      <td>40</td>\n",
       "      <td>50</td>\n",
       "      <td>50</td>\n",
       "    </tr>\n",
       "    <tr>\n",
       "      <th>facebook</th>\n",
       "      <td>500</td>\n",
       "      <td>5000</td>\n",
       "      <td>50</td>\n",
       "      <td>55</td>\n",
       "      <td>60</td>\n",
       "    </tr>\n",
       "  </tbody>\n",
       "</table>\n",
       "</div>"
      ],
      "text/plain": [
       "             a     b   c   d   e\n",
       "microsoft  200  2000  20  20  20\n",
       "google     300  3000  30  30  30\n",
       "yahoo      400  4000  40  50  50\n",
       "facebook   500  5000  50  55  60"
      ]
     },
     "execution_count": 179,
     "metadata": {},
     "output_type": "execute_result"
    }
   ],
   "source": [
    "df1"
   ]
  },
  {
   "cell_type": "code",
   "execution_count": 180,
   "metadata": {},
   "outputs": [],
   "source": [
    "# check relations\n",
    "df1.a = df1.b/2"
   ]
  },
  {
   "cell_type": "code",
   "execution_count": 181,
   "metadata": {},
   "outputs": [
    {
     "data": {
      "text/html": [
       "<div>\n",
       "<style scoped>\n",
       "    .dataframe tbody tr th:only-of-type {\n",
       "        vertical-align: middle;\n",
       "    }\n",
       "\n",
       "    .dataframe tbody tr th {\n",
       "        vertical-align: top;\n",
       "    }\n",
       "\n",
       "    .dataframe thead th {\n",
       "        text-align: right;\n",
       "    }\n",
       "</style>\n",
       "<table border=\"1\" class=\"dataframe\">\n",
       "  <thead>\n",
       "    <tr style=\"text-align: right;\">\n",
       "      <th></th>\n",
       "      <th>a</th>\n",
       "      <th>b</th>\n",
       "      <th>c</th>\n",
       "      <th>d</th>\n",
       "      <th>e</th>\n",
       "    </tr>\n",
       "  </thead>\n",
       "  <tbody>\n",
       "    <tr>\n",
       "      <th>microsoft</th>\n",
       "      <td>1000.0</td>\n",
       "      <td>2000</td>\n",
       "      <td>20</td>\n",
       "      <td>20</td>\n",
       "      <td>20</td>\n",
       "    </tr>\n",
       "    <tr>\n",
       "      <th>google</th>\n",
       "      <td>1500.0</td>\n",
       "      <td>3000</td>\n",
       "      <td>30</td>\n",
       "      <td>30</td>\n",
       "      <td>30</td>\n",
       "    </tr>\n",
       "    <tr>\n",
       "      <th>yahoo</th>\n",
       "      <td>2000.0</td>\n",
       "      <td>4000</td>\n",
       "      <td>40</td>\n",
       "      <td>50</td>\n",
       "      <td>50</td>\n",
       "    </tr>\n",
       "    <tr>\n",
       "      <th>facebook</th>\n",
       "      <td>2500.0</td>\n",
       "      <td>5000</td>\n",
       "      <td>50</td>\n",
       "      <td>55</td>\n",
       "      <td>60</td>\n",
       "    </tr>\n",
       "  </tbody>\n",
       "</table>\n",
       "</div>"
      ],
      "text/plain": [
       "                a     b   c   d   e\n",
       "microsoft  1000.0  2000  20  20  20\n",
       "google     1500.0  3000  30  30  30\n",
       "yahoo      2000.0  4000  40  50  50\n",
       "facebook   2500.0  5000  50  55  60"
      ]
     },
     "execution_count": 181,
     "metadata": {},
     "output_type": "execute_result"
    }
   ],
   "source": [
    "df1"
   ]
  },
  {
   "cell_type": "code",
   "execution_count": 182,
   "metadata": {},
   "outputs": [],
   "source": [
    "# delete column\n",
    "del df1['a']\n"
   ]
  },
  {
   "cell_type": "code",
   "execution_count": 183,
   "metadata": {},
   "outputs": [
    {
     "data": {
      "text/html": [
       "<div>\n",
       "<style scoped>\n",
       "    .dataframe tbody tr th:only-of-type {\n",
       "        vertical-align: middle;\n",
       "    }\n",
       "\n",
       "    .dataframe tbody tr th {\n",
       "        vertical-align: top;\n",
       "    }\n",
       "\n",
       "    .dataframe thead th {\n",
       "        text-align: right;\n",
       "    }\n",
       "</style>\n",
       "<table border=\"1\" class=\"dataframe\">\n",
       "  <thead>\n",
       "    <tr style=\"text-align: right;\">\n",
       "      <th></th>\n",
       "      <th>b</th>\n",
       "      <th>c</th>\n",
       "      <th>d</th>\n",
       "      <th>e</th>\n",
       "    </tr>\n",
       "  </thead>\n",
       "  <tbody>\n",
       "    <tr>\n",
       "      <th>microsoft</th>\n",
       "      <td>2000</td>\n",
       "      <td>20</td>\n",
       "      <td>20</td>\n",
       "      <td>20</td>\n",
       "    </tr>\n",
       "    <tr>\n",
       "      <th>google</th>\n",
       "      <td>3000</td>\n",
       "      <td>30</td>\n",
       "      <td>30</td>\n",
       "      <td>30</td>\n",
       "    </tr>\n",
       "    <tr>\n",
       "      <th>yahoo</th>\n",
       "      <td>4000</td>\n",
       "      <td>40</td>\n",
       "      <td>50</td>\n",
       "      <td>50</td>\n",
       "    </tr>\n",
       "    <tr>\n",
       "      <th>facebook</th>\n",
       "      <td>5000</td>\n",
       "      <td>50</td>\n",
       "      <td>55</td>\n",
       "      <td>60</td>\n",
       "    </tr>\n",
       "  </tbody>\n",
       "</table>\n",
       "</div>"
      ],
      "text/plain": [
       "              b   c   d   e\n",
       "microsoft  2000  20  20  20\n",
       "google     3000  30  30  30\n",
       "yahoo      4000  40  50  50\n",
       "facebook   5000  50  55  60"
      ]
     },
     "execution_count": 183,
     "metadata": {},
     "output_type": "execute_result"
    }
   ],
   "source": [
    "df1"
   ]
  },
  {
   "cell_type": "code",
   "execution_count": 184,
   "metadata": {},
   "outputs": [],
   "source": [
    "pop_method = df1.pop('b')"
   ]
  },
  {
   "cell_type": "code",
   "execution_count": 185,
   "metadata": {},
   "outputs": [
    {
     "data": {
      "text/html": [
       "<div>\n",
       "<style scoped>\n",
       "    .dataframe tbody tr th:only-of-type {\n",
       "        vertical-align: middle;\n",
       "    }\n",
       "\n",
       "    .dataframe tbody tr th {\n",
       "        vertical-align: top;\n",
       "    }\n",
       "\n",
       "    .dataframe thead th {\n",
       "        text-align: right;\n",
       "    }\n",
       "</style>\n",
       "<table border=\"1\" class=\"dataframe\">\n",
       "  <thead>\n",
       "    <tr style=\"text-align: right;\">\n",
       "      <th></th>\n",
       "      <th>c</th>\n",
       "      <th>d</th>\n",
       "      <th>e</th>\n",
       "    </tr>\n",
       "  </thead>\n",
       "  <tbody>\n",
       "    <tr>\n",
       "      <th>microsoft</th>\n",
       "      <td>20</td>\n",
       "      <td>20</td>\n",
       "      <td>20</td>\n",
       "    </tr>\n",
       "    <tr>\n",
       "      <th>google</th>\n",
       "      <td>30</td>\n",
       "      <td>30</td>\n",
       "      <td>30</td>\n",
       "    </tr>\n",
       "    <tr>\n",
       "      <th>yahoo</th>\n",
       "      <td>40</td>\n",
       "      <td>50</td>\n",
       "      <td>50</td>\n",
       "    </tr>\n",
       "    <tr>\n",
       "      <th>facebook</th>\n",
       "      <td>50</td>\n",
       "      <td>55</td>\n",
       "      <td>60</td>\n",
       "    </tr>\n",
       "  </tbody>\n",
       "</table>\n",
       "</div>"
      ],
      "text/plain": [
       "            c   d   e\n",
       "microsoft  20  20  20\n",
       "google     30  30  30\n",
       "yahoo      40  50  50\n",
       "facebook   50  55  60"
      ]
     },
     "execution_count": 185,
     "metadata": {},
     "output_type": "execute_result"
    }
   ],
   "source": [
    "df1"
   ]
  },
  {
   "cell_type": "code",
   "execution_count": 186,
   "metadata": {},
   "outputs": [
    {
     "data": {
      "text/plain": [
       "microsoft    2000\n",
       "google       3000\n",
       "yahoo        4000\n",
       "facebook     5000\n",
       "Name: b, dtype: int64"
      ]
     },
     "execution_count": 186,
     "metadata": {},
     "output_type": "execute_result"
    }
   ],
   "source": [
    "pop_method"
   ]
  },
  {
   "cell_type": "code",
   "execution_count": 187,
   "metadata": {},
   "outputs": [],
   "source": [
    "# pop will save deleted method"
   ]
  },
  {
   "cell_type": "code",
   "execution_count": 189,
   "metadata": {},
   "outputs": [],
   "source": [
    "# show all column data except 'd'\n",
    "drop_method = df1.drop(['d'], axis =1)"
   ]
  },
  {
   "cell_type": "code",
   "execution_count": 191,
   "metadata": {},
   "outputs": [
    {
     "data": {
      "text/html": [
       "<div>\n",
       "<style scoped>\n",
       "    .dataframe tbody tr th:only-of-type {\n",
       "        vertical-align: middle;\n",
       "    }\n",
       "\n",
       "    .dataframe tbody tr th {\n",
       "        vertical-align: top;\n",
       "    }\n",
       "\n",
       "    .dataframe thead th {\n",
       "        text-align: right;\n",
       "    }\n",
       "</style>\n",
       "<table border=\"1\" class=\"dataframe\">\n",
       "  <thead>\n",
       "    <tr style=\"text-align: right;\">\n",
       "      <th></th>\n",
       "      <th>c</th>\n",
       "      <th>d</th>\n",
       "      <th>e</th>\n",
       "    </tr>\n",
       "  </thead>\n",
       "  <tbody>\n",
       "    <tr>\n",
       "      <th>microsoft</th>\n",
       "      <td>20</td>\n",
       "      <td>20</td>\n",
       "      <td>20</td>\n",
       "    </tr>\n",
       "    <tr>\n",
       "      <th>google</th>\n",
       "      <td>30</td>\n",
       "      <td>30</td>\n",
       "      <td>30</td>\n",
       "    </tr>\n",
       "    <tr>\n",
       "      <th>yahoo</th>\n",
       "      <td>40</td>\n",
       "      <td>50</td>\n",
       "      <td>50</td>\n",
       "    </tr>\n",
       "    <tr>\n",
       "      <th>facebook</th>\n",
       "      <td>50</td>\n",
       "      <td>55</td>\n",
       "      <td>60</td>\n",
       "    </tr>\n",
       "  </tbody>\n",
       "</table>\n",
       "</div>"
      ],
      "text/plain": [
       "            c   d   e\n",
       "microsoft  20  20  20\n",
       "google     30  30  30\n",
       "yahoo      40  50  50\n",
       "facebook   50  55  60"
      ]
     },
     "execution_count": 191,
     "metadata": {},
     "output_type": "execute_result"
    }
   ],
   "source": [
    "df1"
   ]
  },
  {
   "cell_type": "code",
   "execution_count": 192,
   "metadata": {},
   "outputs": [
    {
     "data": {
      "text/html": [
       "<div>\n",
       "<style scoped>\n",
       "    .dataframe tbody tr th:only-of-type {\n",
       "        vertical-align: middle;\n",
       "    }\n",
       "\n",
       "    .dataframe tbody tr th {\n",
       "        vertical-align: top;\n",
       "    }\n",
       "\n",
       "    .dataframe thead th {\n",
       "        text-align: right;\n",
       "    }\n",
       "</style>\n",
       "<table border=\"1\" class=\"dataframe\">\n",
       "  <thead>\n",
       "    <tr style=\"text-align: right;\">\n",
       "      <th></th>\n",
       "      <th>c</th>\n",
       "      <th>e</th>\n",
       "    </tr>\n",
       "  </thead>\n",
       "  <tbody>\n",
       "    <tr>\n",
       "      <th>microsoft</th>\n",
       "      <td>20</td>\n",
       "      <td>20</td>\n",
       "    </tr>\n",
       "    <tr>\n",
       "      <th>google</th>\n",
       "      <td>30</td>\n",
       "      <td>30</td>\n",
       "    </tr>\n",
       "    <tr>\n",
       "      <th>yahoo</th>\n",
       "      <td>40</td>\n",
       "      <td>50</td>\n",
       "    </tr>\n",
       "    <tr>\n",
       "      <th>facebook</th>\n",
       "      <td>50</td>\n",
       "      <td>60</td>\n",
       "    </tr>\n",
       "  </tbody>\n",
       "</table>\n",
       "</div>"
      ],
      "text/plain": [
       "            c   e\n",
       "microsoft  20  20\n",
       "google     30  30\n",
       "yahoo      40  50\n",
       "facebook   50  60"
      ]
     },
     "execution_count": 192,
     "metadata": {},
     "output_type": "execute_result"
    }
   ],
   "source": [
    "drop_method"
   ]
  },
  {
   "cell_type": "code",
   "execution_count": 193,
   "metadata": {},
   "outputs": [
    {
     "data": {
      "text/plain": [
       "amazon    200\n",
       "ebay      300\n",
       "jumia     400\n",
       "etsy      500\n",
       "dtype: int64"
      ]
     },
     "execution_count": 193,
     "metadata": {},
     "output_type": "execute_result"
    }
   ],
   "source": [
    "# Now lets play with another data\n",
    "sales_1 = pd.Series([200,300,400,500], index = ['amazon', 'ebay', 'jumia', 'etsy'])\n",
    "sales_1"
   ]
  },
  {
   "cell_type": "code",
   "execution_count": 194,
   "metadata": {},
   "outputs": [],
   "source": [
    "sales_2 = pd.Series([2000,3050,4500,5600], index = ['amazon', 'ebay', 'jumia', 'etsy'])\n",
    "sales_3 = pd.Series([220,350,450,560], index = ['amazon', 'ebay', 'jumia', 'etsy'])"
   ]
  },
  {
   "cell_type": "code",
   "execution_count": 195,
   "metadata": {},
   "outputs": [
    {
     "data": {
      "text/html": [
       "<div>\n",
       "<style scoped>\n",
       "    .dataframe tbody tr th:only-of-type {\n",
       "        vertical-align: middle;\n",
       "    }\n",
       "\n",
       "    .dataframe tbody tr th {\n",
       "        vertical-align: top;\n",
       "    }\n",
       "\n",
       "    .dataframe thead th {\n",
       "        text-align: right;\n",
       "    }\n",
       "</style>\n",
       "<table border=\"1\" class=\"dataframe\">\n",
       "  <thead>\n",
       "    <tr style=\"text-align: right;\">\n",
       "      <th></th>\n",
       "      <th>2017</th>\n",
       "      <th>2018</th>\n",
       "      <th>2019</th>\n",
       "    </tr>\n",
       "  </thead>\n",
       "  <tbody>\n",
       "    <tr>\n",
       "      <th>amazon</th>\n",
       "      <td>200</td>\n",
       "      <td>2000</td>\n",
       "      <td>220</td>\n",
       "    </tr>\n",
       "    <tr>\n",
       "      <th>ebay</th>\n",
       "      <td>300</td>\n",
       "      <td>3050</td>\n",
       "      <td>350</td>\n",
       "    </tr>\n",
       "    <tr>\n",
       "      <th>jumia</th>\n",
       "      <td>400</td>\n",
       "      <td>4500</td>\n",
       "      <td>450</td>\n",
       "    </tr>\n",
       "    <tr>\n",
       "      <th>etsy</th>\n",
       "      <td>500</td>\n",
       "      <td>5600</td>\n",
       "      <td>560</td>\n",
       "    </tr>\n",
       "  </tbody>\n",
       "</table>\n",
       "</div>"
      ],
      "text/plain": [
       "        2017  2018  2019\n",
       "amazon   200  2000   220\n",
       "ebay     300  3050   350\n",
       "jumia    400  4500   450\n",
       "etsy     500  5600   560"
      ]
     },
     "execution_count": 195,
     "metadata": {},
     "output_type": "execute_result"
    }
   ],
   "source": [
    "df_new = pd.DataFrame({2017:sales_1, 2018:sales_2, 2019:sales_3})\n",
    "df_new"
   ]
  },
  {
   "cell_type": "code",
   "execution_count": 197,
   "metadata": {},
   "outputs": [
    {
     "data": {
      "text/html": [
       "<div>\n",
       "<style scoped>\n",
       "    .dataframe tbody tr th:only-of-type {\n",
       "        vertical-align: middle;\n",
       "    }\n",
       "\n",
       "    .dataframe tbody tr th {\n",
       "        vertical-align: top;\n",
       "    }\n",
       "\n",
       "    .dataframe thead th {\n",
       "        text-align: right;\n",
       "    }\n",
       "</style>\n",
       "<table border=\"1\" class=\"dataframe\">\n",
       "  <thead>\n",
       "    <tr style=\"text-align: right;\">\n",
       "      <th></th>\n",
       "      <th>c</th>\n",
       "      <th>d</th>\n",
       "      <th>e</th>\n",
       "    </tr>\n",
       "  </thead>\n",
       "  <tbody>\n",
       "    <tr>\n",
       "      <th>microsoft</th>\n",
       "      <td>20</td>\n",
       "      <td>20</td>\n",
       "      <td>20</td>\n",
       "    </tr>\n",
       "    <tr>\n",
       "      <th>google</th>\n",
       "      <td>30</td>\n",
       "      <td>30</td>\n",
       "      <td>30</td>\n",
       "    </tr>\n",
       "    <tr>\n",
       "      <th>yahoo</th>\n",
       "      <td>40</td>\n",
       "      <td>50</td>\n",
       "      <td>50</td>\n",
       "    </tr>\n",
       "    <tr>\n",
       "      <th>facebook</th>\n",
       "      <td>50</td>\n",
       "      <td>55</td>\n",
       "      <td>60</td>\n",
       "    </tr>\n",
       "  </tbody>\n",
       "</table>\n",
       "</div>"
      ],
      "text/plain": [
       "            c   d   e\n",
       "microsoft  20  20  20\n",
       "google     30  30  30\n",
       "yahoo      40  50  50\n",
       "facebook   50  55  60"
      ]
     },
     "execution_count": 197,
     "metadata": {},
     "output_type": "execute_result"
    }
   ],
   "source": [
    "df1"
   ]
  },
  {
   "cell_type": "code",
   "execution_count": 198,
   "metadata": {},
   "outputs": [
    {
     "data": {
      "text/html": [
       "<div>\n",
       "<style scoped>\n",
       "    .dataframe tbody tr th:only-of-type {\n",
       "        vertical-align: middle;\n",
       "    }\n",
       "\n",
       "    .dataframe tbody tr th {\n",
       "        vertical-align: top;\n",
       "    }\n",
       "\n",
       "    .dataframe thead th {\n",
       "        text-align: right;\n",
       "    }\n",
       "</style>\n",
       "<table border=\"1\" class=\"dataframe\">\n",
       "  <thead>\n",
       "    <tr style=\"text-align: right;\">\n",
       "      <th></th>\n",
       "      <th>c</th>\n",
       "      <th>d</th>\n",
       "      <th>e</th>\n",
       "    </tr>\n",
       "  </thead>\n",
       "  <tbody>\n",
       "    <tr>\n",
       "      <th>microsoft</th>\n",
       "      <td>40</td>\n",
       "      <td>40</td>\n",
       "      <td>40</td>\n",
       "    </tr>\n",
       "    <tr>\n",
       "      <th>google</th>\n",
       "      <td>60</td>\n",
       "      <td>60</td>\n",
       "      <td>60</td>\n",
       "    </tr>\n",
       "    <tr>\n",
       "      <th>yahoo</th>\n",
       "      <td>80</td>\n",
       "      <td>100</td>\n",
       "      <td>100</td>\n",
       "    </tr>\n",
       "    <tr>\n",
       "      <th>facebook</th>\n",
       "      <td>100</td>\n",
       "      <td>110</td>\n",
       "      <td>120</td>\n",
       "    </tr>\n",
       "  </tbody>\n",
       "</table>\n",
       "</div>"
      ],
      "text/plain": [
       "             c    d    e\n",
       "microsoft   40   40   40\n",
       "google      60   60   60\n",
       "yahoo       80  100  100\n",
       "facebook   100  110  120"
      ]
     },
     "execution_count": 198,
     "metadata": {},
     "output_type": "execute_result"
    }
   ],
   "source": [
    "df1 * 2"
   ]
  },
  {
   "cell_type": "code",
   "execution_count": 200,
   "metadata": {},
   "outputs": [],
   "source": [
    "a = df2 * 2"
   ]
  },
  {
   "cell_type": "code",
   "execution_count": 201,
   "metadata": {},
   "outputs": [
    {
     "data": {
      "text/html": [
       "<div>\n",
       "<style scoped>\n",
       "    .dataframe tbody tr th:only-of-type {\n",
       "        vertical-align: middle;\n",
       "    }\n",
       "\n",
       "    .dataframe tbody tr th {\n",
       "        vertical-align: top;\n",
       "    }\n",
       "\n",
       "    .dataframe thead th {\n",
       "        text-align: right;\n",
       "    }\n",
       "</style>\n",
       "<table border=\"1\" class=\"dataframe\">\n",
       "  <thead>\n",
       "    <tr style=\"text-align: right;\">\n",
       "      <th></th>\n",
       "      <th>A</th>\n",
       "      <th>B</th>\n",
       "      <th>C</th>\n",
       "    </tr>\n",
       "  </thead>\n",
       "  <tbody>\n",
       "    <tr>\n",
       "      <th>M</th>\n",
       "      <td>4000</td>\n",
       "      <td>400</td>\n",
       "      <td>40</td>\n",
       "    </tr>\n",
       "    <tr>\n",
       "      <th>G</th>\n",
       "      <td>6000</td>\n",
       "      <td>600</td>\n",
       "      <td>60</td>\n",
       "    </tr>\n",
       "    <tr>\n",
       "      <th>Y</th>\n",
       "      <td>8000</td>\n",
       "      <td>800</td>\n",
       "      <td>80</td>\n",
       "    </tr>\n",
       "    <tr>\n",
       "      <th>F</th>\n",
       "      <td>10000</td>\n",
       "      <td>1000</td>\n",
       "      <td>100</td>\n",
       "    </tr>\n",
       "  </tbody>\n",
       "</table>\n",
       "</div>"
      ],
      "text/plain": [
       "       A     B    C\n",
       "M   4000   400   40\n",
       "G   6000   600   60\n",
       "Y   8000   800   80\n",
       "F  10000  1000  100"
      ]
     },
     "execution_count": 201,
     "metadata": {},
     "output_type": "execute_result"
    }
   ],
   "source": [
    "a"
   ]
  },
  {
   "cell_type": "code",
   "execution_count": 202,
   "metadata": {},
   "outputs": [
    {
     "data": {
      "text/html": [
       "<div>\n",
       "<style scoped>\n",
       "    .dataframe tbody tr th:only-of-type {\n",
       "        vertical-align: middle;\n",
       "    }\n",
       "\n",
       "    .dataframe tbody tr th {\n",
       "        vertical-align: top;\n",
       "    }\n",
       "\n",
       "    .dataframe thead th {\n",
       "        text-align: right;\n",
       "    }\n",
       "</style>\n",
       "<table border=\"1\" class=\"dataframe\">\n",
       "  <thead>\n",
       "    <tr style=\"text-align: right;\">\n",
       "      <th></th>\n",
       "      <th>A</th>\n",
       "      <th>B</th>\n",
       "      <th>C</th>\n",
       "    </tr>\n",
       "  </thead>\n",
       "  <tbody>\n",
       "    <tr>\n",
       "      <th>M</th>\n",
       "      <td>8000</td>\n",
       "      <td>800</td>\n",
       "      <td>80</td>\n",
       "    </tr>\n",
       "    <tr>\n",
       "      <th>G</th>\n",
       "      <td>12000</td>\n",
       "      <td>1200</td>\n",
       "      <td>120</td>\n",
       "    </tr>\n",
       "    <tr>\n",
       "      <th>Y</th>\n",
       "      <td>16000</td>\n",
       "      <td>1600</td>\n",
       "      <td>160</td>\n",
       "    </tr>\n",
       "    <tr>\n",
       "      <th>F</th>\n",
       "      <td>20000</td>\n",
       "      <td>2000</td>\n",
       "      <td>200</td>\n",
       "    </tr>\n",
       "  </tbody>\n",
       "</table>\n",
       "</div>"
      ],
      "text/plain": [
       "       A     B    C\n",
       "M   8000   800   80\n",
       "G  12000  1200  120\n",
       "Y  16000  1600  160\n",
       "F  20000  2000  200"
      ]
     },
     "execution_count": 202,
     "metadata": {},
     "output_type": "execute_result"
    }
   ],
   "source": [
    "a * 2"
   ]
  },
  {
   "cell_type": "code",
   "execution_count": 205,
   "metadata": {},
   "outputs": [],
   "source": [
    "df = 200 -df2"
   ]
  },
  {
   "cell_type": "code",
   "execution_count": 206,
   "metadata": {},
   "outputs": [
    {
     "data": {
      "text/html": [
       "<div>\n",
       "<style scoped>\n",
       "    .dataframe tbody tr th:only-of-type {\n",
       "        vertical-align: middle;\n",
       "    }\n",
       "\n",
       "    .dataframe tbody tr th {\n",
       "        vertical-align: top;\n",
       "    }\n",
       "\n",
       "    .dataframe thead th {\n",
       "        text-align: right;\n",
       "    }\n",
       "</style>\n",
       "<table border=\"1\" class=\"dataframe\">\n",
       "  <thead>\n",
       "    <tr style=\"text-align: right;\">\n",
       "      <th></th>\n",
       "      <th>A</th>\n",
       "      <th>B</th>\n",
       "      <th>C</th>\n",
       "    </tr>\n",
       "  </thead>\n",
       "  <tbody>\n",
       "    <tr>\n",
       "      <th>M</th>\n",
       "      <td>-1800</td>\n",
       "      <td>0</td>\n",
       "      <td>180</td>\n",
       "    </tr>\n",
       "    <tr>\n",
       "      <th>G</th>\n",
       "      <td>-2800</td>\n",
       "      <td>-100</td>\n",
       "      <td>170</td>\n",
       "    </tr>\n",
       "    <tr>\n",
       "      <th>Y</th>\n",
       "      <td>-3800</td>\n",
       "      <td>-200</td>\n",
       "      <td>160</td>\n",
       "    </tr>\n",
       "    <tr>\n",
       "      <th>F</th>\n",
       "      <td>-4800</td>\n",
       "      <td>-300</td>\n",
       "      <td>150</td>\n",
       "    </tr>\n",
       "  </tbody>\n",
       "</table>\n",
       "</div>"
      ],
      "text/plain": [
       "      A    B    C\n",
       "M -1800    0  180\n",
       "G -2800 -100  170\n",
       "Y -3800 -200  160\n",
       "F -4800 -300  150"
      ]
     },
     "execution_count": 206,
     "metadata": {},
     "output_type": "execute_result"
    }
   ],
   "source": [
    "df"
   ]
  },
  {
   "cell_type": "code",
   "execution_count": 207,
   "metadata": {},
   "outputs": [],
   "source": [
    "v1 = df2[0:2]"
   ]
  },
  {
   "cell_type": "code",
   "execution_count": 208,
   "metadata": {},
   "outputs": [
    {
     "data": {
      "text/html": [
       "<div>\n",
       "<style scoped>\n",
       "    .dataframe tbody tr th:only-of-type {\n",
       "        vertical-align: middle;\n",
       "    }\n",
       "\n",
       "    .dataframe tbody tr th {\n",
       "        vertical-align: top;\n",
       "    }\n",
       "\n",
       "    .dataframe thead th {\n",
       "        text-align: right;\n",
       "    }\n",
       "</style>\n",
       "<table border=\"1\" class=\"dataframe\">\n",
       "  <thead>\n",
       "    <tr style=\"text-align: right;\">\n",
       "      <th></th>\n",
       "      <th>A</th>\n",
       "      <th>B</th>\n",
       "      <th>C</th>\n",
       "    </tr>\n",
       "  </thead>\n",
       "  <tbody>\n",
       "    <tr>\n",
       "      <th>M</th>\n",
       "      <td>2000</td>\n",
       "      <td>200</td>\n",
       "      <td>20</td>\n",
       "    </tr>\n",
       "    <tr>\n",
       "      <th>G</th>\n",
       "      <td>3000</td>\n",
       "      <td>300</td>\n",
       "      <td>30</td>\n",
       "    </tr>\n",
       "  </tbody>\n",
       "</table>\n",
       "</div>"
      ],
      "text/plain": [
       "      A    B   C\n",
       "M  2000  200  20\n",
       "G  3000  300  30"
      ]
     },
     "execution_count": 208,
     "metadata": {},
     "output_type": "execute_result"
    }
   ],
   "source": [
    "v1"
   ]
  },
  {
   "cell_type": "code",
   "execution_count": 209,
   "metadata": {},
   "outputs": [
    {
     "data": {
      "text/html": [
       "<div>\n",
       "<style scoped>\n",
       "    .dataframe tbody tr th:only-of-type {\n",
       "        vertical-align: middle;\n",
       "    }\n",
       "\n",
       "    .dataframe tbody tr th {\n",
       "        vertical-align: top;\n",
       "    }\n",
       "\n",
       "    .dataframe thead th {\n",
       "        text-align: right;\n",
       "    }\n",
       "</style>\n",
       "<table border=\"1\" class=\"dataframe\">\n",
       "  <thead>\n",
       "    <tr style=\"text-align: right;\">\n",
       "      <th></th>\n",
       "      <th>A</th>\n",
       "      <th>B</th>\n",
       "      <th>C</th>\n",
       "      <th>c</th>\n",
       "      <th>d</th>\n",
       "      <th>e</th>\n",
       "    </tr>\n",
       "  </thead>\n",
       "  <tbody>\n",
       "    <tr>\n",
       "      <th>G</th>\n",
       "      <td>NaN</td>\n",
       "      <td>NaN</td>\n",
       "      <td>NaN</td>\n",
       "      <td>NaN</td>\n",
       "      <td>NaN</td>\n",
       "      <td>NaN</td>\n",
       "    </tr>\n",
       "    <tr>\n",
       "      <th>M</th>\n",
       "      <td>NaN</td>\n",
       "      <td>NaN</td>\n",
       "      <td>NaN</td>\n",
       "      <td>NaN</td>\n",
       "      <td>NaN</td>\n",
       "      <td>NaN</td>\n",
       "    </tr>\n",
       "    <tr>\n",
       "      <th>facebook</th>\n",
       "      <td>NaN</td>\n",
       "      <td>NaN</td>\n",
       "      <td>NaN</td>\n",
       "      <td>NaN</td>\n",
       "      <td>NaN</td>\n",
       "      <td>NaN</td>\n",
       "    </tr>\n",
       "    <tr>\n",
       "      <th>google</th>\n",
       "      <td>NaN</td>\n",
       "      <td>NaN</td>\n",
       "      <td>NaN</td>\n",
       "      <td>NaN</td>\n",
       "      <td>NaN</td>\n",
       "      <td>NaN</td>\n",
       "    </tr>\n",
       "    <tr>\n",
       "      <th>microsoft</th>\n",
       "      <td>NaN</td>\n",
       "      <td>NaN</td>\n",
       "      <td>NaN</td>\n",
       "      <td>NaN</td>\n",
       "      <td>NaN</td>\n",
       "      <td>NaN</td>\n",
       "    </tr>\n",
       "    <tr>\n",
       "      <th>yahoo</th>\n",
       "      <td>NaN</td>\n",
       "      <td>NaN</td>\n",
       "      <td>NaN</td>\n",
       "      <td>NaN</td>\n",
       "      <td>NaN</td>\n",
       "      <td>NaN</td>\n",
       "    </tr>\n",
       "  </tbody>\n",
       "</table>\n",
       "</div>"
      ],
      "text/plain": [
       "            A   B   C   c   d   e\n",
       "G         NaN NaN NaN NaN NaN NaN\n",
       "M         NaN NaN NaN NaN NaN NaN\n",
       "facebook  NaN NaN NaN NaN NaN NaN\n",
       "google    NaN NaN NaN NaN NaN NaN\n",
       "microsoft NaN NaN NaN NaN NaN NaN\n",
       "yahoo     NaN NaN NaN NaN NaN NaN"
      ]
     },
     "execution_count": 209,
     "metadata": {},
     "output_type": "execute_result"
    }
   ],
   "source": [
    "v1 + df1"
   ]
  },
  {
   "cell_type": "code",
   "execution_count": 210,
   "metadata": {},
   "outputs": [
    {
     "data": {
      "text/html": [
       "<div>\n",
       "<style scoped>\n",
       "    .dataframe tbody tr th:only-of-type {\n",
       "        vertical-align: middle;\n",
       "    }\n",
       "\n",
       "    .dataframe tbody tr th {\n",
       "        vertical-align: top;\n",
       "    }\n",
       "\n",
       "    .dataframe thead th {\n",
       "        text-align: right;\n",
       "    }\n",
       "</style>\n",
       "<table border=\"1\" class=\"dataframe\">\n",
       "  <thead>\n",
       "    <tr style=\"text-align: right;\">\n",
       "      <th></th>\n",
       "      <th>A</th>\n",
       "      <th>B</th>\n",
       "      <th>C</th>\n",
       "    </tr>\n",
       "  </thead>\n",
       "  <tbody>\n",
       "    <tr>\n",
       "      <th>F</th>\n",
       "      <td>NaN</td>\n",
       "      <td>NaN</td>\n",
       "      <td>NaN</td>\n",
       "    </tr>\n",
       "    <tr>\n",
       "      <th>G</th>\n",
       "      <td>6000.0</td>\n",
       "      <td>600.0</td>\n",
       "      <td>60.0</td>\n",
       "    </tr>\n",
       "    <tr>\n",
       "      <th>M</th>\n",
       "      <td>4000.0</td>\n",
       "      <td>400.0</td>\n",
       "      <td>40.0</td>\n",
       "    </tr>\n",
       "    <tr>\n",
       "      <th>Y</th>\n",
       "      <td>NaN</td>\n",
       "      <td>NaN</td>\n",
       "      <td>NaN</td>\n",
       "    </tr>\n",
       "  </tbody>\n",
       "</table>\n",
       "</div>"
      ],
      "text/plain": [
       "        A      B     C\n",
       "F     NaN    NaN   NaN\n",
       "G  6000.0  600.0  60.0\n",
       "M  4000.0  400.0  40.0\n",
       "Y     NaN    NaN   NaN"
      ]
     },
     "execution_count": 210,
     "metadata": {},
     "output_type": "execute_result"
    }
   ],
   "source": [
    "v1 + df2"
   ]
  },
  {
   "cell_type": "code",
   "execution_count": 212,
   "metadata": {},
   "outputs": [
    {
     "data": {
      "text/plain": [
       "amazon    200\n",
       "ebay      300\n",
       "jumia     400\n",
       "etsy      500\n",
       "dtype: int64"
      ]
     },
     "execution_count": 212,
     "metadata": {},
     "output_type": "execute_result"
    }
   ],
   "source": [
    "# reindexing and hierarchical of DataFrame\n",
    "# use same sales series\n",
    "sales_1"
   ]
  },
  {
   "cell_type": "code",
   "execution_count": 213,
   "metadata": {},
   "outputs": [
    {
     "data": {
      "text/plain": [
       "amazon    2000\n",
       "ebay      3050\n",
       "jumia     4500\n",
       "etsy      5600\n",
       "dtype: int64"
      ]
     },
     "execution_count": 213,
     "metadata": {},
     "output_type": "execute_result"
    }
   ],
   "source": [
    "sales_2"
   ]
  },
  {
   "cell_type": "code",
   "execution_count": 214,
   "metadata": {},
   "outputs": [
    {
     "data": {
      "text/plain": [
       "amazon    220\n",
       "ebay      350\n",
       "jumia     450\n",
       "etsy      560\n",
       "dtype: int64"
      ]
     },
     "execution_count": 214,
     "metadata": {},
     "output_type": "execute_result"
    }
   ],
   "source": [
    "sales_3"
   ]
  },
  {
   "cell_type": "code",
   "execution_count": 215,
   "metadata": {},
   "outputs": [
    {
     "data": {
      "text/html": [
       "<div>\n",
       "<style scoped>\n",
       "    .dataframe tbody tr th:only-of-type {\n",
       "        vertical-align: middle;\n",
       "    }\n",
       "\n",
       "    .dataframe tbody tr th {\n",
       "        vertical-align: top;\n",
       "    }\n",
       "\n",
       "    .dataframe thead th {\n",
       "        text-align: right;\n",
       "    }\n",
       "</style>\n",
       "<table border=\"1\" class=\"dataframe\">\n",
       "  <thead>\n",
       "    <tr style=\"text-align: right;\">\n",
       "      <th></th>\n",
       "      <th>2017</th>\n",
       "      <th>2018</th>\n",
       "      <th>2019</th>\n",
       "    </tr>\n",
       "  </thead>\n",
       "  <tbody>\n",
       "    <tr>\n",
       "      <th>amazon</th>\n",
       "      <td>200</td>\n",
       "      <td>2000</td>\n",
       "      <td>220</td>\n",
       "    </tr>\n",
       "    <tr>\n",
       "      <th>ebay</th>\n",
       "      <td>300</td>\n",
       "      <td>3050</td>\n",
       "      <td>350</td>\n",
       "    </tr>\n",
       "    <tr>\n",
       "      <th>jumia</th>\n",
       "      <td>400</td>\n",
       "      <td>4500</td>\n",
       "      <td>450</td>\n",
       "    </tr>\n",
       "    <tr>\n",
       "      <th>etsy</th>\n",
       "      <td>500</td>\n",
       "      <td>5600</td>\n",
       "      <td>560</td>\n",
       "    </tr>\n",
       "  </tbody>\n",
       "</table>\n",
       "</div>"
      ],
      "text/plain": [
       "        2017  2018  2019\n",
       "amazon   200  2000   220\n",
       "ebay     300  3050   350\n",
       "jumia    400  4500   450\n",
       "etsy     500  5600   560"
      ]
     },
     "execution_count": 215,
     "metadata": {},
     "output_type": "execute_result"
    }
   ],
   "source": [
    "df1 = pd.DataFrame({2017:sales_1, 2018:sales_2,2019:sales_3})\n",
    "df1"
   ]
  },
  {
   "cell_type": "code",
   "execution_count": 216,
   "metadata": {},
   "outputs": [],
   "source": [
    "# new index is set\n",
    "df2 = df1.reset_index()"
   ]
  },
  {
   "cell_type": "code",
   "execution_count": 217,
   "metadata": {},
   "outputs": [
    {
     "data": {
      "text/html": [
       "<div>\n",
       "<style scoped>\n",
       "    .dataframe tbody tr th:only-of-type {\n",
       "        vertical-align: middle;\n",
       "    }\n",
       "\n",
       "    .dataframe tbody tr th {\n",
       "        vertical-align: top;\n",
       "    }\n",
       "\n",
       "    .dataframe thead th {\n",
       "        text-align: right;\n",
       "    }\n",
       "</style>\n",
       "<table border=\"1\" class=\"dataframe\">\n",
       "  <thead>\n",
       "    <tr style=\"text-align: right;\">\n",
       "      <th></th>\n",
       "      <th>index</th>\n",
       "      <th>2017</th>\n",
       "      <th>2018</th>\n",
       "      <th>2019</th>\n",
       "    </tr>\n",
       "  </thead>\n",
       "  <tbody>\n",
       "    <tr>\n",
       "      <th>0</th>\n",
       "      <td>amazon</td>\n",
       "      <td>200</td>\n",
       "      <td>2000</td>\n",
       "      <td>220</td>\n",
       "    </tr>\n",
       "    <tr>\n",
       "      <th>1</th>\n",
       "      <td>ebay</td>\n",
       "      <td>300</td>\n",
       "      <td>3050</td>\n",
       "      <td>350</td>\n",
       "    </tr>\n",
       "    <tr>\n",
       "      <th>2</th>\n",
       "      <td>jumia</td>\n",
       "      <td>400</td>\n",
       "      <td>4500</td>\n",
       "      <td>450</td>\n",
       "    </tr>\n",
       "    <tr>\n",
       "      <th>3</th>\n",
       "      <td>etsy</td>\n",
       "      <td>500</td>\n",
       "      <td>5600</td>\n",
       "      <td>560</td>\n",
       "    </tr>\n",
       "  </tbody>\n",
       "</table>\n",
       "</div>"
      ],
      "text/plain": [
       "    index  2017  2018  2019\n",
       "0  amazon   200  2000   220\n",
       "1    ebay   300  3050   350\n",
       "2   jumia   400  4500   450\n",
       "3    etsy   500  5600   560"
      ]
     },
     "execution_count": 217,
     "metadata": {},
     "output_type": "execute_result"
    }
   ],
   "source": [
    "df2"
   ]
  },
  {
   "cell_type": "code",
   "execution_count": 218,
   "metadata": {},
   "outputs": [
    {
     "data": {
      "text/html": [
       "<div>\n",
       "<style scoped>\n",
       "    .dataframe tbody tr th:only-of-type {\n",
       "        vertical-align: middle;\n",
       "    }\n",
       "\n",
       "    .dataframe tbody tr th {\n",
       "        vertical-align: top;\n",
       "    }\n",
       "\n",
       "    .dataframe thead th {\n",
       "        text-align: right;\n",
       "    }\n",
       "</style>\n",
       "<table border=\"1\" class=\"dataframe\">\n",
       "  <thead>\n",
       "    <tr style=\"text-align: right;\">\n",
       "      <th></th>\n",
       "      <th>2017</th>\n",
       "      <th>2018</th>\n",
       "      <th>2019</th>\n",
       "    </tr>\n",
       "  </thead>\n",
       "  <tbody>\n",
       "    <tr>\n",
       "      <th>amazon</th>\n",
       "      <td>200</td>\n",
       "      <td>2000</td>\n",
       "      <td>220</td>\n",
       "    </tr>\n",
       "    <tr>\n",
       "      <th>ebay</th>\n",
       "      <td>300</td>\n",
       "      <td>3050</td>\n",
       "      <td>350</td>\n",
       "    </tr>\n",
       "    <tr>\n",
       "      <th>jumia</th>\n",
       "      <td>400</td>\n",
       "      <td>4500</td>\n",
       "      <td>450</td>\n",
       "    </tr>\n",
       "    <tr>\n",
       "      <th>etsy</th>\n",
       "      <td>500</td>\n",
       "      <td>5600</td>\n",
       "      <td>560</td>\n",
       "    </tr>\n",
       "  </tbody>\n",
       "</table>\n",
       "</div>"
      ],
      "text/plain": [
       "        2017  2018  2019\n",
       "amazon   200  2000   220\n",
       "ebay     300  3050   350\n",
       "jumia    400  4500   450\n",
       "etsy     500  5600   560"
      ]
     },
     "execution_count": 218,
     "metadata": {},
     "output_type": "execute_result"
    }
   ],
   "source": [
    "# df1 as it is\n",
    "df1"
   ]
  },
  {
   "cell_type": "code",
   "execution_count": 222,
   "metadata": {},
   "outputs": [
    {
     "data": {
      "text/html": [
       "<div>\n",
       "<style scoped>\n",
       "    .dataframe tbody tr th:only-of-type {\n",
       "        vertical-align: middle;\n",
       "    }\n",
       "\n",
       "    .dataframe tbody tr th {\n",
       "        vertical-align: top;\n",
       "    }\n",
       "\n",
       "    .dataframe thead th {\n",
       "        text-align: right;\n",
       "    }\n",
       "</style>\n",
       "<table border=\"1\" class=\"dataframe\">\n",
       "  <thead>\n",
       "    <tr style=\"text-align: right;\">\n",
       "      <th></th>\n",
       "      <th>index</th>\n",
       "      <th>2018</th>\n",
       "      <th>2019</th>\n",
       "    </tr>\n",
       "    <tr>\n",
       "      <th>2017</th>\n",
       "      <th></th>\n",
       "      <th></th>\n",
       "      <th></th>\n",
       "    </tr>\n",
       "  </thead>\n",
       "  <tbody>\n",
       "    <tr>\n",
       "      <th>200</th>\n",
       "      <td>amazon</td>\n",
       "      <td>2000</td>\n",
       "      <td>220</td>\n",
       "    </tr>\n",
       "    <tr>\n",
       "      <th>300</th>\n",
       "      <td>ebay</td>\n",
       "      <td>3050</td>\n",
       "      <td>350</td>\n",
       "    </tr>\n",
       "    <tr>\n",
       "      <th>400</th>\n",
       "      <td>jumia</td>\n",
       "      <td>4500</td>\n",
       "      <td>450</td>\n",
       "    </tr>\n",
       "    <tr>\n",
       "      <th>500</th>\n",
       "      <td>etsy</td>\n",
       "      <td>5600</td>\n",
       "      <td>560</td>\n",
       "    </tr>\n",
       "  </tbody>\n",
       "</table>\n",
       "</div>"
      ],
      "text/plain": [
       "       index  2018  2019\n",
       "2017                    \n",
       "200   amazon  2000   220\n",
       "300     ebay  3050   350\n",
       "400    jumia  4500   450\n",
       "500     etsy  5600   560"
      ]
     },
     "execution_count": 222,
     "metadata": {},
     "output_type": "execute_result"
    }
   ],
   "source": [
    "# set index\n",
    "df2.set_index(2017)"
   ]
  },
  {
   "cell_type": "code",
   "execution_count": 223,
   "metadata": {},
   "outputs": [
    {
     "data": {
      "text/html": [
       "<div>\n",
       "<style scoped>\n",
       "    .dataframe tbody tr th:only-of-type {\n",
       "        vertical-align: middle;\n",
       "    }\n",
       "\n",
       "    .dataframe tbody tr th {\n",
       "        vertical-align: top;\n",
       "    }\n",
       "\n",
       "    .dataframe thead th {\n",
       "        text-align: right;\n",
       "    }\n",
       "</style>\n",
       "<table border=\"1\" class=\"dataframe\">\n",
       "  <thead>\n",
       "    <tr style=\"text-align: right;\">\n",
       "      <th></th>\n",
       "      <th>2017</th>\n",
       "      <th>2018</th>\n",
       "      <th>2019</th>\n",
       "    </tr>\n",
       "  </thead>\n",
       "  <tbody>\n",
       "    <tr>\n",
       "      <th>microsoft</th>\n",
       "      <td>NaN</td>\n",
       "      <td>NaN</td>\n",
       "      <td>NaN</td>\n",
       "    </tr>\n",
       "    <tr>\n",
       "      <th>google</th>\n",
       "      <td>NaN</td>\n",
       "      <td>NaN</td>\n",
       "      <td>NaN</td>\n",
       "    </tr>\n",
       "    <tr>\n",
       "      <th>yahoo</th>\n",
       "      <td>NaN</td>\n",
       "      <td>NaN</td>\n",
       "      <td>NaN</td>\n",
       "    </tr>\n",
       "    <tr>\n",
       "      <th>facebook</th>\n",
       "      <td>NaN</td>\n",
       "      <td>NaN</td>\n",
       "      <td>NaN</td>\n",
       "    </tr>\n",
       "  </tbody>\n",
       "</table>\n",
       "</div>"
      ],
      "text/plain": [
       "           2017  2018  2019\n",
       "microsoft   NaN   NaN   NaN\n",
       "google      NaN   NaN   NaN\n",
       "yahoo       NaN   NaN   NaN\n",
       "facebook    NaN   NaN   NaN"
      ]
     },
     "execution_count": 223,
     "metadata": {},
     "output_type": "execute_result"
    }
   ],
   "source": [
    "new_index = df1.reindex(index = ['microsoft','google','yahoo','facebook'])\n",
    "new_index"
   ]
  },
  {
   "cell_type": "code",
   "execution_count": 224,
   "metadata": {},
   "outputs": [],
   "source": [
    "# In above now values are associated, is so it would reindex"
   ]
  },
  {
   "cell_type": "code",
   "execution_count": 229,
   "metadata": {},
   "outputs": [
    {
     "data": {
      "text/html": [
       "<div>\n",
       "<style scoped>\n",
       "    .dataframe tbody tr th:only-of-type {\n",
       "        vertical-align: middle;\n",
       "    }\n",
       "\n",
       "    .dataframe tbody tr th {\n",
       "        vertical-align: top;\n",
       "    }\n",
       "\n",
       "    .dataframe thead th {\n",
       "        text-align: right;\n",
       "    }\n",
       "</style>\n",
       "<table border=\"1\" class=\"dataframe\">\n",
       "  <thead>\n",
       "    <tr style=\"text-align: right;\">\n",
       "      <th></th>\n",
       "      <th>2017</th>\n",
       "      <th>2016</th>\n",
       "      <th>2019</th>\n",
       "    </tr>\n",
       "  </thead>\n",
       "  <tbody>\n",
       "    <tr>\n",
       "      <th>amazon</th>\n",
       "      <td>200</td>\n",
       "      <td>NaN</td>\n",
       "      <td>220</td>\n",
       "    </tr>\n",
       "    <tr>\n",
       "      <th>ebay</th>\n",
       "      <td>300</td>\n",
       "      <td>NaN</td>\n",
       "      <td>350</td>\n",
       "    </tr>\n",
       "    <tr>\n",
       "      <th>jumia</th>\n",
       "      <td>400</td>\n",
       "      <td>NaN</td>\n",
       "      <td>450</td>\n",
       "    </tr>\n",
       "    <tr>\n",
       "      <th>etsy</th>\n",
       "      <td>500</td>\n",
       "      <td>NaN</td>\n",
       "      <td>560</td>\n",
       "    </tr>\n",
       "  </tbody>\n",
       "</table>\n",
       "</div>"
      ],
      "text/plain": [
       "        2017  2016  2019\n",
       "amazon   200   NaN   220\n",
       "ebay     300   NaN   350\n",
       "jumia    400   NaN   450\n",
       "etsy     500   NaN   560"
      ]
     },
     "execution_count": 229,
     "metadata": {},
     "output_type": "execute_result"
    }
   ],
   "source": [
    "# some values are associates thats why print\n",
    "v1 = df1.reindex(columns = [2017, 2016, 2019])\n",
    "v1"
   ]
  },
  {
   "cell_type": "code",
   "execution_count": 227,
   "metadata": {},
   "outputs": [
    {
     "data": {
      "text/html": [
       "<div>\n",
       "<style scoped>\n",
       "    .dataframe tbody tr th:only-of-type {\n",
       "        vertical-align: middle;\n",
       "    }\n",
       "\n",
       "    .dataframe tbody tr th {\n",
       "        vertical-align: top;\n",
       "    }\n",
       "\n",
       "    .dataframe thead th {\n",
       "        text-align: right;\n",
       "    }\n",
       "</style>\n",
       "<table border=\"1\" class=\"dataframe\">\n",
       "  <thead>\n",
       "    <tr style=\"text-align: right;\">\n",
       "      <th></th>\n",
       "      <th>2017</th>\n",
       "      <th>2018</th>\n",
       "      <th>2019</th>\n",
       "    </tr>\n",
       "  </thead>\n",
       "  <tbody>\n",
       "    <tr>\n",
       "      <th>amazon</th>\n",
       "      <td>200</td>\n",
       "      <td>2000</td>\n",
       "      <td>220</td>\n",
       "    </tr>\n",
       "    <tr>\n",
       "      <th>ebay</th>\n",
       "      <td>300</td>\n",
       "      <td>3050</td>\n",
       "      <td>350</td>\n",
       "    </tr>\n",
       "    <tr>\n",
       "      <th>jumia</th>\n",
       "      <td>400</td>\n",
       "      <td>4500</td>\n",
       "      <td>450</td>\n",
       "    </tr>\n",
       "    <tr>\n",
       "      <th>etsy</th>\n",
       "      <td>500</td>\n",
       "      <td>5600</td>\n",
       "      <td>560</td>\n",
       "    </tr>\n",
       "  </tbody>\n",
       "</table>\n",
       "</div>"
      ],
      "text/plain": [
       "        2017  2018  2019\n",
       "amazon   200  2000   220\n",
       "ebay     300  3050   350\n",
       "jumia    400  4500   450\n",
       "etsy     500  5600   560"
      ]
     },
     "execution_count": 227,
     "metadata": {},
     "output_type": "execute_result"
    }
   ],
   "source": [
    "df1"
   ]
  },
  {
   "cell_type": "code",
   "execution_count": 228,
   "metadata": {},
   "outputs": [
    {
     "data": {
      "text/html": [
       "<div>\n",
       "<style scoped>\n",
       "    .dataframe tbody tr th:only-of-type {\n",
       "        vertical-align: middle;\n",
       "    }\n",
       "\n",
       "    .dataframe tbody tr th {\n",
       "        vertical-align: top;\n",
       "    }\n",
       "\n",
       "    .dataframe thead th {\n",
       "        text-align: right;\n",
       "    }\n",
       "</style>\n",
       "<table border=\"1\" class=\"dataframe\">\n",
       "  <thead>\n",
       "    <tr style=\"text-align: right;\">\n",
       "      <th></th>\n",
       "      <th>index</th>\n",
       "      <th>2017</th>\n",
       "      <th>2018</th>\n",
       "      <th>2019</th>\n",
       "    </tr>\n",
       "  </thead>\n",
       "  <tbody>\n",
       "    <tr>\n",
       "      <th>0</th>\n",
       "      <td>amazon</td>\n",
       "      <td>200</td>\n",
       "      <td>2000</td>\n",
       "      <td>220</td>\n",
       "    </tr>\n",
       "    <tr>\n",
       "      <th>1</th>\n",
       "      <td>ebay</td>\n",
       "      <td>300</td>\n",
       "      <td>3050</td>\n",
       "      <td>350</td>\n",
       "    </tr>\n",
       "    <tr>\n",
       "      <th>2</th>\n",
       "      <td>jumia</td>\n",
       "      <td>400</td>\n",
       "      <td>4500</td>\n",
       "      <td>450</td>\n",
       "    </tr>\n",
       "    <tr>\n",
       "      <th>3</th>\n",
       "      <td>etsy</td>\n",
       "      <td>500</td>\n",
       "      <td>5600</td>\n",
       "      <td>560</td>\n",
       "    </tr>\n",
       "  </tbody>\n",
       "</table>\n",
       "</div>"
      ],
      "text/plain": [
       "    index  2017  2018  2019\n",
       "0  amazon   200  2000   220\n",
       "1    ebay   300  3050   350\n",
       "2   jumia   400  4500   450\n",
       "3    etsy   500  5600   560"
      ]
     },
     "execution_count": 228,
     "metadata": {},
     "output_type": "execute_result"
    }
   ],
   "source": [
    "df2"
   ]
  },
  {
   "cell_type": "code",
   "execution_count": 235,
   "metadata": {},
   "outputs": [
    {
     "data": {
      "text/html": [
       "<div>\n",
       "<style scoped>\n",
       "    .dataframe tbody tr th:only-of-type {\n",
       "        vertical-align: middle;\n",
       "    }\n",
       "\n",
       "    .dataframe tbody tr th {\n",
       "        vertical-align: top;\n",
       "    }\n",
       "\n",
       "    .dataframe thead th {\n",
       "        text-align: right;\n",
       "    }\n",
       "</style>\n",
       "<table border=\"1\" class=\"dataframe\">\n",
       "  <thead>\n",
       "    <tr style=\"text-align: right;\">\n",
       "      <th></th>\n",
       "      <th>age</th>\n",
       "      <th>years</th>\n",
       "      <th>angola</th>\n",
       "      <th>india</th>\n",
       "    </tr>\n",
       "  </thead>\n",
       "  <tbody>\n",
       "    <tr>\n",
       "      <th>0</th>\n",
       "      <td>1</td>\n",
       "      <td>2000</td>\n",
       "      <td>1</td>\n",
       "      <td>1.1</td>\n",
       "    </tr>\n",
       "    <tr>\n",
       "      <th>1</th>\n",
       "      <td>3</td>\n",
       "      <td>2001</td>\n",
       "      <td>2</td>\n",
       "      <td>2.2</td>\n",
       "    </tr>\n",
       "    <tr>\n",
       "      <th>2</th>\n",
       "      <td>5</td>\n",
       "      <td>2002</td>\n",
       "      <td>3</td>\n",
       "      <td>3.3</td>\n",
       "    </tr>\n",
       "    <tr>\n",
       "      <th>3</th>\n",
       "      <td>7</td>\n",
       "      <td>2003</td>\n",
       "      <td>4</td>\n",
       "      <td>4.4</td>\n",
       "    </tr>\n",
       "  </tbody>\n",
       "</table>\n",
       "</div>"
      ],
      "text/plain": [
       "   age  years  angola  india\n",
       "0    1   2000       1    1.1\n",
       "1    3   2001       2    2.2\n",
       "2    5   2002       3    3.3\n",
       "3    7   2003       4    4.4"
      ]
     },
     "execution_count": 235,
     "metadata": {},
     "output_type": "execute_result"
    }
   ],
   "source": [
    "# Heirarchical concept\n",
    "df3 = pd.DataFrame({'age':[1,3,5,7], 'years':[2000,2001,2002,2003], \"angola\":[1,2,3,4], \"india\":[1.1,2.2,3.3,4.4]})\n",
    "df3"
   ]
  },
  {
   "cell_type": "code",
   "execution_count": 233,
   "metadata": {},
   "outputs": [
    {
     "data": {
      "text/html": [
       "<div>\n",
       "<style scoped>\n",
       "    .dataframe tbody tr th:only-of-type {\n",
       "        vertical-align: middle;\n",
       "    }\n",
       "\n",
       "    .dataframe tbody tr th {\n",
       "        vertical-align: top;\n",
       "    }\n",
       "\n",
       "    .dataframe thead th {\n",
       "        text-align: right;\n",
       "    }\n",
       "</style>\n",
       "<table border=\"1\" class=\"dataframe\">\n",
       "  <thead>\n",
       "    <tr style=\"text-align: right;\">\n",
       "      <th></th>\n",
       "      <th></th>\n",
       "      <th>angola</th>\n",
       "      <th>india</th>\n",
       "    </tr>\n",
       "    <tr>\n",
       "      <th>years</th>\n",
       "      <th>age</th>\n",
       "      <th></th>\n",
       "      <th></th>\n",
       "    </tr>\n",
       "  </thead>\n",
       "  <tbody>\n",
       "    <tr>\n",
       "      <th>2000</th>\n",
       "      <th>1</th>\n",
       "      <td>1</td>\n",
       "      <td>1.1</td>\n",
       "    </tr>\n",
       "    <tr>\n",
       "      <th>2001</th>\n",
       "      <th>3</th>\n",
       "      <td>2</td>\n",
       "      <td>2.2</td>\n",
       "    </tr>\n",
       "    <tr>\n",
       "      <th>2002</th>\n",
       "      <th>5</th>\n",
       "      <td>3</td>\n",
       "      <td>3.3</td>\n",
       "    </tr>\n",
       "    <tr>\n",
       "      <th>2003</th>\n",
       "      <th>7</th>\n",
       "      <td>4</td>\n",
       "      <td>4.4</td>\n",
       "    </tr>\n",
       "  </tbody>\n",
       "</table>\n",
       "</div>"
      ],
      "text/plain": [
       "           angola  india\n",
       "years age               \n",
       "2000  1         1    1.1\n",
       "2001  3         2    2.2\n",
       "2002  5         3    3.3\n",
       "2003  7         4    4.4"
      ]
     },
     "execution_count": 233,
     "metadata": {},
     "output_type": "execute_result"
    }
   ],
   "source": [
    "multi_in = df3.set_index(['years','age'])\n",
    "multi_in"
   ]
  },
  {
   "cell_type": "code",
   "execution_count": 234,
   "metadata": {},
   "outputs": [
    {
     "data": {
      "text/plain": [
       "pandas.core.indexes.multi.MultiIndex"
      ]
     },
     "execution_count": 234,
     "metadata": {},
     "output_type": "execute_result"
    }
   ],
   "source": [
    "type(multi_in.index)"
   ]
  },
  {
   "cell_type": "code",
   "execution_count": 238,
   "metadata": {},
   "outputs": [
    {
     "data": {
      "text/plain": [
       "2"
      ]
     },
     "execution_count": 238,
     "metadata": {},
     "output_type": "execute_result"
    }
   ],
   "source": [
    "len(multi_in.index.levels)"
   ]
  },
  {
   "cell_type": "code",
   "execution_count": 239,
   "metadata": {},
   "outputs": [
    {
     "data": {
      "text/plain": [
       "Int64Index([1, 3, 5, 7], dtype='int64', name='age')"
      ]
     },
     "execution_count": 239,
     "metadata": {},
     "output_type": "execute_result"
    }
   ],
   "source": [
    "multi_in.index.levels[1]"
   ]
  },
  {
   "cell_type": "code",
   "execution_count": 242,
   "metadata": {},
   "outputs": [
    {
     "data": {
      "text/html": [
       "<div>\n",
       "<style scoped>\n",
       "    .dataframe tbody tr th:only-of-type {\n",
       "        vertical-align: middle;\n",
       "    }\n",
       "\n",
       "    .dataframe tbody tr th {\n",
       "        vertical-align: top;\n",
       "    }\n",
       "\n",
       "    .dataframe thead th {\n",
       "        text-align: right;\n",
       "    }\n",
       "</style>\n",
       "<table border=\"1\" class=\"dataframe\">\n",
       "  <thead>\n",
       "    <tr style=\"text-align: right;\">\n",
       "      <th></th>\n",
       "      <th>angola</th>\n",
       "      <th>india</th>\n",
       "    </tr>\n",
       "    <tr>\n",
       "      <th>age</th>\n",
       "      <th></th>\n",
       "      <th></th>\n",
       "    </tr>\n",
       "  </thead>\n",
       "  <tbody>\n",
       "    <tr>\n",
       "      <th>3</th>\n",
       "      <td>2</td>\n",
       "      <td>2.2</td>\n",
       "    </tr>\n",
       "  </tbody>\n",
       "</table>\n",
       "</div>"
      ],
      "text/plain": [
       "     angola  india\n",
       "age               \n",
       "3         2    2.2"
      ]
     },
     "execution_count": 242,
     "metadata": {},
     "output_type": "execute_result"
    }
   ],
   "source": [
    "multi_in.xs(2001)"
   ]
  },
  {
   "cell_type": "code",
   "execution_count": 245,
   "metadata": {},
   "outputs": [
    {
     "data": {
      "text/html": [
       "<div>\n",
       "<style scoped>\n",
       "    .dataframe tbody tr th:only-of-type {\n",
       "        vertical-align: middle;\n",
       "    }\n",
       "\n",
       "    .dataframe tbody tr th {\n",
       "        vertical-align: top;\n",
       "    }\n",
       "\n",
       "    .dataframe thead th {\n",
       "        text-align: right;\n",
       "    }\n",
       "</style>\n",
       "<table border=\"1\" class=\"dataframe\">\n",
       "  <thead>\n",
       "    <tr style=\"text-align: right;\">\n",
       "      <th></th>\n",
       "      <th>angola</th>\n",
       "      <th>india</th>\n",
       "    </tr>\n",
       "    <tr>\n",
       "      <th>years</th>\n",
       "      <th></th>\n",
       "      <th></th>\n",
       "    </tr>\n",
       "  </thead>\n",
       "  <tbody>\n",
       "    <tr>\n",
       "      <th>2002</th>\n",
       "      <td>3</td>\n",
       "      <td>3.3</td>\n",
       "    </tr>\n",
       "  </tbody>\n",
       "</table>\n",
       "</div>"
      ],
      "text/plain": [
       "       angola  india\n",
       "years               \n",
       "2002        3    3.3"
      ]
     },
     "execution_count": 245,
     "metadata": {},
     "output_type": "execute_result"
    }
   ],
   "source": [
    "multi_in.xs(5, level = 1)"
   ]
  },
  {
   "cell_type": "code",
   "execution_count": 247,
   "metadata": {},
   "outputs": [
    {
     "data": {
      "text/html": [
       "<div>\n",
       "<style scoped>\n",
       "    .dataframe tbody tr th:only-of-type {\n",
       "        vertical-align: middle;\n",
       "    }\n",
       "\n",
       "    .dataframe tbody tr th {\n",
       "        vertical-align: top;\n",
       "    }\n",
       "\n",
       "    .dataframe thead th {\n",
       "        text-align: right;\n",
       "    }\n",
       "</style>\n",
       "<table border=\"1\" class=\"dataframe\">\n",
       "  <thead>\n",
       "    <tr style=\"text-align: right;\">\n",
       "      <th></th>\n",
       "      <th>Date</th>\n",
       "      <th>Open</th>\n",
       "      <th>High</th>\n",
       "      <th>Low</th>\n",
       "      <th>Close</th>\n",
       "      <th>Adj Close</th>\n",
       "      <th>Volume</th>\n",
       "    </tr>\n",
       "  </thead>\n",
       "  <tbody>\n",
       "    <tr>\n",
       "      <th>0</th>\n",
       "      <td>2018-02-12</td>\n",
       "      <td>158.500000</td>\n",
       "      <td>163.889999</td>\n",
       "      <td>157.509995</td>\n",
       "      <td>162.710007</td>\n",
       "      <td>160.269562</td>\n",
       "      <td>60819500</td>\n",
       "    </tr>\n",
       "    <tr>\n",
       "      <th>1</th>\n",
       "      <td>2018-02-13</td>\n",
       "      <td>161.949997</td>\n",
       "      <td>164.750000</td>\n",
       "      <td>161.649994</td>\n",
       "      <td>164.339996</td>\n",
       "      <td>161.875107</td>\n",
       "      <td>32549200</td>\n",
       "    </tr>\n",
       "    <tr>\n",
       "      <th>2</th>\n",
       "      <td>2018-02-14</td>\n",
       "      <td>163.039993</td>\n",
       "      <td>167.539993</td>\n",
       "      <td>162.880005</td>\n",
       "      <td>167.369995</td>\n",
       "      <td>164.859650</td>\n",
       "      <td>40644900</td>\n",
       "    </tr>\n",
       "    <tr>\n",
       "      <th>3</th>\n",
       "      <td>2018-02-15</td>\n",
       "      <td>169.789993</td>\n",
       "      <td>173.089996</td>\n",
       "      <td>169.000000</td>\n",
       "      <td>172.990005</td>\n",
       "      <td>170.395370</td>\n",
       "      <td>51147200</td>\n",
       "    </tr>\n",
       "    <tr>\n",
       "      <th>4</th>\n",
       "      <td>2018-02-16</td>\n",
       "      <td>172.360001</td>\n",
       "      <td>174.820007</td>\n",
       "      <td>171.770004</td>\n",
       "      <td>172.429993</td>\n",
       "      <td>169.843765</td>\n",
       "      <td>40176100</td>\n",
       "    </tr>\n",
       "    <tr>\n",
       "      <th>5</th>\n",
       "      <td>2018-02-20</td>\n",
       "      <td>172.050003</td>\n",
       "      <td>174.259995</td>\n",
       "      <td>171.419998</td>\n",
       "      <td>171.850006</td>\n",
       "      <td>169.272461</td>\n",
       "      <td>33930500</td>\n",
       "    </tr>\n",
       "    <tr>\n",
       "      <th>6</th>\n",
       "      <td>2018-02-21</td>\n",
       "      <td>172.830002</td>\n",
       "      <td>174.119995</td>\n",
       "      <td>171.009995</td>\n",
       "      <td>171.070007</td>\n",
       "      <td>168.504166</td>\n",
       "      <td>37471600</td>\n",
       "    </tr>\n",
       "    <tr>\n",
       "      <th>...</th>\n",
       "      <td>...</td>\n",
       "      <td>...</td>\n",
       "      <td>...</td>\n",
       "      <td>...</td>\n",
       "      <td>...</td>\n",
       "      <td>...</td>\n",
       "      <td>...</td>\n",
       "    </tr>\n",
       "    <tr>\n",
       "      <th>244</th>\n",
       "      <td>2019-02-01</td>\n",
       "      <td>166.960007</td>\n",
       "      <td>168.979996</td>\n",
       "      <td>165.929993</td>\n",
       "      <td>166.520004</td>\n",
       "      <td>165.808884</td>\n",
       "      <td>32668100</td>\n",
       "    </tr>\n",
       "    <tr>\n",
       "      <th>245</th>\n",
       "      <td>2019-02-04</td>\n",
       "      <td>167.410004</td>\n",
       "      <td>171.660004</td>\n",
       "      <td>167.279999</td>\n",
       "      <td>171.250000</td>\n",
       "      <td>170.518677</td>\n",
       "      <td>31495500</td>\n",
       "    </tr>\n",
       "    <tr>\n",
       "      <th>246</th>\n",
       "      <td>2019-02-05</td>\n",
       "      <td>172.860001</td>\n",
       "      <td>175.080002</td>\n",
       "      <td>172.350006</td>\n",
       "      <td>174.179993</td>\n",
       "      <td>173.436157</td>\n",
       "      <td>36101600</td>\n",
       "    </tr>\n",
       "    <tr>\n",
       "      <th>247</th>\n",
       "      <td>2019-02-06</td>\n",
       "      <td>174.649994</td>\n",
       "      <td>175.570007</td>\n",
       "      <td>172.850006</td>\n",
       "      <td>174.240005</td>\n",
       "      <td>173.495911</td>\n",
       "      <td>28239600</td>\n",
       "    </tr>\n",
       "    <tr>\n",
       "      <th>248</th>\n",
       "      <td>2019-02-07</td>\n",
       "      <td>172.399994</td>\n",
       "      <td>173.940002</td>\n",
       "      <td>170.339996</td>\n",
       "      <td>170.940002</td>\n",
       "      <td>170.210007</td>\n",
       "      <td>31741700</td>\n",
       "    </tr>\n",
       "    <tr>\n",
       "      <th>249</th>\n",
       "      <td>2019-02-08</td>\n",
       "      <td>168.990005</td>\n",
       "      <td>170.660004</td>\n",
       "      <td>168.419998</td>\n",
       "      <td>170.410004</td>\n",
       "      <td>170.410004</td>\n",
       "      <td>23802100</td>\n",
       "    </tr>\n",
       "    <tr>\n",
       "      <th>250</th>\n",
       "      <td>2019-02-11</td>\n",
       "      <td>171.050003</td>\n",
       "      <td>171.210007</td>\n",
       "      <td>169.380005</td>\n",
       "      <td>169.860001</td>\n",
       "      <td>169.860001</td>\n",
       "      <td>12001468</td>\n",
       "    </tr>\n",
       "  </tbody>\n",
       "</table>\n",
       "<p>251 rows × 7 columns</p>\n",
       "</div>"
      ],
      "text/plain": [
       "           Date        Open        High         Low       Close   Adj Close  \\\n",
       "0    2018-02-12  158.500000  163.889999  157.509995  162.710007  160.269562   \n",
       "1    2018-02-13  161.949997  164.750000  161.649994  164.339996  161.875107   \n",
       "2    2018-02-14  163.039993  167.539993  162.880005  167.369995  164.859650   \n",
       "3    2018-02-15  169.789993  173.089996  169.000000  172.990005  170.395370   \n",
       "4    2018-02-16  172.360001  174.820007  171.770004  172.429993  169.843765   \n",
       "5    2018-02-20  172.050003  174.259995  171.419998  171.850006  169.272461   \n",
       "6    2018-02-21  172.830002  174.119995  171.009995  171.070007  168.504166   \n",
       "..          ...         ...         ...         ...         ...         ...   \n",
       "244  2019-02-01  166.960007  168.979996  165.929993  166.520004  165.808884   \n",
       "245  2019-02-04  167.410004  171.660004  167.279999  171.250000  170.518677   \n",
       "246  2019-02-05  172.860001  175.080002  172.350006  174.179993  173.436157   \n",
       "247  2019-02-06  174.649994  175.570007  172.850006  174.240005  173.495911   \n",
       "248  2019-02-07  172.399994  173.940002  170.339996  170.940002  170.210007   \n",
       "249  2019-02-08  168.990005  170.660004  168.419998  170.410004  170.410004   \n",
       "250  2019-02-11  171.050003  171.210007  169.380005  169.860001  169.860001   \n",
       "\n",
       "       Volume  \n",
       "0    60819500  \n",
       "1    32549200  \n",
       "2    40644900  \n",
       "3    51147200  \n",
       "4    40176100  \n",
       "5    33930500  \n",
       "6    37471600  \n",
       "..        ...  \n",
       "244  32668100  \n",
       "245  31495500  \n",
       "246  36101600  \n",
       "247  28239600  \n",
       "248  31741700  \n",
       "249  23802100  \n",
       "250  12001468  \n",
       "\n",
       "[251 rows x 7 columns]"
      ]
     },
     "execution_count": 247,
     "metadata": {},
     "output_type": "execute_result"
    }
   ],
   "source": [
    "# Import data or real data\n",
    "# Yahoo finance data\n",
    "# read data from csv\n",
    "import pandas as pd\n",
    "import numpy as np\n",
    "# express only 15 rows some from above, some from bottom\n",
    "pd.set_option('display.max_rows', 15)\n",
    "apple_data = pd.read_csv('AAPL.csv')\n",
    "apple_data"
   ]
  },
  {
   "cell_type": "code",
   "execution_count": 248,
   "metadata": {},
   "outputs": [
    {
     "data": {
      "text/html": [
       "<div>\n",
       "<style scoped>\n",
       "    .dataframe tbody tr th:only-of-type {\n",
       "        vertical-align: middle;\n",
       "    }\n",
       "\n",
       "    .dataframe tbody tr th {\n",
       "        vertical-align: top;\n",
       "    }\n",
       "\n",
       "    .dataframe thead th {\n",
       "        text-align: right;\n",
       "    }\n",
       "</style>\n",
       "<table border=\"1\" class=\"dataframe\">\n",
       "  <thead>\n",
       "    <tr style=\"text-align: right;\">\n",
       "      <th></th>\n",
       "      <th>Open</th>\n",
       "      <th>High</th>\n",
       "      <th>Low</th>\n",
       "      <th>Close</th>\n",
       "      <th>Adj Close</th>\n",
       "      <th>Volume</th>\n",
       "    </tr>\n",
       "    <tr>\n",
       "      <th>Date</th>\n",
       "      <th></th>\n",
       "      <th></th>\n",
       "      <th></th>\n",
       "      <th></th>\n",
       "      <th></th>\n",
       "      <th></th>\n",
       "    </tr>\n",
       "  </thead>\n",
       "  <tbody>\n",
       "    <tr>\n",
       "      <th>2018-02-12</th>\n",
       "      <td>158.500000</td>\n",
       "      <td>163.889999</td>\n",
       "      <td>157.509995</td>\n",
       "      <td>162.710007</td>\n",
       "      <td>160.269562</td>\n",
       "      <td>60819500</td>\n",
       "    </tr>\n",
       "    <tr>\n",
       "      <th>2018-02-13</th>\n",
       "      <td>161.949997</td>\n",
       "      <td>164.750000</td>\n",
       "      <td>161.649994</td>\n",
       "      <td>164.339996</td>\n",
       "      <td>161.875107</td>\n",
       "      <td>32549200</td>\n",
       "    </tr>\n",
       "    <tr>\n",
       "      <th>2018-02-14</th>\n",
       "      <td>163.039993</td>\n",
       "      <td>167.539993</td>\n",
       "      <td>162.880005</td>\n",
       "      <td>167.369995</td>\n",
       "      <td>164.859650</td>\n",
       "      <td>40644900</td>\n",
       "    </tr>\n",
       "    <tr>\n",
       "      <th>2018-02-15</th>\n",
       "      <td>169.789993</td>\n",
       "      <td>173.089996</td>\n",
       "      <td>169.000000</td>\n",
       "      <td>172.990005</td>\n",
       "      <td>170.395370</td>\n",
       "      <td>51147200</td>\n",
       "    </tr>\n",
       "    <tr>\n",
       "      <th>2018-02-16</th>\n",
       "      <td>172.360001</td>\n",
       "      <td>174.820007</td>\n",
       "      <td>171.770004</td>\n",
       "      <td>172.429993</td>\n",
       "      <td>169.843765</td>\n",
       "      <td>40176100</td>\n",
       "    </tr>\n",
       "    <tr>\n",
       "      <th>2018-02-20</th>\n",
       "      <td>172.050003</td>\n",
       "      <td>174.259995</td>\n",
       "      <td>171.419998</td>\n",
       "      <td>171.850006</td>\n",
       "      <td>169.272461</td>\n",
       "      <td>33930500</td>\n",
       "    </tr>\n",
       "    <tr>\n",
       "      <th>2018-02-21</th>\n",
       "      <td>172.830002</td>\n",
       "      <td>174.119995</td>\n",
       "      <td>171.009995</td>\n",
       "      <td>171.070007</td>\n",
       "      <td>168.504166</td>\n",
       "      <td>37471600</td>\n",
       "    </tr>\n",
       "    <tr>\n",
       "      <th>...</th>\n",
       "      <td>...</td>\n",
       "      <td>...</td>\n",
       "      <td>...</td>\n",
       "      <td>...</td>\n",
       "      <td>...</td>\n",
       "      <td>...</td>\n",
       "    </tr>\n",
       "    <tr>\n",
       "      <th>2019-02-01</th>\n",
       "      <td>166.960007</td>\n",
       "      <td>168.979996</td>\n",
       "      <td>165.929993</td>\n",
       "      <td>166.520004</td>\n",
       "      <td>165.808884</td>\n",
       "      <td>32668100</td>\n",
       "    </tr>\n",
       "    <tr>\n",
       "      <th>2019-02-04</th>\n",
       "      <td>167.410004</td>\n",
       "      <td>171.660004</td>\n",
       "      <td>167.279999</td>\n",
       "      <td>171.250000</td>\n",
       "      <td>170.518677</td>\n",
       "      <td>31495500</td>\n",
       "    </tr>\n",
       "    <tr>\n",
       "      <th>2019-02-05</th>\n",
       "      <td>172.860001</td>\n",
       "      <td>175.080002</td>\n",
       "      <td>172.350006</td>\n",
       "      <td>174.179993</td>\n",
       "      <td>173.436157</td>\n",
       "      <td>36101600</td>\n",
       "    </tr>\n",
       "    <tr>\n",
       "      <th>2019-02-06</th>\n",
       "      <td>174.649994</td>\n",
       "      <td>175.570007</td>\n",
       "      <td>172.850006</td>\n",
       "      <td>174.240005</td>\n",
       "      <td>173.495911</td>\n",
       "      <td>28239600</td>\n",
       "    </tr>\n",
       "    <tr>\n",
       "      <th>2019-02-07</th>\n",
       "      <td>172.399994</td>\n",
       "      <td>173.940002</td>\n",
       "      <td>170.339996</td>\n",
       "      <td>170.940002</td>\n",
       "      <td>170.210007</td>\n",
       "      <td>31741700</td>\n",
       "    </tr>\n",
       "    <tr>\n",
       "      <th>2019-02-08</th>\n",
       "      <td>168.990005</td>\n",
       "      <td>170.660004</td>\n",
       "      <td>168.419998</td>\n",
       "      <td>170.410004</td>\n",
       "      <td>170.410004</td>\n",
       "      <td>23802100</td>\n",
       "    </tr>\n",
       "    <tr>\n",
       "      <th>2019-02-11</th>\n",
       "      <td>171.050003</td>\n",
       "      <td>171.210007</td>\n",
       "      <td>169.380005</td>\n",
       "      <td>169.860001</td>\n",
       "      <td>169.860001</td>\n",
       "      <td>12001468</td>\n",
       "    </tr>\n",
       "  </tbody>\n",
       "</table>\n",
       "<p>251 rows × 6 columns</p>\n",
       "</div>"
      ],
      "text/plain": [
       "                  Open        High         Low       Close   Adj Close  \\\n",
       "Date                                                                     \n",
       "2018-02-12  158.500000  163.889999  157.509995  162.710007  160.269562   \n",
       "2018-02-13  161.949997  164.750000  161.649994  164.339996  161.875107   \n",
       "2018-02-14  163.039993  167.539993  162.880005  167.369995  164.859650   \n",
       "2018-02-15  169.789993  173.089996  169.000000  172.990005  170.395370   \n",
       "2018-02-16  172.360001  174.820007  171.770004  172.429993  169.843765   \n",
       "2018-02-20  172.050003  174.259995  171.419998  171.850006  169.272461   \n",
       "2018-02-21  172.830002  174.119995  171.009995  171.070007  168.504166   \n",
       "...                ...         ...         ...         ...         ...   \n",
       "2019-02-01  166.960007  168.979996  165.929993  166.520004  165.808884   \n",
       "2019-02-04  167.410004  171.660004  167.279999  171.250000  170.518677   \n",
       "2019-02-05  172.860001  175.080002  172.350006  174.179993  173.436157   \n",
       "2019-02-06  174.649994  175.570007  172.850006  174.240005  173.495911   \n",
       "2019-02-07  172.399994  173.940002  170.339996  170.940002  170.210007   \n",
       "2019-02-08  168.990005  170.660004  168.419998  170.410004  170.410004   \n",
       "2019-02-11  171.050003  171.210007  169.380005  169.860001  169.860001   \n",
       "\n",
       "              Volume  \n",
       "Date                  \n",
       "2018-02-12  60819500  \n",
       "2018-02-13  32549200  \n",
       "2018-02-14  40644900  \n",
       "2018-02-15  51147200  \n",
       "2018-02-16  40176100  \n",
       "2018-02-20  33930500  \n",
       "2018-02-21  37471600  \n",
       "...              ...  \n",
       "2019-02-01  32668100  \n",
       "2019-02-04  31495500  \n",
       "2019-02-05  36101600  \n",
       "2019-02-06  28239600  \n",
       "2019-02-07  31741700  \n",
       "2019-02-08  23802100  \n",
       "2019-02-11  12001468  \n",
       "\n",
       "[251 rows x 6 columns]"
      ]
     },
     "execution_count": 248,
     "metadata": {},
     "output_type": "execute_result"
    }
   ],
   "source": [
    "# date as an index\n",
    "apple_data2 = pd.read_csv('AAPL.csv', index_col = 0)\n",
    "apple_data2"
   ]
  },
  {
   "cell_type": "code",
   "execution_count": 250,
   "metadata": {},
   "outputs": [
    {
     "data": {
      "text/html": [
       "<div>\n",
       "<style scoped>\n",
       "    .dataframe tbody tr th:only-of-type {\n",
       "        vertical-align: middle;\n",
       "    }\n",
       "\n",
       "    .dataframe tbody tr th {\n",
       "        vertical-align: top;\n",
       "    }\n",
       "\n",
       "    .dataframe thead th {\n",
       "        text-align: right;\n",
       "    }\n",
       "</style>\n",
       "<table border=\"1\" class=\"dataframe\">\n",
       "  <thead>\n",
       "    <tr style=\"text-align: right;\">\n",
       "      <th></th>\n",
       "      <th>Open</th>\n",
       "      <th>High</th>\n",
       "      <th>Low</th>\n",
       "      <th>Close</th>\n",
       "      <th>Adj Close</th>\n",
       "      <th>Volume</th>\n",
       "    </tr>\n",
       "    <tr>\n",
       "      <th>Date</th>\n",
       "      <th></th>\n",
       "      <th></th>\n",
       "      <th></th>\n",
       "      <th></th>\n",
       "      <th></th>\n",
       "      <th></th>\n",
       "    </tr>\n",
       "  </thead>\n",
       "  <tbody>\n",
       "    <tr>\n",
       "      <th>2018-02-12</th>\n",
       "      <td>158.500000</td>\n",
       "      <td>163.889999</td>\n",
       "      <td>157.509995</td>\n",
       "      <td>162.710007</td>\n",
       "      <td>160.269562</td>\n",
       "      <td>60819500</td>\n",
       "    </tr>\n",
       "    <tr>\n",
       "      <th>2018-02-13</th>\n",
       "      <td>161.949997</td>\n",
       "      <td>164.750000</td>\n",
       "      <td>161.649994</td>\n",
       "      <td>164.339996</td>\n",
       "      <td>161.875107</td>\n",
       "      <td>32549200</td>\n",
       "    </tr>\n",
       "    <tr>\n",
       "      <th>2018-02-14</th>\n",
       "      <td>163.039993</td>\n",
       "      <td>167.539993</td>\n",
       "      <td>162.880005</td>\n",
       "      <td>167.369995</td>\n",
       "      <td>164.859650</td>\n",
       "      <td>40644900</td>\n",
       "    </tr>\n",
       "    <tr>\n",
       "      <th>2018-02-15</th>\n",
       "      <td>169.789993</td>\n",
       "      <td>173.089996</td>\n",
       "      <td>169.000000</td>\n",
       "      <td>172.990005</td>\n",
       "      <td>170.395370</td>\n",
       "      <td>51147200</td>\n",
       "    </tr>\n",
       "    <tr>\n",
       "      <th>2018-02-16</th>\n",
       "      <td>172.360001</td>\n",
       "      <td>174.820007</td>\n",
       "      <td>171.770004</td>\n",
       "      <td>172.429993</td>\n",
       "      <td>169.843765</td>\n",
       "      <td>40176100</td>\n",
       "    </tr>\n",
       "    <tr>\n",
       "      <th>2018-02-20</th>\n",
       "      <td>172.050003</td>\n",
       "      <td>174.259995</td>\n",
       "      <td>171.419998</td>\n",
       "      <td>171.850006</td>\n",
       "      <td>169.272461</td>\n",
       "      <td>33930500</td>\n",
       "    </tr>\n",
       "    <tr>\n",
       "      <th>2018-02-21</th>\n",
       "      <td>172.830002</td>\n",
       "      <td>174.119995</td>\n",
       "      <td>171.009995</td>\n",
       "      <td>171.070007</td>\n",
       "      <td>168.504166</td>\n",
       "      <td>37471600</td>\n",
       "    </tr>\n",
       "    <tr>\n",
       "      <th>...</th>\n",
       "      <td>...</td>\n",
       "      <td>...</td>\n",
       "      <td>...</td>\n",
       "      <td>...</td>\n",
       "      <td>...</td>\n",
       "      <td>...</td>\n",
       "    </tr>\n",
       "    <tr>\n",
       "      <th>2019-02-01</th>\n",
       "      <td>166.960007</td>\n",
       "      <td>168.979996</td>\n",
       "      <td>165.929993</td>\n",
       "      <td>166.520004</td>\n",
       "      <td>165.808884</td>\n",
       "      <td>32668100</td>\n",
       "    </tr>\n",
       "    <tr>\n",
       "      <th>2019-02-04</th>\n",
       "      <td>167.410004</td>\n",
       "      <td>171.660004</td>\n",
       "      <td>167.279999</td>\n",
       "      <td>171.250000</td>\n",
       "      <td>170.518677</td>\n",
       "      <td>31495500</td>\n",
       "    </tr>\n",
       "    <tr>\n",
       "      <th>2019-02-05</th>\n",
       "      <td>172.860001</td>\n",
       "      <td>175.080002</td>\n",
       "      <td>172.350006</td>\n",
       "      <td>174.179993</td>\n",
       "      <td>173.436157</td>\n",
       "      <td>36101600</td>\n",
       "    </tr>\n",
       "    <tr>\n",
       "      <th>2019-02-06</th>\n",
       "      <td>174.649994</td>\n",
       "      <td>175.570007</td>\n",
       "      <td>172.850006</td>\n",
       "      <td>174.240005</td>\n",
       "      <td>173.495911</td>\n",
       "      <td>28239600</td>\n",
       "    </tr>\n",
       "    <tr>\n",
       "      <th>2019-02-07</th>\n",
       "      <td>172.399994</td>\n",
       "      <td>173.940002</td>\n",
       "      <td>170.339996</td>\n",
       "      <td>170.940002</td>\n",
       "      <td>170.210007</td>\n",
       "      <td>31741700</td>\n",
       "    </tr>\n",
       "    <tr>\n",
       "      <th>2019-02-08</th>\n",
       "      <td>168.990005</td>\n",
       "      <td>170.660004</td>\n",
       "      <td>168.419998</td>\n",
       "      <td>170.410004</td>\n",
       "      <td>170.410004</td>\n",
       "      <td>23802100</td>\n",
       "    </tr>\n",
       "    <tr>\n",
       "      <th>2019-02-11</th>\n",
       "      <td>171.050003</td>\n",
       "      <td>171.210007</td>\n",
       "      <td>169.380005</td>\n",
       "      <td>169.860001</td>\n",
       "      <td>169.860001</td>\n",
       "      <td>12001468</td>\n",
       "    </tr>\n",
       "  </tbody>\n",
       "</table>\n",
       "<p>251 rows × 6 columns</p>\n",
       "</div>"
      ],
      "text/plain": [
       "                  Open        High         Low       Close   Adj Close  \\\n",
       "Date                                                                     \n",
       "2018-02-12  158.500000  163.889999  157.509995  162.710007  160.269562   \n",
       "2018-02-13  161.949997  164.750000  161.649994  164.339996  161.875107   \n",
       "2018-02-14  163.039993  167.539993  162.880005  167.369995  164.859650   \n",
       "2018-02-15  169.789993  173.089996  169.000000  172.990005  170.395370   \n",
       "2018-02-16  172.360001  174.820007  171.770004  172.429993  169.843765   \n",
       "2018-02-20  172.050003  174.259995  171.419998  171.850006  169.272461   \n",
       "2018-02-21  172.830002  174.119995  171.009995  171.070007  168.504166   \n",
       "...                ...         ...         ...         ...         ...   \n",
       "2019-02-01  166.960007  168.979996  165.929993  166.520004  165.808884   \n",
       "2019-02-04  167.410004  171.660004  167.279999  171.250000  170.518677   \n",
       "2019-02-05  172.860001  175.080002  172.350006  174.179993  173.436157   \n",
       "2019-02-06  174.649994  175.570007  172.850006  174.240005  173.495911   \n",
       "2019-02-07  172.399994  173.940002  170.339996  170.940002  170.210007   \n",
       "2019-02-08  168.990005  170.660004  168.419998  170.410004  170.410004   \n",
       "2019-02-11  171.050003  171.210007  169.380005  169.860001  169.860001   \n",
       "\n",
       "              Volume  \n",
       "Date                  \n",
       "2018-02-12  60819500  \n",
       "2018-02-13  32549200  \n",
       "2018-02-14  40644900  \n",
       "2018-02-15  51147200  \n",
       "2018-02-16  40176100  \n",
       "2018-02-20  33930500  \n",
       "2018-02-21  37471600  \n",
       "...              ...  \n",
       "2019-02-01  32668100  \n",
       "2019-02-04  31495500  \n",
       "2019-02-05  36101600  \n",
       "2019-02-06  28239600  \n",
       "2019-02-07  31741700  \n",
       "2019-02-08  23802100  \n",
       "2019-02-11  12001468  \n",
       "\n",
       "[251 rows x 6 columns]"
      ]
     },
     "execution_count": 250,
     "metadata": {},
     "output_type": "execute_result"
    }
   ],
   "source": [
    "apple_data3 = pd.read_csv('AAPL.csv', names = ['open', 'high', 'low', 'close', 'adjclose', 'volume'], header = 0)\n",
    "apple_data2"
   ]
  },
  {
   "cell_type": "code",
   "execution_count": 253,
   "metadata": {},
   "outputs": [
    {
     "data": {
      "text/html": [
       "<div>\n",
       "<style scoped>\n",
       "    .dataframe tbody tr th:only-of-type {\n",
       "        vertical-align: middle;\n",
       "    }\n",
       "\n",
       "    .dataframe tbody tr th {\n",
       "        vertical-align: top;\n",
       "    }\n",
       "\n",
       "    .dataframe thead th {\n",
       "        text-align: right;\n",
       "    }\n",
       "</style>\n",
       "<table border=\"1\" class=\"dataframe\">\n",
       "  <thead>\n",
       "    <tr style=\"text-align: right;\">\n",
       "      <th></th>\n",
       "      <th>Open</th>\n",
       "      <th>Close</th>\n",
       "    </tr>\n",
       "    <tr>\n",
       "      <th>Date</th>\n",
       "      <th></th>\n",
       "      <th></th>\n",
       "    </tr>\n",
       "  </thead>\n",
       "  <tbody>\n",
       "    <tr>\n",
       "      <th>2018-02-12</th>\n",
       "      <td>158.500000</td>\n",
       "      <td>162.710007</td>\n",
       "    </tr>\n",
       "    <tr>\n",
       "      <th>2018-02-13</th>\n",
       "      <td>161.949997</td>\n",
       "      <td>164.339996</td>\n",
       "    </tr>\n",
       "    <tr>\n",
       "      <th>2018-02-14</th>\n",
       "      <td>163.039993</td>\n",
       "      <td>167.369995</td>\n",
       "    </tr>\n",
       "    <tr>\n",
       "      <th>2018-02-15</th>\n",
       "      <td>169.789993</td>\n",
       "      <td>172.990005</td>\n",
       "    </tr>\n",
       "    <tr>\n",
       "      <th>2018-02-16</th>\n",
       "      <td>172.360001</td>\n",
       "      <td>172.429993</td>\n",
       "    </tr>\n",
       "    <tr>\n",
       "      <th>2018-02-20</th>\n",
       "      <td>172.050003</td>\n",
       "      <td>171.850006</td>\n",
       "    </tr>\n",
       "    <tr>\n",
       "      <th>2018-02-21</th>\n",
       "      <td>172.830002</td>\n",
       "      <td>171.070007</td>\n",
       "    </tr>\n",
       "    <tr>\n",
       "      <th>...</th>\n",
       "      <td>...</td>\n",
       "      <td>...</td>\n",
       "    </tr>\n",
       "    <tr>\n",
       "      <th>2019-02-01</th>\n",
       "      <td>166.960007</td>\n",
       "      <td>166.520004</td>\n",
       "    </tr>\n",
       "    <tr>\n",
       "      <th>2019-02-04</th>\n",
       "      <td>167.410004</td>\n",
       "      <td>171.250000</td>\n",
       "    </tr>\n",
       "    <tr>\n",
       "      <th>2019-02-05</th>\n",
       "      <td>172.860001</td>\n",
       "      <td>174.179993</td>\n",
       "    </tr>\n",
       "    <tr>\n",
       "      <th>2019-02-06</th>\n",
       "      <td>174.649994</td>\n",
       "      <td>174.240005</td>\n",
       "    </tr>\n",
       "    <tr>\n",
       "      <th>2019-02-07</th>\n",
       "      <td>172.399994</td>\n",
       "      <td>170.940002</td>\n",
       "    </tr>\n",
       "    <tr>\n",
       "      <th>2019-02-08</th>\n",
       "      <td>168.990005</td>\n",
       "      <td>170.410004</td>\n",
       "    </tr>\n",
       "    <tr>\n",
       "      <th>2019-02-11</th>\n",
       "      <td>171.050003</td>\n",
       "      <td>169.860001</td>\n",
       "    </tr>\n",
       "  </tbody>\n",
       "</table>\n",
       "<p>251 rows × 2 columns</p>\n",
       "</div>"
      ],
      "text/plain": [
       "                  Open       Close\n",
       "Date                              \n",
       "2018-02-12  158.500000  162.710007\n",
       "2018-02-13  161.949997  164.339996\n",
       "2018-02-14  163.039993  167.369995\n",
       "2018-02-15  169.789993  172.990005\n",
       "2018-02-16  172.360001  172.429993\n",
       "2018-02-20  172.050003  171.850006\n",
       "2018-02-21  172.830002  171.070007\n",
       "...                ...         ...\n",
       "2019-02-01  166.960007  166.520004\n",
       "2019-02-04  167.410004  171.250000\n",
       "2019-02-05  172.860001  174.179993\n",
       "2019-02-06  174.649994  174.240005\n",
       "2019-02-07  172.399994  170.940002\n",
       "2019-02-08  168.990005  170.410004\n",
       "2019-02-11  171.050003  169.860001\n",
       "\n",
       "[251 rows x 2 columns]"
      ]
     },
     "execution_count": 253,
     "metadata": {},
     "output_type": "execute_result"
    }
   ],
   "source": [
    "apple_data4 = pd.read_csv('AAPL.csv', usecols = ['Date', 'Open', 'Close'], index_col = 0)\n",
    "apple_data4"
   ]
  },
  {
   "cell_type": "code",
   "execution_count": 254,
   "metadata": {},
   "outputs": [],
   "source": [
    "# reverse data from here to our PC\n",
    "apple_data4.to_csv('filebacktopc.csv', index_label = 'Date')"
   ]
  },
  {
   "cell_type": "code",
   "execution_count": 255,
   "metadata": {},
   "outputs": [],
   "source": [
    "# Check your new csv file saved to your PC "
   ]
  },
  {
   "cell_type": "code",
   "execution_count": 256,
   "metadata": {},
   "outputs": [],
   "source": [
    "# read new file like this\n",
    "new = pd.read_csv(\"filebacktopc.csv\", index_col = 0)"
   ]
  },
  {
   "cell_type": "code",
   "execution_count": 257,
   "metadata": {},
   "outputs": [
    {
     "data": {
      "text/html": [
       "<div>\n",
       "<style scoped>\n",
       "    .dataframe tbody tr th:only-of-type {\n",
       "        vertical-align: middle;\n",
       "    }\n",
       "\n",
       "    .dataframe tbody tr th {\n",
       "        vertical-align: top;\n",
       "    }\n",
       "\n",
       "    .dataframe thead th {\n",
       "        text-align: right;\n",
       "    }\n",
       "</style>\n",
       "<table border=\"1\" class=\"dataframe\">\n",
       "  <thead>\n",
       "    <tr style=\"text-align: right;\">\n",
       "      <th></th>\n",
       "      <th>Open</th>\n",
       "      <th>Close</th>\n",
       "    </tr>\n",
       "    <tr>\n",
       "      <th>Date</th>\n",
       "      <th></th>\n",
       "      <th></th>\n",
       "    </tr>\n",
       "  </thead>\n",
       "  <tbody>\n",
       "    <tr>\n",
       "      <th>2018-02-12</th>\n",
       "      <td>158.500000</td>\n",
       "      <td>162.710007</td>\n",
       "    </tr>\n",
       "    <tr>\n",
       "      <th>2018-02-13</th>\n",
       "      <td>161.949997</td>\n",
       "      <td>164.339996</td>\n",
       "    </tr>\n",
       "    <tr>\n",
       "      <th>2018-02-14</th>\n",
       "      <td>163.039993</td>\n",
       "      <td>167.369995</td>\n",
       "    </tr>\n",
       "    <tr>\n",
       "      <th>2018-02-15</th>\n",
       "      <td>169.789993</td>\n",
       "      <td>172.990005</td>\n",
       "    </tr>\n",
       "    <tr>\n",
       "      <th>2018-02-16</th>\n",
       "      <td>172.360001</td>\n",
       "      <td>172.429993</td>\n",
       "    </tr>\n",
       "    <tr>\n",
       "      <th>2018-02-20</th>\n",
       "      <td>172.050003</td>\n",
       "      <td>171.850006</td>\n",
       "    </tr>\n",
       "    <tr>\n",
       "      <th>2018-02-21</th>\n",
       "      <td>172.830002</td>\n",
       "      <td>171.070007</td>\n",
       "    </tr>\n",
       "    <tr>\n",
       "      <th>...</th>\n",
       "      <td>...</td>\n",
       "      <td>...</td>\n",
       "    </tr>\n",
       "    <tr>\n",
       "      <th>2019-02-01</th>\n",
       "      <td>166.960007</td>\n",
       "      <td>166.520004</td>\n",
       "    </tr>\n",
       "    <tr>\n",
       "      <th>2019-02-04</th>\n",
       "      <td>167.410004</td>\n",
       "      <td>171.250000</td>\n",
       "    </tr>\n",
       "    <tr>\n",
       "      <th>2019-02-05</th>\n",
       "      <td>172.860001</td>\n",
       "      <td>174.179993</td>\n",
       "    </tr>\n",
       "    <tr>\n",
       "      <th>2019-02-06</th>\n",
       "      <td>174.649994</td>\n",
       "      <td>174.240005</td>\n",
       "    </tr>\n",
       "    <tr>\n",
       "      <th>2019-02-07</th>\n",
       "      <td>172.399994</td>\n",
       "      <td>170.940002</td>\n",
       "    </tr>\n",
       "    <tr>\n",
       "      <th>2019-02-08</th>\n",
       "      <td>168.990005</td>\n",
       "      <td>170.410004</td>\n",
       "    </tr>\n",
       "    <tr>\n",
       "      <th>2019-02-11</th>\n",
       "      <td>171.050003</td>\n",
       "      <td>169.860001</td>\n",
       "    </tr>\n",
       "  </tbody>\n",
       "</table>\n",
       "<p>251 rows × 2 columns</p>\n",
       "</div>"
      ],
      "text/plain": [
       "                  Open       Close\n",
       "Date                              \n",
       "2018-02-12  158.500000  162.710007\n",
       "2018-02-13  161.949997  164.339996\n",
       "2018-02-14  163.039993  167.369995\n",
       "2018-02-15  169.789993  172.990005\n",
       "2018-02-16  172.360001  172.429993\n",
       "2018-02-20  172.050003  171.850006\n",
       "2018-02-21  172.830002  171.070007\n",
       "...                ...         ...\n",
       "2019-02-01  166.960007  166.520004\n",
       "2019-02-04  167.410004  171.250000\n",
       "2019-02-05  172.860001  174.179993\n",
       "2019-02-06  174.649994  174.240005\n",
       "2019-02-07  172.399994  170.940002\n",
       "2019-02-08  168.990005  170.410004\n",
       "2019-02-11  171.050003  169.860001\n",
       "\n",
       "[251 rows x 2 columns]"
      ]
     },
     "execution_count": 257,
     "metadata": {},
     "output_type": "execute_result"
    }
   ],
   "source": [
    "new"
   ]
  },
  {
   "cell_type": "code",
   "execution_count": 258,
   "metadata": {},
   "outputs": [],
   "source": [
    "# CSV is a  most common format"
   ]
  },
  {
   "cell_type": "code",
   "execution_count": 263,
   "metadata": {},
   "outputs": [],
   "source": [
    "# now tiding up data\n",
    "# we may have some missiing data \n",
    "# we may have to change some value, units etc.\n",
    "# sometimes data is duplicated so we have to tidy up the data"
   ]
  },
  {
   "cell_type": "code",
   "execution_count": 264,
   "metadata": {},
   "outputs": [],
   "source": [
    "# let deal with missing data\n",
    "# NAN value data"
   ]
  },
  {
   "cell_type": "code",
   "execution_count": 266,
   "metadata": {},
   "outputs": [
    {
     "data": {
      "text/html": [
       "<div>\n",
       "<style scoped>\n",
       "    .dataframe tbody tr th:only-of-type {\n",
       "        vertical-align: middle;\n",
       "    }\n",
       "\n",
       "    .dataframe tbody tr th {\n",
       "        vertical-align: top;\n",
       "    }\n",
       "\n",
       "    .dataframe thead th {\n",
       "        text-align: right;\n",
       "    }\n",
       "</style>\n",
       "<table border=\"1\" class=\"dataframe\">\n",
       "  <thead>\n",
       "    <tr style=\"text-align: right;\">\n",
       "      <th></th>\n",
       "      <th>Open</th>\n",
       "      <th>High</th>\n",
       "      <th>Low</th>\n",
       "      <th>Close</th>\n",
       "      <th>Adj Close</th>\n",
       "      <th>Volume</th>\n",
       "    </tr>\n",
       "    <tr>\n",
       "      <th>Date</th>\n",
       "      <th></th>\n",
       "      <th></th>\n",
       "      <th></th>\n",
       "      <th></th>\n",
       "      <th></th>\n",
       "      <th></th>\n",
       "    </tr>\n",
       "  </thead>\n",
       "  <tbody>\n",
       "    <tr>\n",
       "      <th>2018-02-12</th>\n",
       "      <td>158.500000</td>\n",
       "      <td>163.889999</td>\n",
       "      <td>157.509995</td>\n",
       "      <td>162.710007</td>\n",
       "      <td>160.269562</td>\n",
       "      <td>60819500</td>\n",
       "    </tr>\n",
       "    <tr>\n",
       "      <th>2018-02-13</th>\n",
       "      <td>161.949997</td>\n",
       "      <td>164.750000</td>\n",
       "      <td>161.649994</td>\n",
       "      <td>164.339996</td>\n",
       "      <td>161.875107</td>\n",
       "      <td>32549200</td>\n",
       "    </tr>\n",
       "    <tr>\n",
       "      <th>2018-02-14</th>\n",
       "      <td>163.039993</td>\n",
       "      <td>167.539993</td>\n",
       "      <td>162.880005</td>\n",
       "      <td>167.369995</td>\n",
       "      <td>164.859650</td>\n",
       "      <td>40644900</td>\n",
       "    </tr>\n",
       "    <tr>\n",
       "      <th>2018-02-15</th>\n",
       "      <td>169.789993</td>\n",
       "      <td>173.089996</td>\n",
       "      <td>169.000000</td>\n",
       "      <td>172.990005</td>\n",
       "      <td>170.395370</td>\n",
       "      <td>51147200</td>\n",
       "    </tr>\n",
       "    <tr>\n",
       "      <th>2018-02-16</th>\n",
       "      <td>172.360001</td>\n",
       "      <td>174.820007</td>\n",
       "      <td>171.770004</td>\n",
       "      <td>172.429993</td>\n",
       "      <td>169.843765</td>\n",
       "      <td>40176100</td>\n",
       "    </tr>\n",
       "    <tr>\n",
       "      <th>2018-02-20</th>\n",
       "      <td>172.050003</td>\n",
       "      <td>174.259995</td>\n",
       "      <td>171.419998</td>\n",
       "      <td>171.850006</td>\n",
       "      <td>169.272461</td>\n",
       "      <td>33930500</td>\n",
       "    </tr>\n",
       "    <tr>\n",
       "      <th>2018-02-21</th>\n",
       "      <td>172.830002</td>\n",
       "      <td>174.119995</td>\n",
       "      <td>171.009995</td>\n",
       "      <td>171.070007</td>\n",
       "      <td>168.504166</td>\n",
       "      <td>37471600</td>\n",
       "    </tr>\n",
       "    <tr>\n",
       "      <th>2018-02-22</th>\n",
       "      <td>171.800003</td>\n",
       "      <td>173.949997</td>\n",
       "      <td>171.710007</td>\n",
       "      <td>172.500000</td>\n",
       "      <td>169.912704</td>\n",
       "      <td>30991900</td>\n",
       "    </tr>\n",
       "    <tr>\n",
       "      <th>2018-02-23</th>\n",
       "      <td>173.669998</td>\n",
       "      <td>175.649994</td>\n",
       "      <td>173.539993</td>\n",
       "      <td>175.500000</td>\n",
       "      <td>172.867706</td>\n",
       "      <td>33812400</td>\n",
       "    </tr>\n",
       "    <tr>\n",
       "      <th>2018-02-26</th>\n",
       "      <td>176.350006</td>\n",
       "      <td>179.389999</td>\n",
       "      <td>176.210007</td>\n",
       "      <td>178.970001</td>\n",
       "      <td>176.285675</td>\n",
       "      <td>38162200</td>\n",
       "    </tr>\n",
       "  </tbody>\n",
       "</table>\n",
       "</div>"
      ],
      "text/plain": [
       "                  Open        High         Low       Close   Adj Close  \\\n",
       "Date                                                                     \n",
       "2018-02-12  158.500000  163.889999  157.509995  162.710007  160.269562   \n",
       "2018-02-13  161.949997  164.750000  161.649994  164.339996  161.875107   \n",
       "2018-02-14  163.039993  167.539993  162.880005  167.369995  164.859650   \n",
       "2018-02-15  169.789993  173.089996  169.000000  172.990005  170.395370   \n",
       "2018-02-16  172.360001  174.820007  171.770004  172.429993  169.843765   \n",
       "2018-02-20  172.050003  174.259995  171.419998  171.850006  169.272461   \n",
       "2018-02-21  172.830002  174.119995  171.009995  171.070007  168.504166   \n",
       "2018-02-22  171.800003  173.949997  171.710007  172.500000  169.912704   \n",
       "2018-02-23  173.669998  175.649994  173.539993  175.500000  172.867706   \n",
       "2018-02-26  176.350006  179.389999  176.210007  178.970001  176.285675   \n",
       "\n",
       "              Volume  \n",
       "Date                  \n",
       "2018-02-12  60819500  \n",
       "2018-02-13  32549200  \n",
       "2018-02-14  40644900  \n",
       "2018-02-15  51147200  \n",
       "2018-02-16  40176100  \n",
       "2018-02-20  33930500  \n",
       "2018-02-21  37471600  \n",
       "2018-02-22  30991900  \n",
       "2018-02-23  33812400  \n",
       "2018-02-26  38162200  "
      ]
     },
     "execution_count": 266,
     "metadata": {},
     "output_type": "execute_result"
    }
   ],
   "source": [
    "d_f = pd.read_csv('AAPL.csv', index_col = 0)[0:10]\n",
    "d_f"
   ]
  },
  {
   "cell_type": "code",
   "execution_count": 267,
   "metadata": {},
   "outputs": [],
   "source": [
    "# but there is no missing data so we add missing data by typing manually for just working purpose"
   ]
  },
  {
   "cell_type": "code",
   "execution_count": 269,
   "metadata": {},
   "outputs": [],
   "source": [
    "d_f['Daily_Average'] = np.nan"
   ]
  },
  {
   "cell_type": "code",
   "execution_count": 270,
   "metadata": {},
   "outputs": [
    {
     "data": {
      "text/html": [
       "<div>\n",
       "<style scoped>\n",
       "    .dataframe tbody tr th:only-of-type {\n",
       "        vertical-align: middle;\n",
       "    }\n",
       "\n",
       "    .dataframe tbody tr th {\n",
       "        vertical-align: top;\n",
       "    }\n",
       "\n",
       "    .dataframe thead th {\n",
       "        text-align: right;\n",
       "    }\n",
       "</style>\n",
       "<table border=\"1\" class=\"dataframe\">\n",
       "  <thead>\n",
       "    <tr style=\"text-align: right;\">\n",
       "      <th></th>\n",
       "      <th>Open</th>\n",
       "      <th>High</th>\n",
       "      <th>Low</th>\n",
       "      <th>Close</th>\n",
       "      <th>Adj Close</th>\n",
       "      <th>Volume</th>\n",
       "      <th>Daily_Average</th>\n",
       "    </tr>\n",
       "    <tr>\n",
       "      <th>Date</th>\n",
       "      <th></th>\n",
       "      <th></th>\n",
       "      <th></th>\n",
       "      <th></th>\n",
       "      <th></th>\n",
       "      <th></th>\n",
       "      <th></th>\n",
       "    </tr>\n",
       "  </thead>\n",
       "  <tbody>\n",
       "    <tr>\n",
       "      <th>2018-02-12</th>\n",
       "      <td>158.500000</td>\n",
       "      <td>163.889999</td>\n",
       "      <td>157.509995</td>\n",
       "      <td>162.710007</td>\n",
       "      <td>160.269562</td>\n",
       "      <td>60819500</td>\n",
       "      <td>NaN</td>\n",
       "    </tr>\n",
       "    <tr>\n",
       "      <th>2018-02-13</th>\n",
       "      <td>161.949997</td>\n",
       "      <td>164.750000</td>\n",
       "      <td>161.649994</td>\n",
       "      <td>164.339996</td>\n",
       "      <td>161.875107</td>\n",
       "      <td>32549200</td>\n",
       "      <td>NaN</td>\n",
       "    </tr>\n",
       "    <tr>\n",
       "      <th>2018-02-14</th>\n",
       "      <td>163.039993</td>\n",
       "      <td>167.539993</td>\n",
       "      <td>162.880005</td>\n",
       "      <td>167.369995</td>\n",
       "      <td>164.859650</td>\n",
       "      <td>40644900</td>\n",
       "      <td>NaN</td>\n",
       "    </tr>\n",
       "    <tr>\n",
       "      <th>2018-02-15</th>\n",
       "      <td>169.789993</td>\n",
       "      <td>173.089996</td>\n",
       "      <td>169.000000</td>\n",
       "      <td>172.990005</td>\n",
       "      <td>170.395370</td>\n",
       "      <td>51147200</td>\n",
       "      <td>NaN</td>\n",
       "    </tr>\n",
       "    <tr>\n",
       "      <th>2018-02-16</th>\n",
       "      <td>172.360001</td>\n",
       "      <td>174.820007</td>\n",
       "      <td>171.770004</td>\n",
       "      <td>172.429993</td>\n",
       "      <td>169.843765</td>\n",
       "      <td>40176100</td>\n",
       "      <td>NaN</td>\n",
       "    </tr>\n",
       "    <tr>\n",
       "      <th>2018-02-20</th>\n",
       "      <td>172.050003</td>\n",
       "      <td>174.259995</td>\n",
       "      <td>171.419998</td>\n",
       "      <td>171.850006</td>\n",
       "      <td>169.272461</td>\n",
       "      <td>33930500</td>\n",
       "      <td>NaN</td>\n",
       "    </tr>\n",
       "    <tr>\n",
       "      <th>2018-02-21</th>\n",
       "      <td>172.830002</td>\n",
       "      <td>174.119995</td>\n",
       "      <td>171.009995</td>\n",
       "      <td>171.070007</td>\n",
       "      <td>168.504166</td>\n",
       "      <td>37471600</td>\n",
       "      <td>NaN</td>\n",
       "    </tr>\n",
       "    <tr>\n",
       "      <th>2018-02-22</th>\n",
       "      <td>171.800003</td>\n",
       "      <td>173.949997</td>\n",
       "      <td>171.710007</td>\n",
       "      <td>172.500000</td>\n",
       "      <td>169.912704</td>\n",
       "      <td>30991900</td>\n",
       "      <td>NaN</td>\n",
       "    </tr>\n",
       "    <tr>\n",
       "      <th>2018-02-23</th>\n",
       "      <td>173.669998</td>\n",
       "      <td>175.649994</td>\n",
       "      <td>173.539993</td>\n",
       "      <td>175.500000</td>\n",
       "      <td>172.867706</td>\n",
       "      <td>33812400</td>\n",
       "      <td>NaN</td>\n",
       "    </tr>\n",
       "    <tr>\n",
       "      <th>2018-02-26</th>\n",
       "      <td>176.350006</td>\n",
       "      <td>179.389999</td>\n",
       "      <td>176.210007</td>\n",
       "      <td>178.970001</td>\n",
       "      <td>176.285675</td>\n",
       "      <td>38162200</td>\n",
       "      <td>NaN</td>\n",
       "    </tr>\n",
       "  </tbody>\n",
       "</table>\n",
       "</div>"
      ],
      "text/plain": [
       "                  Open        High         Low       Close   Adj Close  \\\n",
       "Date                                                                     \n",
       "2018-02-12  158.500000  163.889999  157.509995  162.710007  160.269562   \n",
       "2018-02-13  161.949997  164.750000  161.649994  164.339996  161.875107   \n",
       "2018-02-14  163.039993  167.539993  162.880005  167.369995  164.859650   \n",
       "2018-02-15  169.789993  173.089996  169.000000  172.990005  170.395370   \n",
       "2018-02-16  172.360001  174.820007  171.770004  172.429993  169.843765   \n",
       "2018-02-20  172.050003  174.259995  171.419998  171.850006  169.272461   \n",
       "2018-02-21  172.830002  174.119995  171.009995  171.070007  168.504166   \n",
       "2018-02-22  171.800003  173.949997  171.710007  172.500000  169.912704   \n",
       "2018-02-23  173.669998  175.649994  173.539993  175.500000  172.867706   \n",
       "2018-02-26  176.350006  179.389999  176.210007  178.970001  176.285675   \n",
       "\n",
       "              Volume  Daily_Average  \n",
       "Date                                 \n",
       "2018-02-12  60819500            NaN  \n",
       "2018-02-13  32549200            NaN  \n",
       "2018-02-14  40644900            NaN  \n",
       "2018-02-15  51147200            NaN  \n",
       "2018-02-16  40176100            NaN  \n",
       "2018-02-20  33930500            NaN  \n",
       "2018-02-21  37471600            NaN  \n",
       "2018-02-22  30991900            NaN  \n",
       "2018-02-23  33812400            NaN  \n",
       "2018-02-26  38162200            NaN  "
      ]
     },
     "execution_count": 270,
     "metadata": {},
     "output_type": "execute_result"
    }
   ],
   "source": [
    "d_f"
   ]
  },
  {
   "cell_type": "code",
   "execution_count": 271,
   "metadata": {},
   "outputs": [],
   "source": [
    "d_f.iloc[0] = np.nan"
   ]
  },
  {
   "cell_type": "code",
   "execution_count": 272,
   "metadata": {},
   "outputs": [
    {
     "data": {
      "text/html": [
       "<div>\n",
       "<style scoped>\n",
       "    .dataframe tbody tr th:only-of-type {\n",
       "        vertical-align: middle;\n",
       "    }\n",
       "\n",
       "    .dataframe tbody tr th {\n",
       "        vertical-align: top;\n",
       "    }\n",
       "\n",
       "    .dataframe thead th {\n",
       "        text-align: right;\n",
       "    }\n",
       "</style>\n",
       "<table border=\"1\" class=\"dataframe\">\n",
       "  <thead>\n",
       "    <tr style=\"text-align: right;\">\n",
       "      <th></th>\n",
       "      <th>Open</th>\n",
       "      <th>High</th>\n",
       "      <th>Low</th>\n",
       "      <th>Close</th>\n",
       "      <th>Adj Close</th>\n",
       "      <th>Volume</th>\n",
       "      <th>Daily_Average</th>\n",
       "    </tr>\n",
       "    <tr>\n",
       "      <th>Date</th>\n",
       "      <th></th>\n",
       "      <th></th>\n",
       "      <th></th>\n",
       "      <th></th>\n",
       "      <th></th>\n",
       "      <th></th>\n",
       "      <th></th>\n",
       "    </tr>\n",
       "  </thead>\n",
       "  <tbody>\n",
       "    <tr>\n",
       "      <th>2018-02-12</th>\n",
       "      <td>NaN</td>\n",
       "      <td>NaN</td>\n",
       "      <td>NaN</td>\n",
       "      <td>NaN</td>\n",
       "      <td>NaN</td>\n",
       "      <td>NaN</td>\n",
       "      <td>NaN</td>\n",
       "    </tr>\n",
       "    <tr>\n",
       "      <th>2018-02-13</th>\n",
       "      <td>161.949997</td>\n",
       "      <td>164.750000</td>\n",
       "      <td>161.649994</td>\n",
       "      <td>164.339996</td>\n",
       "      <td>161.875107</td>\n",
       "      <td>32549200.0</td>\n",
       "      <td>NaN</td>\n",
       "    </tr>\n",
       "    <tr>\n",
       "      <th>2018-02-14</th>\n",
       "      <td>163.039993</td>\n",
       "      <td>167.539993</td>\n",
       "      <td>162.880005</td>\n",
       "      <td>167.369995</td>\n",
       "      <td>164.859650</td>\n",
       "      <td>40644900.0</td>\n",
       "      <td>NaN</td>\n",
       "    </tr>\n",
       "    <tr>\n",
       "      <th>2018-02-15</th>\n",
       "      <td>169.789993</td>\n",
       "      <td>173.089996</td>\n",
       "      <td>169.000000</td>\n",
       "      <td>172.990005</td>\n",
       "      <td>170.395370</td>\n",
       "      <td>51147200.0</td>\n",
       "      <td>NaN</td>\n",
       "    </tr>\n",
       "    <tr>\n",
       "      <th>2018-02-16</th>\n",
       "      <td>172.360001</td>\n",
       "      <td>174.820007</td>\n",
       "      <td>171.770004</td>\n",
       "      <td>172.429993</td>\n",
       "      <td>169.843765</td>\n",
       "      <td>40176100.0</td>\n",
       "      <td>NaN</td>\n",
       "    </tr>\n",
       "    <tr>\n",
       "      <th>2018-02-20</th>\n",
       "      <td>172.050003</td>\n",
       "      <td>174.259995</td>\n",
       "      <td>171.419998</td>\n",
       "      <td>171.850006</td>\n",
       "      <td>169.272461</td>\n",
       "      <td>33930500.0</td>\n",
       "      <td>NaN</td>\n",
       "    </tr>\n",
       "    <tr>\n",
       "      <th>2018-02-21</th>\n",
       "      <td>172.830002</td>\n",
       "      <td>174.119995</td>\n",
       "      <td>171.009995</td>\n",
       "      <td>171.070007</td>\n",
       "      <td>168.504166</td>\n",
       "      <td>37471600.0</td>\n",
       "      <td>NaN</td>\n",
       "    </tr>\n",
       "    <tr>\n",
       "      <th>2018-02-22</th>\n",
       "      <td>171.800003</td>\n",
       "      <td>173.949997</td>\n",
       "      <td>171.710007</td>\n",
       "      <td>172.500000</td>\n",
       "      <td>169.912704</td>\n",
       "      <td>30991900.0</td>\n",
       "      <td>NaN</td>\n",
       "    </tr>\n",
       "    <tr>\n",
       "      <th>2018-02-23</th>\n",
       "      <td>173.669998</td>\n",
       "      <td>175.649994</td>\n",
       "      <td>173.539993</td>\n",
       "      <td>175.500000</td>\n",
       "      <td>172.867706</td>\n",
       "      <td>33812400.0</td>\n",
       "      <td>NaN</td>\n",
       "    </tr>\n",
       "    <tr>\n",
       "      <th>2018-02-26</th>\n",
       "      <td>176.350006</td>\n",
       "      <td>179.389999</td>\n",
       "      <td>176.210007</td>\n",
       "      <td>178.970001</td>\n",
       "      <td>176.285675</td>\n",
       "      <td>38162200.0</td>\n",
       "      <td>NaN</td>\n",
       "    </tr>\n",
       "  </tbody>\n",
       "</table>\n",
       "</div>"
      ],
      "text/plain": [
       "                  Open        High         Low       Close   Adj Close  \\\n",
       "Date                                                                     \n",
       "2018-02-12         NaN         NaN         NaN         NaN         NaN   \n",
       "2018-02-13  161.949997  164.750000  161.649994  164.339996  161.875107   \n",
       "2018-02-14  163.039993  167.539993  162.880005  167.369995  164.859650   \n",
       "2018-02-15  169.789993  173.089996  169.000000  172.990005  170.395370   \n",
       "2018-02-16  172.360001  174.820007  171.770004  172.429993  169.843765   \n",
       "2018-02-20  172.050003  174.259995  171.419998  171.850006  169.272461   \n",
       "2018-02-21  172.830002  174.119995  171.009995  171.070007  168.504166   \n",
       "2018-02-22  171.800003  173.949997  171.710007  172.500000  169.912704   \n",
       "2018-02-23  173.669998  175.649994  173.539993  175.500000  172.867706   \n",
       "2018-02-26  176.350006  179.389999  176.210007  178.970001  176.285675   \n",
       "\n",
       "                Volume  Daily_Average  \n",
       "Date                                   \n",
       "2018-02-12         NaN            NaN  \n",
       "2018-02-13  32549200.0            NaN  \n",
       "2018-02-14  40644900.0            NaN  \n",
       "2018-02-15  51147200.0            NaN  \n",
       "2018-02-16  40176100.0            NaN  \n",
       "2018-02-20  33930500.0            NaN  \n",
       "2018-02-21  37471600.0            NaN  \n",
       "2018-02-22  30991900.0            NaN  \n",
       "2018-02-23  33812400.0            NaN  \n",
       "2018-02-26  38162200.0            NaN  "
      ]
     },
     "execution_count": 272,
     "metadata": {},
     "output_type": "execute_result"
    }
   ],
   "source": [
    "d_f"
   ]
  },
  {
   "cell_type": "code",
   "execution_count": 276,
   "metadata": {},
   "outputs": [],
   "source": [
    "# change specific value to nan\n",
    "d_f.iloc[3,0] = np.nan"
   ]
  },
  {
   "cell_type": "code",
   "execution_count": 277,
   "metadata": {},
   "outputs": [
    {
     "data": {
      "text/html": [
       "<div>\n",
       "<style scoped>\n",
       "    .dataframe tbody tr th:only-of-type {\n",
       "        vertical-align: middle;\n",
       "    }\n",
       "\n",
       "    .dataframe tbody tr th {\n",
       "        vertical-align: top;\n",
       "    }\n",
       "\n",
       "    .dataframe thead th {\n",
       "        text-align: right;\n",
       "    }\n",
       "</style>\n",
       "<table border=\"1\" class=\"dataframe\">\n",
       "  <thead>\n",
       "    <tr style=\"text-align: right;\">\n",
       "      <th></th>\n",
       "      <th>Open</th>\n",
       "      <th>High</th>\n",
       "      <th>Low</th>\n",
       "      <th>Close</th>\n",
       "      <th>Adj Close</th>\n",
       "      <th>Volume</th>\n",
       "      <th>Daily_Average</th>\n",
       "    </tr>\n",
       "    <tr>\n",
       "      <th>Date</th>\n",
       "      <th></th>\n",
       "      <th></th>\n",
       "      <th></th>\n",
       "      <th></th>\n",
       "      <th></th>\n",
       "      <th></th>\n",
       "      <th></th>\n",
       "    </tr>\n",
       "  </thead>\n",
       "  <tbody>\n",
       "    <tr>\n",
       "      <th>2018-02-12</th>\n",
       "      <td>NaN</td>\n",
       "      <td>NaN</td>\n",
       "      <td>NaN</td>\n",
       "      <td>NaN</td>\n",
       "      <td>NaN</td>\n",
       "      <td>NaN</td>\n",
       "      <td>NaN</td>\n",
       "    </tr>\n",
       "    <tr>\n",
       "      <th>2018-02-13</th>\n",
       "      <td>161.949997</td>\n",
       "      <td>164.750000</td>\n",
       "      <td>161.649994</td>\n",
       "      <td>164.339996</td>\n",
       "      <td>161.875107</td>\n",
       "      <td>32549200.0</td>\n",
       "      <td>NaN</td>\n",
       "    </tr>\n",
       "    <tr>\n",
       "      <th>2018-02-14</th>\n",
       "      <td>163.039993</td>\n",
       "      <td>167.539993</td>\n",
       "      <td>162.880005</td>\n",
       "      <td>167.369995</td>\n",
       "      <td>164.859650</td>\n",
       "      <td>40644900.0</td>\n",
       "      <td>NaN</td>\n",
       "    </tr>\n",
       "    <tr>\n",
       "      <th>2018-02-15</th>\n",
       "      <td>NaN</td>\n",
       "      <td>173.089996</td>\n",
       "      <td>169.000000</td>\n",
       "      <td>172.990005</td>\n",
       "      <td>170.395370</td>\n",
       "      <td>51147200.0</td>\n",
       "      <td>NaN</td>\n",
       "    </tr>\n",
       "    <tr>\n",
       "      <th>2018-02-16</th>\n",
       "      <td>172.360001</td>\n",
       "      <td>174.820007</td>\n",
       "      <td>171.770004</td>\n",
       "      <td>172.429993</td>\n",
       "      <td>169.843765</td>\n",
       "      <td>40176100.0</td>\n",
       "      <td>NaN</td>\n",
       "    </tr>\n",
       "    <tr>\n",
       "      <th>2018-02-20</th>\n",
       "      <td>172.050003</td>\n",
       "      <td>174.259995</td>\n",
       "      <td>171.419998</td>\n",
       "      <td>171.850006</td>\n",
       "      <td>169.272461</td>\n",
       "      <td>33930500.0</td>\n",
       "      <td>NaN</td>\n",
       "    </tr>\n",
       "    <tr>\n",
       "      <th>2018-02-21</th>\n",
       "      <td>172.830002</td>\n",
       "      <td>174.119995</td>\n",
       "      <td>171.009995</td>\n",
       "      <td>171.070007</td>\n",
       "      <td>168.504166</td>\n",
       "      <td>37471600.0</td>\n",
       "      <td>NaN</td>\n",
       "    </tr>\n",
       "    <tr>\n",
       "      <th>2018-02-22</th>\n",
       "      <td>171.800003</td>\n",
       "      <td>173.949997</td>\n",
       "      <td>171.710007</td>\n",
       "      <td>172.500000</td>\n",
       "      <td>169.912704</td>\n",
       "      <td>30991900.0</td>\n",
       "      <td>NaN</td>\n",
       "    </tr>\n",
       "    <tr>\n",
       "      <th>2018-02-23</th>\n",
       "      <td>173.669998</td>\n",
       "      <td>175.649994</td>\n",
       "      <td>173.539993</td>\n",
       "      <td>175.500000</td>\n",
       "      <td>172.867706</td>\n",
       "      <td>33812400.0</td>\n",
       "      <td>NaN</td>\n",
       "    </tr>\n",
       "    <tr>\n",
       "      <th>2018-02-26</th>\n",
       "      <td>176.350006</td>\n",
       "      <td>179.389999</td>\n",
       "      <td>176.210007</td>\n",
       "      <td>178.970001</td>\n",
       "      <td>176.285675</td>\n",
       "      <td>38162200.0</td>\n",
       "      <td>NaN</td>\n",
       "    </tr>\n",
       "  </tbody>\n",
       "</table>\n",
       "</div>"
      ],
      "text/plain": [
       "                  Open        High         Low       Close   Adj Close  \\\n",
       "Date                                                                     \n",
       "2018-02-12         NaN         NaN         NaN         NaN         NaN   \n",
       "2018-02-13  161.949997  164.750000  161.649994  164.339996  161.875107   \n",
       "2018-02-14  163.039993  167.539993  162.880005  167.369995  164.859650   \n",
       "2018-02-15         NaN  173.089996  169.000000  172.990005  170.395370   \n",
       "2018-02-16  172.360001  174.820007  171.770004  172.429993  169.843765   \n",
       "2018-02-20  172.050003  174.259995  171.419998  171.850006  169.272461   \n",
       "2018-02-21  172.830002  174.119995  171.009995  171.070007  168.504166   \n",
       "2018-02-22  171.800003  173.949997  171.710007  172.500000  169.912704   \n",
       "2018-02-23  173.669998  175.649994  173.539993  175.500000  172.867706   \n",
       "2018-02-26  176.350006  179.389999  176.210007  178.970001  176.285675   \n",
       "\n",
       "                Volume  Daily_Average  \n",
       "Date                                   \n",
       "2018-02-12         NaN            NaN  \n",
       "2018-02-13  32549200.0            NaN  \n",
       "2018-02-14  40644900.0            NaN  \n",
       "2018-02-15  51147200.0            NaN  \n",
       "2018-02-16  40176100.0            NaN  \n",
       "2018-02-20  33930500.0            NaN  \n",
       "2018-02-21  37471600.0            NaN  \n",
       "2018-02-22  30991900.0            NaN  \n",
       "2018-02-23  33812400.0            NaN  \n",
       "2018-02-26  38162200.0            NaN  "
      ]
     },
     "execution_count": 277,
     "metadata": {},
     "output_type": "execute_result"
    }
   ],
   "source": [
    "d_f"
   ]
  },
  {
   "cell_type": "code",
   "execution_count": 278,
   "metadata": {},
   "outputs": [],
   "source": [
    "d_f.iloc[2,3] = np.nan\n",
    "d_f.iloc[3,3] = np.nan\n",
    "d_f.iloc[4,3] = np.nan"
   ]
  },
  {
   "cell_type": "code",
   "execution_count": 279,
   "metadata": {},
   "outputs": [
    {
     "data": {
      "text/html": [
       "<div>\n",
       "<style scoped>\n",
       "    .dataframe tbody tr th:only-of-type {\n",
       "        vertical-align: middle;\n",
       "    }\n",
       "\n",
       "    .dataframe tbody tr th {\n",
       "        vertical-align: top;\n",
       "    }\n",
       "\n",
       "    .dataframe thead th {\n",
       "        text-align: right;\n",
       "    }\n",
       "</style>\n",
       "<table border=\"1\" class=\"dataframe\">\n",
       "  <thead>\n",
       "    <tr style=\"text-align: right;\">\n",
       "      <th></th>\n",
       "      <th>Open</th>\n",
       "      <th>High</th>\n",
       "      <th>Low</th>\n",
       "      <th>Close</th>\n",
       "      <th>Adj Close</th>\n",
       "      <th>Volume</th>\n",
       "      <th>Daily_Average</th>\n",
       "    </tr>\n",
       "    <tr>\n",
       "      <th>Date</th>\n",
       "      <th></th>\n",
       "      <th></th>\n",
       "      <th></th>\n",
       "      <th></th>\n",
       "      <th></th>\n",
       "      <th></th>\n",
       "      <th></th>\n",
       "    </tr>\n",
       "  </thead>\n",
       "  <tbody>\n",
       "    <tr>\n",
       "      <th>2018-02-12</th>\n",
       "      <td>NaN</td>\n",
       "      <td>NaN</td>\n",
       "      <td>NaN</td>\n",
       "      <td>NaN</td>\n",
       "      <td>NaN</td>\n",
       "      <td>NaN</td>\n",
       "      <td>NaN</td>\n",
       "    </tr>\n",
       "    <tr>\n",
       "      <th>2018-02-13</th>\n",
       "      <td>161.949997</td>\n",
       "      <td>164.750000</td>\n",
       "      <td>161.649994</td>\n",
       "      <td>164.339996</td>\n",
       "      <td>161.875107</td>\n",
       "      <td>32549200.0</td>\n",
       "      <td>NaN</td>\n",
       "    </tr>\n",
       "    <tr>\n",
       "      <th>2018-02-14</th>\n",
       "      <td>163.039993</td>\n",
       "      <td>167.539993</td>\n",
       "      <td>162.880005</td>\n",
       "      <td>NaN</td>\n",
       "      <td>164.859650</td>\n",
       "      <td>40644900.0</td>\n",
       "      <td>NaN</td>\n",
       "    </tr>\n",
       "    <tr>\n",
       "      <th>2018-02-15</th>\n",
       "      <td>NaN</td>\n",
       "      <td>173.089996</td>\n",
       "      <td>169.000000</td>\n",
       "      <td>NaN</td>\n",
       "      <td>170.395370</td>\n",
       "      <td>51147200.0</td>\n",
       "      <td>NaN</td>\n",
       "    </tr>\n",
       "    <tr>\n",
       "      <th>2018-02-16</th>\n",
       "      <td>172.360001</td>\n",
       "      <td>174.820007</td>\n",
       "      <td>171.770004</td>\n",
       "      <td>NaN</td>\n",
       "      <td>169.843765</td>\n",
       "      <td>40176100.0</td>\n",
       "      <td>NaN</td>\n",
       "    </tr>\n",
       "    <tr>\n",
       "      <th>2018-02-20</th>\n",
       "      <td>172.050003</td>\n",
       "      <td>174.259995</td>\n",
       "      <td>171.419998</td>\n",
       "      <td>171.850006</td>\n",
       "      <td>169.272461</td>\n",
       "      <td>33930500.0</td>\n",
       "      <td>NaN</td>\n",
       "    </tr>\n",
       "    <tr>\n",
       "      <th>2018-02-21</th>\n",
       "      <td>172.830002</td>\n",
       "      <td>174.119995</td>\n",
       "      <td>171.009995</td>\n",
       "      <td>171.070007</td>\n",
       "      <td>168.504166</td>\n",
       "      <td>37471600.0</td>\n",
       "      <td>NaN</td>\n",
       "    </tr>\n",
       "    <tr>\n",
       "      <th>2018-02-22</th>\n",
       "      <td>171.800003</td>\n",
       "      <td>173.949997</td>\n",
       "      <td>171.710007</td>\n",
       "      <td>172.500000</td>\n",
       "      <td>169.912704</td>\n",
       "      <td>30991900.0</td>\n",
       "      <td>NaN</td>\n",
       "    </tr>\n",
       "    <tr>\n",
       "      <th>2018-02-23</th>\n",
       "      <td>173.669998</td>\n",
       "      <td>175.649994</td>\n",
       "      <td>173.539993</td>\n",
       "      <td>175.500000</td>\n",
       "      <td>172.867706</td>\n",
       "      <td>33812400.0</td>\n",
       "      <td>NaN</td>\n",
       "    </tr>\n",
       "    <tr>\n",
       "      <th>2018-02-26</th>\n",
       "      <td>176.350006</td>\n",
       "      <td>179.389999</td>\n",
       "      <td>176.210007</td>\n",
       "      <td>178.970001</td>\n",
       "      <td>176.285675</td>\n",
       "      <td>38162200.0</td>\n",
       "      <td>NaN</td>\n",
       "    </tr>\n",
       "  </tbody>\n",
       "</table>\n",
       "</div>"
      ],
      "text/plain": [
       "                  Open        High         Low       Close   Adj Close  \\\n",
       "Date                                                                     \n",
       "2018-02-12         NaN         NaN         NaN         NaN         NaN   \n",
       "2018-02-13  161.949997  164.750000  161.649994  164.339996  161.875107   \n",
       "2018-02-14  163.039993  167.539993  162.880005         NaN  164.859650   \n",
       "2018-02-15         NaN  173.089996  169.000000         NaN  170.395370   \n",
       "2018-02-16  172.360001  174.820007  171.770004         NaN  169.843765   \n",
       "2018-02-20  172.050003  174.259995  171.419998  171.850006  169.272461   \n",
       "2018-02-21  172.830002  174.119995  171.009995  171.070007  168.504166   \n",
       "2018-02-22  171.800003  173.949997  171.710007  172.500000  169.912704   \n",
       "2018-02-23  173.669998  175.649994  173.539993  175.500000  172.867706   \n",
       "2018-02-26  176.350006  179.389999  176.210007  178.970001  176.285675   \n",
       "\n",
       "                Volume  Daily_Average  \n",
       "Date                                   \n",
       "2018-02-12         NaN            NaN  \n",
       "2018-02-13  32549200.0            NaN  \n",
       "2018-02-14  40644900.0            NaN  \n",
       "2018-02-15  51147200.0            NaN  \n",
       "2018-02-16  40176100.0            NaN  \n",
       "2018-02-20  33930500.0            NaN  \n",
       "2018-02-21  37471600.0            NaN  \n",
       "2018-02-22  30991900.0            NaN  \n",
       "2018-02-23  33812400.0            NaN  \n",
       "2018-02-26  38162200.0            NaN  "
      ]
     },
     "execution_count": 279,
     "metadata": {},
     "output_type": "execute_result"
    }
   ],
   "source": [
    "d_f"
   ]
  },
  {
   "cell_type": "code",
   "execution_count": 280,
   "metadata": {},
   "outputs": [],
   "source": [
    "# now we have many fields with NaN fields"
   ]
  },
  {
   "cell_type": "code",
   "execution_count": 281,
   "metadata": {},
   "outputs": [
    {
     "data": {
      "text/html": [
       "<div>\n",
       "<style scoped>\n",
       "    .dataframe tbody tr th:only-of-type {\n",
       "        vertical-align: middle;\n",
       "    }\n",
       "\n",
       "    .dataframe tbody tr th {\n",
       "        vertical-align: top;\n",
       "    }\n",
       "\n",
       "    .dataframe thead th {\n",
       "        text-align: right;\n",
       "    }\n",
       "</style>\n",
       "<table border=\"1\" class=\"dataframe\">\n",
       "  <thead>\n",
       "    <tr style=\"text-align: right;\">\n",
       "      <th></th>\n",
       "      <th>Open</th>\n",
       "      <th>High</th>\n",
       "      <th>Low</th>\n",
       "      <th>Close</th>\n",
       "      <th>Adj Close</th>\n",
       "      <th>Volume</th>\n",
       "      <th>Daily_Average</th>\n",
       "    </tr>\n",
       "    <tr>\n",
       "      <th>Date</th>\n",
       "      <th></th>\n",
       "      <th></th>\n",
       "      <th></th>\n",
       "      <th></th>\n",
       "      <th></th>\n",
       "      <th></th>\n",
       "      <th></th>\n",
       "    </tr>\n",
       "  </thead>\n",
       "  <tbody>\n",
       "    <tr>\n",
       "      <th>2018-02-12</th>\n",
       "      <td>True</td>\n",
       "      <td>True</td>\n",
       "      <td>True</td>\n",
       "      <td>True</td>\n",
       "      <td>True</td>\n",
       "      <td>True</td>\n",
       "      <td>True</td>\n",
       "    </tr>\n",
       "    <tr>\n",
       "      <th>2018-02-13</th>\n",
       "      <td>False</td>\n",
       "      <td>False</td>\n",
       "      <td>False</td>\n",
       "      <td>False</td>\n",
       "      <td>False</td>\n",
       "      <td>False</td>\n",
       "      <td>True</td>\n",
       "    </tr>\n",
       "    <tr>\n",
       "      <th>2018-02-14</th>\n",
       "      <td>False</td>\n",
       "      <td>False</td>\n",
       "      <td>False</td>\n",
       "      <td>True</td>\n",
       "      <td>False</td>\n",
       "      <td>False</td>\n",
       "      <td>True</td>\n",
       "    </tr>\n",
       "    <tr>\n",
       "      <th>2018-02-15</th>\n",
       "      <td>True</td>\n",
       "      <td>False</td>\n",
       "      <td>False</td>\n",
       "      <td>True</td>\n",
       "      <td>False</td>\n",
       "      <td>False</td>\n",
       "      <td>True</td>\n",
       "    </tr>\n",
       "    <tr>\n",
       "      <th>2018-02-16</th>\n",
       "      <td>False</td>\n",
       "      <td>False</td>\n",
       "      <td>False</td>\n",
       "      <td>True</td>\n",
       "      <td>False</td>\n",
       "      <td>False</td>\n",
       "      <td>True</td>\n",
       "    </tr>\n",
       "    <tr>\n",
       "      <th>2018-02-20</th>\n",
       "      <td>False</td>\n",
       "      <td>False</td>\n",
       "      <td>False</td>\n",
       "      <td>False</td>\n",
       "      <td>False</td>\n",
       "      <td>False</td>\n",
       "      <td>True</td>\n",
       "    </tr>\n",
       "    <tr>\n",
       "      <th>2018-02-21</th>\n",
       "      <td>False</td>\n",
       "      <td>False</td>\n",
       "      <td>False</td>\n",
       "      <td>False</td>\n",
       "      <td>False</td>\n",
       "      <td>False</td>\n",
       "      <td>True</td>\n",
       "    </tr>\n",
       "    <tr>\n",
       "      <th>2018-02-22</th>\n",
       "      <td>False</td>\n",
       "      <td>False</td>\n",
       "      <td>False</td>\n",
       "      <td>False</td>\n",
       "      <td>False</td>\n",
       "      <td>False</td>\n",
       "      <td>True</td>\n",
       "    </tr>\n",
       "    <tr>\n",
       "      <th>2018-02-23</th>\n",
       "      <td>False</td>\n",
       "      <td>False</td>\n",
       "      <td>False</td>\n",
       "      <td>False</td>\n",
       "      <td>False</td>\n",
       "      <td>False</td>\n",
       "      <td>True</td>\n",
       "    </tr>\n",
       "    <tr>\n",
       "      <th>2018-02-26</th>\n",
       "      <td>False</td>\n",
       "      <td>False</td>\n",
       "      <td>False</td>\n",
       "      <td>False</td>\n",
       "      <td>False</td>\n",
       "      <td>False</td>\n",
       "      <td>True</td>\n",
       "    </tr>\n",
       "  </tbody>\n",
       "</table>\n",
       "</div>"
      ],
      "text/plain": [
       "             Open   High    Low  Close  Adj Close  Volume  Daily_Average\n",
       "Date                                                                    \n",
       "2018-02-12   True   True   True   True       True    True           True\n",
       "2018-02-13  False  False  False  False      False   False           True\n",
       "2018-02-14  False  False  False   True      False   False           True\n",
       "2018-02-15   True  False  False   True      False   False           True\n",
       "2018-02-16  False  False  False   True      False   False           True\n",
       "2018-02-20  False  False  False  False      False   False           True\n",
       "2018-02-21  False  False  False  False      False   False           True\n",
       "2018-02-22  False  False  False  False      False   False           True\n",
       "2018-02-23  False  False  False  False      False   False           True\n",
       "2018-02-26  False  False  False  False      False   False           True"
      ]
     },
     "execution_count": 281,
     "metadata": {},
     "output_type": "execute_result"
    }
   ],
   "source": [
    "# nan value returns as TRUE else FALSE\n",
    "d_f.isnull()"
   ]
  },
  {
   "cell_type": "code",
   "execution_count": 282,
   "metadata": {},
   "outputs": [
    {
     "data": {
      "text/plain": [
       "Open              2\n",
       "High              1\n",
       "Low               1\n",
       "Close             4\n",
       "Adj Close         1\n",
       "Volume            1\n",
       "Daily_Average    10\n",
       "dtype: int64"
      ]
     },
     "execution_count": 282,
     "metadata": {},
     "output_type": "execute_result"
    }
   ],
   "source": [
    "# sum of each nan value in each column\n",
    "d_f.isnull().sum()"
   ]
  },
  {
   "cell_type": "code",
   "execution_count": 284,
   "metadata": {},
   "outputs": [
    {
     "data": {
      "text/plain": [
       "20"
      ]
     },
     "execution_count": 284,
     "metadata": {},
     "output_type": "execute_result"
    }
   ],
   "source": [
    "# overall missing value\n",
    "d_f.isnull().sum().sum()"
   ]
  },
  {
   "cell_type": "code",
   "execution_count": 285,
   "metadata": {},
   "outputs": [
    {
     "data": {
      "text/plain": [
       "Open             8\n",
       "High             9\n",
       "Low              9\n",
       "Close            6\n",
       "Adj Close        9\n",
       "Volume           9\n",
       "Daily_Average    0\n",
       "dtype: int64"
      ]
     },
     "execution_count": 285,
     "metadata": {},
     "output_type": "execute_result"
    }
   ],
   "source": [
    "# count not nan values\n",
    "d_f.count()"
   ]
  },
  {
   "cell_type": "code",
   "execution_count": 286,
   "metadata": {},
   "outputs": [
    {
     "data": {
      "text/plain": [
       "Open              2\n",
       "High              1\n",
       "Low               1\n",
       "Close             4\n",
       "Adj Close         1\n",
       "Volume            1\n",
       "Daily_Average    10\n",
       "dtype: int64"
      ]
     },
     "execution_count": 286,
     "metadata": {},
     "output_type": "execute_result"
    }
   ],
   "source": [
    "# subtact non nan from total\n",
    "len(d_f) - d_f.count()"
   ]
  },
  {
   "cell_type": "code",
   "execution_count": 288,
   "metadata": {},
   "outputs": [
    {
     "data": {
      "text/plain": [
       "20"
      ]
     },
     "execution_count": 288,
     "metadata": {},
     "output_type": "execute_result"
    }
   ],
   "source": [
    "(len(d_f) - d_f.count()).sum()"
   ]
  },
  {
   "cell_type": "code",
   "execution_count": 289,
   "metadata": {},
   "outputs": [
    {
     "data": {
      "text/plain": [
       "Open             8\n",
       "High             9\n",
       "Low              9\n",
       "Close            6\n",
       "Adj Close        9\n",
       "Volume           9\n",
       "Daily_Average    0\n",
       "dtype: int64"
      ]
     },
     "execution_count": 289,
     "metadata": {},
     "output_type": "execute_result"
    }
   ],
   "source": [
    "d_f.notnull().sum()"
   ]
  },
  {
   "cell_type": "code",
   "execution_count": 290,
   "metadata": {},
   "outputs": [
    {
     "data": {
      "text/plain": [
       "Open                      NaN\n",
       "High             1.730900e+02\n",
       "Low              1.690000e+02\n",
       "Close                     NaN\n",
       "Adj Close        1.703954e+02\n",
       "Volume           5.114720e+07\n",
       "Daily_Average             NaN\n",
       "Name: 2018-02-15, dtype: float64"
      ]
     },
     "execution_count": 290,
     "metadata": {},
     "output_type": "execute_result"
    }
   ],
   "source": [
    "# techniques with handling with nan data's\n",
    "# create a series of object\n",
    "s1 = d_f.iloc[3]\n",
    "s1"
   ]
  },
  {
   "cell_type": "code",
   "execution_count": 293,
   "metadata": {},
   "outputs": [],
   "source": [
    "# dropna function\n",
    "# drop nan function\n",
    "s2 = s1.dropna()"
   ]
  },
  {
   "cell_type": "code",
   "execution_count": 294,
   "metadata": {},
   "outputs": [
    {
     "data": {
      "text/plain": [
       "High         1.730900e+02\n",
       "Low          1.690000e+02\n",
       "Adj Close    1.703954e+02\n",
       "Volume       5.114720e+07\n",
       "Name: 2018-02-15, dtype: float64"
      ]
     },
     "execution_count": 294,
     "metadata": {},
     "output_type": "execute_result"
    }
   ],
   "source": [
    "s2"
   ]
  },
  {
   "cell_type": "code",
   "execution_count": 295,
   "metadata": {},
   "outputs": [
    {
     "data": {
      "text/html": [
       "<div>\n",
       "<style scoped>\n",
       "    .dataframe tbody tr th:only-of-type {\n",
       "        vertical-align: middle;\n",
       "    }\n",
       "\n",
       "    .dataframe tbody tr th {\n",
       "        vertical-align: top;\n",
       "    }\n",
       "\n",
       "    .dataframe thead th {\n",
       "        text-align: right;\n",
       "    }\n",
       "</style>\n",
       "<table border=\"1\" class=\"dataframe\">\n",
       "  <thead>\n",
       "    <tr style=\"text-align: right;\">\n",
       "      <th></th>\n",
       "      <th>Open</th>\n",
       "      <th>High</th>\n",
       "      <th>Low</th>\n",
       "      <th>Close</th>\n",
       "      <th>Adj Close</th>\n",
       "      <th>Volume</th>\n",
       "      <th>Daily_Average</th>\n",
       "    </tr>\n",
       "    <tr>\n",
       "      <th>Date</th>\n",
       "      <th></th>\n",
       "      <th></th>\n",
       "      <th></th>\n",
       "      <th></th>\n",
       "      <th></th>\n",
       "      <th></th>\n",
       "      <th></th>\n",
       "    </tr>\n",
       "  </thead>\n",
       "  <tbody>\n",
       "  </tbody>\n",
       "</table>\n",
       "</div>"
      ],
      "text/plain": [
       "Empty DataFrame\n",
       "Columns: [Open, High, Low, Close, Adj Close, Volume, Daily_Average]\n",
       "Index: []"
      ]
     },
     "execution_count": 295,
     "metadata": {},
     "output_type": "execute_result"
    }
   ],
   "source": [
    "# In dataframe drop all rows if only one nan\n",
    "d_f.dropna()"
   ]
  },
  {
   "cell_type": "code",
   "execution_count": 296,
   "metadata": {},
   "outputs": [
    {
     "data": {
      "text/html": [
       "<div>\n",
       "<style scoped>\n",
       "    .dataframe tbody tr th:only-of-type {\n",
       "        vertical-align: middle;\n",
       "    }\n",
       "\n",
       "    .dataframe tbody tr th {\n",
       "        vertical-align: top;\n",
       "    }\n",
       "\n",
       "    .dataframe thead th {\n",
       "        text-align: right;\n",
       "    }\n",
       "</style>\n",
       "<table border=\"1\" class=\"dataframe\">\n",
       "  <thead>\n",
       "    <tr style=\"text-align: right;\">\n",
       "      <th></th>\n",
       "      <th>Open</th>\n",
       "      <th>High</th>\n",
       "      <th>Low</th>\n",
       "      <th>Close</th>\n",
       "      <th>Adj Close</th>\n",
       "      <th>Volume</th>\n",
       "      <th>Daily_Average</th>\n",
       "    </tr>\n",
       "    <tr>\n",
       "      <th>Date</th>\n",
       "      <th></th>\n",
       "      <th></th>\n",
       "      <th></th>\n",
       "      <th></th>\n",
       "      <th></th>\n",
       "      <th></th>\n",
       "      <th></th>\n",
       "    </tr>\n",
       "  </thead>\n",
       "  <tbody>\n",
       "    <tr>\n",
       "      <th>2018-02-12</th>\n",
       "      <td>NaN</td>\n",
       "      <td>NaN</td>\n",
       "      <td>NaN</td>\n",
       "      <td>NaN</td>\n",
       "      <td>NaN</td>\n",
       "      <td>NaN</td>\n",
       "      <td>NaN</td>\n",
       "    </tr>\n",
       "    <tr>\n",
       "      <th>2018-02-13</th>\n",
       "      <td>161.949997</td>\n",
       "      <td>164.750000</td>\n",
       "      <td>161.649994</td>\n",
       "      <td>164.339996</td>\n",
       "      <td>161.875107</td>\n",
       "      <td>32549200.0</td>\n",
       "      <td>NaN</td>\n",
       "    </tr>\n",
       "    <tr>\n",
       "      <th>2018-02-14</th>\n",
       "      <td>163.039993</td>\n",
       "      <td>167.539993</td>\n",
       "      <td>162.880005</td>\n",
       "      <td>NaN</td>\n",
       "      <td>164.859650</td>\n",
       "      <td>40644900.0</td>\n",
       "      <td>NaN</td>\n",
       "    </tr>\n",
       "    <tr>\n",
       "      <th>2018-02-15</th>\n",
       "      <td>NaN</td>\n",
       "      <td>173.089996</td>\n",
       "      <td>169.000000</td>\n",
       "      <td>NaN</td>\n",
       "      <td>170.395370</td>\n",
       "      <td>51147200.0</td>\n",
       "      <td>NaN</td>\n",
       "    </tr>\n",
       "    <tr>\n",
       "      <th>2018-02-16</th>\n",
       "      <td>172.360001</td>\n",
       "      <td>174.820007</td>\n",
       "      <td>171.770004</td>\n",
       "      <td>NaN</td>\n",
       "      <td>169.843765</td>\n",
       "      <td>40176100.0</td>\n",
       "      <td>NaN</td>\n",
       "    </tr>\n",
       "    <tr>\n",
       "      <th>2018-02-20</th>\n",
       "      <td>172.050003</td>\n",
       "      <td>174.259995</td>\n",
       "      <td>171.419998</td>\n",
       "      <td>171.850006</td>\n",
       "      <td>169.272461</td>\n",
       "      <td>33930500.0</td>\n",
       "      <td>NaN</td>\n",
       "    </tr>\n",
       "    <tr>\n",
       "      <th>2018-02-21</th>\n",
       "      <td>172.830002</td>\n",
       "      <td>174.119995</td>\n",
       "      <td>171.009995</td>\n",
       "      <td>171.070007</td>\n",
       "      <td>168.504166</td>\n",
       "      <td>37471600.0</td>\n",
       "      <td>NaN</td>\n",
       "    </tr>\n",
       "    <tr>\n",
       "      <th>2018-02-22</th>\n",
       "      <td>171.800003</td>\n",
       "      <td>173.949997</td>\n",
       "      <td>171.710007</td>\n",
       "      <td>172.500000</td>\n",
       "      <td>169.912704</td>\n",
       "      <td>30991900.0</td>\n",
       "      <td>NaN</td>\n",
       "    </tr>\n",
       "    <tr>\n",
       "      <th>2018-02-23</th>\n",
       "      <td>173.669998</td>\n",
       "      <td>175.649994</td>\n",
       "      <td>173.539993</td>\n",
       "      <td>175.500000</td>\n",
       "      <td>172.867706</td>\n",
       "      <td>33812400.0</td>\n",
       "      <td>NaN</td>\n",
       "    </tr>\n",
       "    <tr>\n",
       "      <th>2018-02-26</th>\n",
       "      <td>176.350006</td>\n",
       "      <td>179.389999</td>\n",
       "      <td>176.210007</td>\n",
       "      <td>178.970001</td>\n",
       "      <td>176.285675</td>\n",
       "      <td>38162200.0</td>\n",
       "      <td>NaN</td>\n",
       "    </tr>\n",
       "  </tbody>\n",
       "</table>\n",
       "</div>"
      ],
      "text/plain": [
       "                  Open        High         Low       Close   Adj Close  \\\n",
       "Date                                                                     \n",
       "2018-02-12         NaN         NaN         NaN         NaN         NaN   \n",
       "2018-02-13  161.949997  164.750000  161.649994  164.339996  161.875107   \n",
       "2018-02-14  163.039993  167.539993  162.880005         NaN  164.859650   \n",
       "2018-02-15         NaN  173.089996  169.000000         NaN  170.395370   \n",
       "2018-02-16  172.360001  174.820007  171.770004         NaN  169.843765   \n",
       "2018-02-20  172.050003  174.259995  171.419998  171.850006  169.272461   \n",
       "2018-02-21  172.830002  174.119995  171.009995  171.070007  168.504166   \n",
       "2018-02-22  171.800003  173.949997  171.710007  172.500000  169.912704   \n",
       "2018-02-23  173.669998  175.649994  173.539993  175.500000  172.867706   \n",
       "2018-02-26  176.350006  179.389999  176.210007  178.970001  176.285675   \n",
       "\n",
       "                Volume  Daily_Average  \n",
       "Date                                   \n",
       "2018-02-12         NaN            NaN  \n",
       "2018-02-13  32549200.0            NaN  \n",
       "2018-02-14  40644900.0            NaN  \n",
       "2018-02-15  51147200.0            NaN  \n",
       "2018-02-16  40176100.0            NaN  \n",
       "2018-02-20  33930500.0            NaN  \n",
       "2018-02-21  37471600.0            NaN  \n",
       "2018-02-22  30991900.0            NaN  \n",
       "2018-02-23  33812400.0            NaN  \n",
       "2018-02-26  38162200.0            NaN  "
      ]
     },
     "execution_count": 296,
     "metadata": {},
     "output_type": "execute_result"
    }
   ],
   "source": [
    "d_f"
   ]
  },
  {
   "cell_type": "code",
   "execution_count": 298,
   "metadata": {},
   "outputs": [
    {
     "data": {
      "text/html": [
       "<div>\n",
       "<style scoped>\n",
       "    .dataframe tbody tr th:only-of-type {\n",
       "        vertical-align: middle;\n",
       "    }\n",
       "\n",
       "    .dataframe tbody tr th {\n",
       "        vertical-align: top;\n",
       "    }\n",
       "\n",
       "    .dataframe thead th {\n",
       "        text-align: right;\n",
       "    }\n",
       "</style>\n",
       "<table border=\"1\" class=\"dataframe\">\n",
       "  <thead>\n",
       "    <tr style=\"text-align: right;\">\n",
       "      <th></th>\n",
       "      <th>Open</th>\n",
       "      <th>High</th>\n",
       "      <th>Low</th>\n",
       "      <th>Close</th>\n",
       "      <th>Adj Close</th>\n",
       "      <th>Volume</th>\n",
       "      <th>Daily_Average</th>\n",
       "    </tr>\n",
       "    <tr>\n",
       "      <th>Date</th>\n",
       "      <th></th>\n",
       "      <th></th>\n",
       "      <th></th>\n",
       "      <th></th>\n",
       "      <th></th>\n",
       "      <th></th>\n",
       "      <th></th>\n",
       "    </tr>\n",
       "  </thead>\n",
       "  <tbody>\n",
       "    <tr>\n",
       "      <th>2018-02-13</th>\n",
       "      <td>161.949997</td>\n",
       "      <td>164.750000</td>\n",
       "      <td>161.649994</td>\n",
       "      <td>164.339996</td>\n",
       "      <td>161.875107</td>\n",
       "      <td>32549200.0</td>\n",
       "      <td>NaN</td>\n",
       "    </tr>\n",
       "    <tr>\n",
       "      <th>2018-02-14</th>\n",
       "      <td>163.039993</td>\n",
       "      <td>167.539993</td>\n",
       "      <td>162.880005</td>\n",
       "      <td>NaN</td>\n",
       "      <td>164.859650</td>\n",
       "      <td>40644900.0</td>\n",
       "      <td>NaN</td>\n",
       "    </tr>\n",
       "    <tr>\n",
       "      <th>2018-02-15</th>\n",
       "      <td>NaN</td>\n",
       "      <td>173.089996</td>\n",
       "      <td>169.000000</td>\n",
       "      <td>NaN</td>\n",
       "      <td>170.395370</td>\n",
       "      <td>51147200.0</td>\n",
       "      <td>NaN</td>\n",
       "    </tr>\n",
       "    <tr>\n",
       "      <th>2018-02-16</th>\n",
       "      <td>172.360001</td>\n",
       "      <td>174.820007</td>\n",
       "      <td>171.770004</td>\n",
       "      <td>NaN</td>\n",
       "      <td>169.843765</td>\n",
       "      <td>40176100.0</td>\n",
       "      <td>NaN</td>\n",
       "    </tr>\n",
       "    <tr>\n",
       "      <th>2018-02-20</th>\n",
       "      <td>172.050003</td>\n",
       "      <td>174.259995</td>\n",
       "      <td>171.419998</td>\n",
       "      <td>171.850006</td>\n",
       "      <td>169.272461</td>\n",
       "      <td>33930500.0</td>\n",
       "      <td>NaN</td>\n",
       "    </tr>\n",
       "    <tr>\n",
       "      <th>2018-02-21</th>\n",
       "      <td>172.830002</td>\n",
       "      <td>174.119995</td>\n",
       "      <td>171.009995</td>\n",
       "      <td>171.070007</td>\n",
       "      <td>168.504166</td>\n",
       "      <td>37471600.0</td>\n",
       "      <td>NaN</td>\n",
       "    </tr>\n",
       "    <tr>\n",
       "      <th>2018-02-22</th>\n",
       "      <td>171.800003</td>\n",
       "      <td>173.949997</td>\n",
       "      <td>171.710007</td>\n",
       "      <td>172.500000</td>\n",
       "      <td>169.912704</td>\n",
       "      <td>30991900.0</td>\n",
       "      <td>NaN</td>\n",
       "    </tr>\n",
       "    <tr>\n",
       "      <th>2018-02-23</th>\n",
       "      <td>173.669998</td>\n",
       "      <td>175.649994</td>\n",
       "      <td>173.539993</td>\n",
       "      <td>175.500000</td>\n",
       "      <td>172.867706</td>\n",
       "      <td>33812400.0</td>\n",
       "      <td>NaN</td>\n",
       "    </tr>\n",
       "    <tr>\n",
       "      <th>2018-02-26</th>\n",
       "      <td>176.350006</td>\n",
       "      <td>179.389999</td>\n",
       "      <td>176.210007</td>\n",
       "      <td>178.970001</td>\n",
       "      <td>176.285675</td>\n",
       "      <td>38162200.0</td>\n",
       "      <td>NaN</td>\n",
       "    </tr>\n",
       "  </tbody>\n",
       "</table>\n",
       "</div>"
      ],
      "text/plain": [
       "                  Open        High         Low       Close   Adj Close  \\\n",
       "Date                                                                     \n",
       "2018-02-13  161.949997  164.750000  161.649994  164.339996  161.875107   \n",
       "2018-02-14  163.039993  167.539993  162.880005         NaN  164.859650   \n",
       "2018-02-15         NaN  173.089996  169.000000         NaN  170.395370   \n",
       "2018-02-16  172.360001  174.820007  171.770004         NaN  169.843765   \n",
       "2018-02-20  172.050003  174.259995  171.419998  171.850006  169.272461   \n",
       "2018-02-21  172.830002  174.119995  171.009995  171.070007  168.504166   \n",
       "2018-02-22  171.800003  173.949997  171.710007  172.500000  169.912704   \n",
       "2018-02-23  173.669998  175.649994  173.539993  175.500000  172.867706   \n",
       "2018-02-26  176.350006  179.389999  176.210007  178.970001  176.285675   \n",
       "\n",
       "                Volume  Daily_Average  \n",
       "Date                                   \n",
       "2018-02-13  32549200.0            NaN  \n",
       "2018-02-14  40644900.0            NaN  \n",
       "2018-02-15  51147200.0            NaN  \n",
       "2018-02-16  40176100.0            NaN  \n",
       "2018-02-20  33930500.0            NaN  \n",
       "2018-02-21  37471600.0            NaN  \n",
       "2018-02-22  30991900.0            NaN  \n",
       "2018-02-23  33812400.0            NaN  \n",
       "2018-02-26  38162200.0            NaN  "
      ]
     },
     "execution_count": 298,
     "metadata": {},
     "output_type": "execute_result"
    }
   ],
   "source": [
    "# delete nan row\n",
    "d_f.dropna(how = 'all')"
   ]
  },
  {
   "cell_type": "code",
   "execution_count": 299,
   "metadata": {},
   "outputs": [
    {
     "data": {
      "text/html": [
       "<div>\n",
       "<style scoped>\n",
       "    .dataframe tbody tr th:only-of-type {\n",
       "        vertical-align: middle;\n",
       "    }\n",
       "\n",
       "    .dataframe tbody tr th {\n",
       "        vertical-align: top;\n",
       "    }\n",
       "\n",
       "    .dataframe thead th {\n",
       "        text-align: right;\n",
       "    }\n",
       "</style>\n",
       "<table border=\"1\" class=\"dataframe\">\n",
       "  <thead>\n",
       "    <tr style=\"text-align: right;\">\n",
       "      <th></th>\n",
       "      <th>Open</th>\n",
       "      <th>High</th>\n",
       "      <th>Low</th>\n",
       "      <th>Close</th>\n",
       "      <th>Adj Close</th>\n",
       "      <th>Volume</th>\n",
       "    </tr>\n",
       "    <tr>\n",
       "      <th>Date</th>\n",
       "      <th></th>\n",
       "      <th></th>\n",
       "      <th></th>\n",
       "      <th></th>\n",
       "      <th></th>\n",
       "      <th></th>\n",
       "    </tr>\n",
       "  </thead>\n",
       "  <tbody>\n",
       "    <tr>\n",
       "      <th>2018-02-12</th>\n",
       "      <td>NaN</td>\n",
       "      <td>NaN</td>\n",
       "      <td>NaN</td>\n",
       "      <td>NaN</td>\n",
       "      <td>NaN</td>\n",
       "      <td>NaN</td>\n",
       "    </tr>\n",
       "    <tr>\n",
       "      <th>2018-02-13</th>\n",
       "      <td>161.949997</td>\n",
       "      <td>164.750000</td>\n",
       "      <td>161.649994</td>\n",
       "      <td>164.339996</td>\n",
       "      <td>161.875107</td>\n",
       "      <td>32549200.0</td>\n",
       "    </tr>\n",
       "    <tr>\n",
       "      <th>2018-02-14</th>\n",
       "      <td>163.039993</td>\n",
       "      <td>167.539993</td>\n",
       "      <td>162.880005</td>\n",
       "      <td>NaN</td>\n",
       "      <td>164.859650</td>\n",
       "      <td>40644900.0</td>\n",
       "    </tr>\n",
       "    <tr>\n",
       "      <th>2018-02-15</th>\n",
       "      <td>NaN</td>\n",
       "      <td>173.089996</td>\n",
       "      <td>169.000000</td>\n",
       "      <td>NaN</td>\n",
       "      <td>170.395370</td>\n",
       "      <td>51147200.0</td>\n",
       "    </tr>\n",
       "    <tr>\n",
       "      <th>2018-02-16</th>\n",
       "      <td>172.360001</td>\n",
       "      <td>174.820007</td>\n",
       "      <td>171.770004</td>\n",
       "      <td>NaN</td>\n",
       "      <td>169.843765</td>\n",
       "      <td>40176100.0</td>\n",
       "    </tr>\n",
       "    <tr>\n",
       "      <th>2018-02-20</th>\n",
       "      <td>172.050003</td>\n",
       "      <td>174.259995</td>\n",
       "      <td>171.419998</td>\n",
       "      <td>171.850006</td>\n",
       "      <td>169.272461</td>\n",
       "      <td>33930500.0</td>\n",
       "    </tr>\n",
       "    <tr>\n",
       "      <th>2018-02-21</th>\n",
       "      <td>172.830002</td>\n",
       "      <td>174.119995</td>\n",
       "      <td>171.009995</td>\n",
       "      <td>171.070007</td>\n",
       "      <td>168.504166</td>\n",
       "      <td>37471600.0</td>\n",
       "    </tr>\n",
       "    <tr>\n",
       "      <th>2018-02-22</th>\n",
       "      <td>171.800003</td>\n",
       "      <td>173.949997</td>\n",
       "      <td>171.710007</td>\n",
       "      <td>172.500000</td>\n",
       "      <td>169.912704</td>\n",
       "      <td>30991900.0</td>\n",
       "    </tr>\n",
       "    <tr>\n",
       "      <th>2018-02-23</th>\n",
       "      <td>173.669998</td>\n",
       "      <td>175.649994</td>\n",
       "      <td>173.539993</td>\n",
       "      <td>175.500000</td>\n",
       "      <td>172.867706</td>\n",
       "      <td>33812400.0</td>\n",
       "    </tr>\n",
       "    <tr>\n",
       "      <th>2018-02-26</th>\n",
       "      <td>176.350006</td>\n",
       "      <td>179.389999</td>\n",
       "      <td>176.210007</td>\n",
       "      <td>178.970001</td>\n",
       "      <td>176.285675</td>\n",
       "      <td>38162200.0</td>\n",
       "    </tr>\n",
       "  </tbody>\n",
       "</table>\n",
       "</div>"
      ],
      "text/plain": [
       "                  Open        High         Low       Close   Adj Close  \\\n",
       "Date                                                                     \n",
       "2018-02-12         NaN         NaN         NaN         NaN         NaN   \n",
       "2018-02-13  161.949997  164.750000  161.649994  164.339996  161.875107   \n",
       "2018-02-14  163.039993  167.539993  162.880005         NaN  164.859650   \n",
       "2018-02-15         NaN  173.089996  169.000000         NaN  170.395370   \n",
       "2018-02-16  172.360001  174.820007  171.770004         NaN  169.843765   \n",
       "2018-02-20  172.050003  174.259995  171.419998  171.850006  169.272461   \n",
       "2018-02-21  172.830002  174.119995  171.009995  171.070007  168.504166   \n",
       "2018-02-22  171.800003  173.949997  171.710007  172.500000  169.912704   \n",
       "2018-02-23  173.669998  175.649994  173.539993  175.500000  172.867706   \n",
       "2018-02-26  176.350006  179.389999  176.210007  178.970001  176.285675   \n",
       "\n",
       "                Volume  \n",
       "Date                    \n",
       "2018-02-12         NaN  \n",
       "2018-02-13  32549200.0  \n",
       "2018-02-14  40644900.0  \n",
       "2018-02-15  51147200.0  \n",
       "2018-02-16  40176100.0  \n",
       "2018-02-20  33930500.0  \n",
       "2018-02-21  37471600.0  \n",
       "2018-02-22  30991900.0  \n",
       "2018-02-23  33812400.0  \n",
       "2018-02-26  38162200.0  "
      ]
     },
     "execution_count": 299,
     "metadata": {},
     "output_type": "execute_result"
    }
   ],
   "source": [
    "d_f.dropna(how = 'all', axis = 1)"
   ]
  },
  {
   "cell_type": "code",
   "execution_count": 300,
   "metadata": {},
   "outputs": [
    {
     "data": {
      "text/html": [
       "<div>\n",
       "<style scoped>\n",
       "    .dataframe tbody tr th:only-of-type {\n",
       "        vertical-align: middle;\n",
       "    }\n",
       "\n",
       "    .dataframe tbody tr th {\n",
       "        vertical-align: top;\n",
       "    }\n",
       "\n",
       "    .dataframe thead th {\n",
       "        text-align: right;\n",
       "    }\n",
       "</style>\n",
       "<table border=\"1\" class=\"dataframe\">\n",
       "  <thead>\n",
       "    <tr style=\"text-align: right;\">\n",
       "      <th></th>\n",
       "      <th>Open</th>\n",
       "      <th>High</th>\n",
       "      <th>Low</th>\n",
       "      <th>Close</th>\n",
       "      <th>Adj Close</th>\n",
       "      <th>Volume</th>\n",
       "      <th>Daily_Average</th>\n",
       "    </tr>\n",
       "    <tr>\n",
       "      <th>Date</th>\n",
       "      <th></th>\n",
       "      <th></th>\n",
       "      <th></th>\n",
       "      <th></th>\n",
       "      <th></th>\n",
       "      <th></th>\n",
       "      <th></th>\n",
       "    </tr>\n",
       "  </thead>\n",
       "  <tbody>\n",
       "    <tr>\n",
       "      <th>2018-02-12</th>\n",
       "      <td>NaN</td>\n",
       "      <td>NaN</td>\n",
       "      <td>NaN</td>\n",
       "      <td>NaN</td>\n",
       "      <td>NaN</td>\n",
       "      <td>NaN</td>\n",
       "      <td>NaN</td>\n",
       "    </tr>\n",
       "    <tr>\n",
       "      <th>2018-02-13</th>\n",
       "      <td>161.949997</td>\n",
       "      <td>164.750000</td>\n",
       "      <td>161.649994</td>\n",
       "      <td>164.339996</td>\n",
       "      <td>161.875107</td>\n",
       "      <td>32549200.0</td>\n",
       "      <td>NaN</td>\n",
       "    </tr>\n",
       "    <tr>\n",
       "      <th>2018-02-14</th>\n",
       "      <td>163.039993</td>\n",
       "      <td>167.539993</td>\n",
       "      <td>162.880005</td>\n",
       "      <td>NaN</td>\n",
       "      <td>164.859650</td>\n",
       "      <td>40644900.0</td>\n",
       "      <td>NaN</td>\n",
       "    </tr>\n",
       "    <tr>\n",
       "      <th>2018-02-15</th>\n",
       "      <td>NaN</td>\n",
       "      <td>173.089996</td>\n",
       "      <td>169.000000</td>\n",
       "      <td>NaN</td>\n",
       "      <td>170.395370</td>\n",
       "      <td>51147200.0</td>\n",
       "      <td>NaN</td>\n",
       "    </tr>\n",
       "    <tr>\n",
       "      <th>2018-02-16</th>\n",
       "      <td>172.360001</td>\n",
       "      <td>174.820007</td>\n",
       "      <td>171.770004</td>\n",
       "      <td>NaN</td>\n",
       "      <td>169.843765</td>\n",
       "      <td>40176100.0</td>\n",
       "      <td>NaN</td>\n",
       "    </tr>\n",
       "    <tr>\n",
       "      <th>2018-02-20</th>\n",
       "      <td>172.050003</td>\n",
       "      <td>174.259995</td>\n",
       "      <td>171.419998</td>\n",
       "      <td>171.850006</td>\n",
       "      <td>169.272461</td>\n",
       "      <td>33930500.0</td>\n",
       "      <td>NaN</td>\n",
       "    </tr>\n",
       "    <tr>\n",
       "      <th>2018-02-21</th>\n",
       "      <td>172.830002</td>\n",
       "      <td>174.119995</td>\n",
       "      <td>171.009995</td>\n",
       "      <td>171.070007</td>\n",
       "      <td>168.504166</td>\n",
       "      <td>37471600.0</td>\n",
       "      <td>NaN</td>\n",
       "    </tr>\n",
       "    <tr>\n",
       "      <th>2018-02-22</th>\n",
       "      <td>171.800003</td>\n",
       "      <td>173.949997</td>\n",
       "      <td>171.710007</td>\n",
       "      <td>172.500000</td>\n",
       "      <td>169.912704</td>\n",
       "      <td>30991900.0</td>\n",
       "      <td>NaN</td>\n",
       "    </tr>\n",
       "    <tr>\n",
       "      <th>2018-02-23</th>\n",
       "      <td>173.669998</td>\n",
       "      <td>175.649994</td>\n",
       "      <td>173.539993</td>\n",
       "      <td>175.500000</td>\n",
       "      <td>172.867706</td>\n",
       "      <td>33812400.0</td>\n",
       "      <td>NaN</td>\n",
       "    </tr>\n",
       "    <tr>\n",
       "      <th>2018-02-26</th>\n",
       "      <td>176.350006</td>\n",
       "      <td>179.389999</td>\n",
       "      <td>176.210007</td>\n",
       "      <td>178.970001</td>\n",
       "      <td>176.285675</td>\n",
       "      <td>38162200.0</td>\n",
       "      <td>NaN</td>\n",
       "    </tr>\n",
       "  </tbody>\n",
       "</table>\n",
       "</div>"
      ],
      "text/plain": [
       "                  Open        High         Low       Close   Adj Close  \\\n",
       "Date                                                                     \n",
       "2018-02-12         NaN         NaN         NaN         NaN         NaN   \n",
       "2018-02-13  161.949997  164.750000  161.649994  164.339996  161.875107   \n",
       "2018-02-14  163.039993  167.539993  162.880005         NaN  164.859650   \n",
       "2018-02-15         NaN  173.089996  169.000000         NaN  170.395370   \n",
       "2018-02-16  172.360001  174.820007  171.770004         NaN  169.843765   \n",
       "2018-02-20  172.050003  174.259995  171.419998  171.850006  169.272461   \n",
       "2018-02-21  172.830002  174.119995  171.009995  171.070007  168.504166   \n",
       "2018-02-22  171.800003  173.949997  171.710007  172.500000  169.912704   \n",
       "2018-02-23  173.669998  175.649994  173.539993  175.500000  172.867706   \n",
       "2018-02-26  176.350006  179.389999  176.210007  178.970001  176.285675   \n",
       "\n",
       "                Volume  Daily_Average  \n",
       "Date                                   \n",
       "2018-02-12         NaN            NaN  \n",
       "2018-02-13  32549200.0            NaN  \n",
       "2018-02-14  40644900.0            NaN  \n",
       "2018-02-15  51147200.0            NaN  \n",
       "2018-02-16  40176100.0            NaN  \n",
       "2018-02-20  33930500.0            NaN  \n",
       "2018-02-21  37471600.0            NaN  \n",
       "2018-02-22  30991900.0            NaN  \n",
       "2018-02-23  33812400.0            NaN  \n",
       "2018-02-26  38162200.0            NaN  "
      ]
     },
     "execution_count": 300,
     "metadata": {},
     "output_type": "execute_result"
    }
   ],
   "source": [
    "d_f"
   ]
  },
  {
   "cell_type": "code",
   "execution_count": 301,
   "metadata": {},
   "outputs": [
    {
     "data": {
      "text/html": [
       "<div>\n",
       "<style scoped>\n",
       "    .dataframe tbody tr th:only-of-type {\n",
       "        vertical-align: middle;\n",
       "    }\n",
       "\n",
       "    .dataframe tbody tr th {\n",
       "        vertical-align: top;\n",
       "    }\n",
       "\n",
       "    .dataframe thead th {\n",
       "        text-align: right;\n",
       "    }\n",
       "</style>\n",
       "<table border=\"1\" class=\"dataframe\">\n",
       "  <thead>\n",
       "    <tr style=\"text-align: right;\">\n",
       "      <th></th>\n",
       "      <th>Open</th>\n",
       "      <th>High</th>\n",
       "      <th>Low</th>\n",
       "      <th>Close</th>\n",
       "      <th>Adj Close</th>\n",
       "      <th>Volume</th>\n",
       "      <th>Daily_Average</th>\n",
       "    </tr>\n",
       "    <tr>\n",
       "      <th>Date</th>\n",
       "      <th></th>\n",
       "      <th></th>\n",
       "      <th></th>\n",
       "      <th></th>\n",
       "      <th></th>\n",
       "      <th></th>\n",
       "      <th></th>\n",
       "    </tr>\n",
       "  </thead>\n",
       "  <tbody>\n",
       "    <tr>\n",
       "      <th>2018-02-13</th>\n",
       "      <td>161.949997</td>\n",
       "      <td>164.750000</td>\n",
       "      <td>161.649994</td>\n",
       "      <td>164.339996</td>\n",
       "      <td>161.875107</td>\n",
       "      <td>32549200.0</td>\n",
       "      <td>NaN</td>\n",
       "    </tr>\n",
       "    <tr>\n",
       "      <th>2018-02-14</th>\n",
       "      <td>163.039993</td>\n",
       "      <td>167.539993</td>\n",
       "      <td>162.880005</td>\n",
       "      <td>NaN</td>\n",
       "      <td>164.859650</td>\n",
       "      <td>40644900.0</td>\n",
       "      <td>NaN</td>\n",
       "    </tr>\n",
       "    <tr>\n",
       "      <th>2018-02-15</th>\n",
       "      <td>NaN</td>\n",
       "      <td>173.089996</td>\n",
       "      <td>169.000000</td>\n",
       "      <td>NaN</td>\n",
       "      <td>170.395370</td>\n",
       "      <td>51147200.0</td>\n",
       "      <td>NaN</td>\n",
       "    </tr>\n",
       "    <tr>\n",
       "      <th>2018-02-16</th>\n",
       "      <td>172.360001</td>\n",
       "      <td>174.820007</td>\n",
       "      <td>171.770004</td>\n",
       "      <td>NaN</td>\n",
       "      <td>169.843765</td>\n",
       "      <td>40176100.0</td>\n",
       "      <td>NaN</td>\n",
       "    </tr>\n",
       "    <tr>\n",
       "      <th>2018-02-20</th>\n",
       "      <td>172.050003</td>\n",
       "      <td>174.259995</td>\n",
       "      <td>171.419998</td>\n",
       "      <td>171.850006</td>\n",
       "      <td>169.272461</td>\n",
       "      <td>33930500.0</td>\n",
       "      <td>NaN</td>\n",
       "    </tr>\n",
       "    <tr>\n",
       "      <th>2018-02-21</th>\n",
       "      <td>172.830002</td>\n",
       "      <td>174.119995</td>\n",
       "      <td>171.009995</td>\n",
       "      <td>171.070007</td>\n",
       "      <td>168.504166</td>\n",
       "      <td>37471600.0</td>\n",
       "      <td>NaN</td>\n",
       "    </tr>\n",
       "    <tr>\n",
       "      <th>2018-02-22</th>\n",
       "      <td>171.800003</td>\n",
       "      <td>173.949997</td>\n",
       "      <td>171.710007</td>\n",
       "      <td>172.500000</td>\n",
       "      <td>169.912704</td>\n",
       "      <td>30991900.0</td>\n",
       "      <td>NaN</td>\n",
       "    </tr>\n",
       "    <tr>\n",
       "      <th>2018-02-23</th>\n",
       "      <td>173.669998</td>\n",
       "      <td>175.649994</td>\n",
       "      <td>173.539993</td>\n",
       "      <td>175.500000</td>\n",
       "      <td>172.867706</td>\n",
       "      <td>33812400.0</td>\n",
       "      <td>NaN</td>\n",
       "    </tr>\n",
       "    <tr>\n",
       "      <th>2018-02-26</th>\n",
       "      <td>176.350006</td>\n",
       "      <td>179.389999</td>\n",
       "      <td>176.210007</td>\n",
       "      <td>178.970001</td>\n",
       "      <td>176.285675</td>\n",
       "      <td>38162200.0</td>\n",
       "      <td>NaN</td>\n",
       "    </tr>\n",
       "  </tbody>\n",
       "</table>\n",
       "</div>"
      ],
      "text/plain": [
       "                  Open        High         Low       Close   Adj Close  \\\n",
       "Date                                                                     \n",
       "2018-02-13  161.949997  164.750000  161.649994  164.339996  161.875107   \n",
       "2018-02-14  163.039993  167.539993  162.880005         NaN  164.859650   \n",
       "2018-02-15         NaN  173.089996  169.000000         NaN  170.395370   \n",
       "2018-02-16  172.360001  174.820007  171.770004         NaN  169.843765   \n",
       "2018-02-20  172.050003  174.259995  171.419998  171.850006  169.272461   \n",
       "2018-02-21  172.830002  174.119995  171.009995  171.070007  168.504166   \n",
       "2018-02-22  171.800003  173.949997  171.710007  172.500000  169.912704   \n",
       "2018-02-23  173.669998  175.649994  173.539993  175.500000  172.867706   \n",
       "2018-02-26  176.350006  179.389999  176.210007  178.970001  176.285675   \n",
       "\n",
       "                Volume  Daily_Average  \n",
       "Date                                   \n",
       "2018-02-13  32549200.0            NaN  \n",
       "2018-02-14  40644900.0            NaN  \n",
       "2018-02-15  51147200.0            NaN  \n",
       "2018-02-16  40176100.0            NaN  \n",
       "2018-02-20  33930500.0            NaN  \n",
       "2018-02-21  37471600.0            NaN  \n",
       "2018-02-22  30991900.0            NaN  \n",
       "2018-02-23  33812400.0            NaN  \n",
       "2018-02-26  38162200.0            NaN  "
      ]
     },
     "execution_count": 301,
     "metadata": {},
     "output_type": "execute_result"
    }
   ],
   "source": [
    "d_f2 = d_f.dropna(how = 'all')\n",
    "d_f2"
   ]
  },
  {
   "cell_type": "code",
   "execution_count": 302,
   "metadata": {},
   "outputs": [
    {
     "data": {
      "text/html": [
       "<div>\n",
       "<style scoped>\n",
       "    .dataframe tbody tr th:only-of-type {\n",
       "        vertical-align: middle;\n",
       "    }\n",
       "\n",
       "    .dataframe tbody tr th {\n",
       "        vertical-align: top;\n",
       "    }\n",
       "\n",
       "    .dataframe thead th {\n",
       "        text-align: right;\n",
       "    }\n",
       "</style>\n",
       "<table border=\"1\" class=\"dataframe\">\n",
       "  <thead>\n",
       "    <tr style=\"text-align: right;\">\n",
       "      <th></th>\n",
       "      <th>High</th>\n",
       "      <th>Low</th>\n",
       "      <th>Adj Close</th>\n",
       "      <th>Volume</th>\n",
       "    </tr>\n",
       "    <tr>\n",
       "      <th>Date</th>\n",
       "      <th></th>\n",
       "      <th></th>\n",
       "      <th></th>\n",
       "      <th></th>\n",
       "    </tr>\n",
       "  </thead>\n",
       "  <tbody>\n",
       "    <tr>\n",
       "      <th>2018-02-13</th>\n",
       "      <td>164.750000</td>\n",
       "      <td>161.649994</td>\n",
       "      <td>161.875107</td>\n",
       "      <td>32549200.0</td>\n",
       "    </tr>\n",
       "    <tr>\n",
       "      <th>2018-02-14</th>\n",
       "      <td>167.539993</td>\n",
       "      <td>162.880005</td>\n",
       "      <td>164.859650</td>\n",
       "      <td>40644900.0</td>\n",
       "    </tr>\n",
       "    <tr>\n",
       "      <th>2018-02-15</th>\n",
       "      <td>173.089996</td>\n",
       "      <td>169.000000</td>\n",
       "      <td>170.395370</td>\n",
       "      <td>51147200.0</td>\n",
       "    </tr>\n",
       "    <tr>\n",
       "      <th>2018-02-16</th>\n",
       "      <td>174.820007</td>\n",
       "      <td>171.770004</td>\n",
       "      <td>169.843765</td>\n",
       "      <td>40176100.0</td>\n",
       "    </tr>\n",
       "    <tr>\n",
       "      <th>2018-02-20</th>\n",
       "      <td>174.259995</td>\n",
       "      <td>171.419998</td>\n",
       "      <td>169.272461</td>\n",
       "      <td>33930500.0</td>\n",
       "    </tr>\n",
       "    <tr>\n",
       "      <th>2018-02-21</th>\n",
       "      <td>174.119995</td>\n",
       "      <td>171.009995</td>\n",
       "      <td>168.504166</td>\n",
       "      <td>37471600.0</td>\n",
       "    </tr>\n",
       "    <tr>\n",
       "      <th>2018-02-22</th>\n",
       "      <td>173.949997</td>\n",
       "      <td>171.710007</td>\n",
       "      <td>169.912704</td>\n",
       "      <td>30991900.0</td>\n",
       "    </tr>\n",
       "    <tr>\n",
       "      <th>2018-02-23</th>\n",
       "      <td>175.649994</td>\n",
       "      <td>173.539993</td>\n",
       "      <td>172.867706</td>\n",
       "      <td>33812400.0</td>\n",
       "    </tr>\n",
       "    <tr>\n",
       "      <th>2018-02-26</th>\n",
       "      <td>179.389999</td>\n",
       "      <td>176.210007</td>\n",
       "      <td>176.285675</td>\n",
       "      <td>38162200.0</td>\n",
       "    </tr>\n",
       "  </tbody>\n",
       "</table>\n",
       "</div>"
      ],
      "text/plain": [
       "                  High         Low   Adj Close      Volume\n",
       "Date                                                      \n",
       "2018-02-13  164.750000  161.649994  161.875107  32549200.0\n",
       "2018-02-14  167.539993  162.880005  164.859650  40644900.0\n",
       "2018-02-15  173.089996  169.000000  170.395370  51147200.0\n",
       "2018-02-16  174.820007  171.770004  169.843765  40176100.0\n",
       "2018-02-20  174.259995  171.419998  169.272461  33930500.0\n",
       "2018-02-21  174.119995  171.009995  168.504166  37471600.0\n",
       "2018-02-22  173.949997  171.710007  169.912704  30991900.0\n",
       "2018-02-23  175.649994  173.539993  172.867706  33812400.0\n",
       "2018-02-26  179.389999  176.210007  176.285675  38162200.0"
      ]
     },
     "execution_count": 302,
     "metadata": {},
     "output_type": "execute_result"
    }
   ],
   "source": [
    "d_f2.dropna(how = 'any', axis = 1)"
   ]
  },
  {
   "cell_type": "code",
   "execution_count": 303,
   "metadata": {},
   "outputs": [
    {
     "data": {
      "text/html": [
       "<div>\n",
       "<style scoped>\n",
       "    .dataframe tbody tr th:only-of-type {\n",
       "        vertical-align: middle;\n",
       "    }\n",
       "\n",
       "    .dataframe tbody tr th {\n",
       "        vertical-align: top;\n",
       "    }\n",
       "\n",
       "    .dataframe thead th {\n",
       "        text-align: right;\n",
       "    }\n",
       "</style>\n",
       "<table border=\"1\" class=\"dataframe\">\n",
       "  <thead>\n",
       "    <tr style=\"text-align: right;\">\n",
       "      <th></th>\n",
       "      <th>Open</th>\n",
       "      <th>High</th>\n",
       "      <th>Low</th>\n",
       "      <th>Close</th>\n",
       "      <th>Adj Close</th>\n",
       "      <th>Volume</th>\n",
       "      <th>Daily_Average</th>\n",
       "    </tr>\n",
       "    <tr>\n",
       "      <th>Date</th>\n",
       "      <th></th>\n",
       "      <th></th>\n",
       "      <th></th>\n",
       "      <th></th>\n",
       "      <th></th>\n",
       "      <th></th>\n",
       "      <th></th>\n",
       "    </tr>\n",
       "  </thead>\n",
       "  <tbody>\n",
       "    <tr>\n",
       "      <th>2018-02-12</th>\n",
       "      <td>NaN</td>\n",
       "      <td>NaN</td>\n",
       "      <td>NaN</td>\n",
       "      <td>NaN</td>\n",
       "      <td>NaN</td>\n",
       "      <td>NaN</td>\n",
       "      <td>NaN</td>\n",
       "    </tr>\n",
       "    <tr>\n",
       "      <th>2018-02-13</th>\n",
       "      <td>161.949997</td>\n",
       "      <td>164.750000</td>\n",
       "      <td>161.649994</td>\n",
       "      <td>164.339996</td>\n",
       "      <td>161.875107</td>\n",
       "      <td>32549200.0</td>\n",
       "      <td>NaN</td>\n",
       "    </tr>\n",
       "    <tr>\n",
       "      <th>2018-02-14</th>\n",
       "      <td>163.039993</td>\n",
       "      <td>167.539993</td>\n",
       "      <td>162.880005</td>\n",
       "      <td>NaN</td>\n",
       "      <td>164.859650</td>\n",
       "      <td>40644900.0</td>\n",
       "      <td>NaN</td>\n",
       "    </tr>\n",
       "    <tr>\n",
       "      <th>2018-02-15</th>\n",
       "      <td>NaN</td>\n",
       "      <td>173.089996</td>\n",
       "      <td>169.000000</td>\n",
       "      <td>NaN</td>\n",
       "      <td>170.395370</td>\n",
       "      <td>51147200.0</td>\n",
       "      <td>NaN</td>\n",
       "    </tr>\n",
       "    <tr>\n",
       "      <th>2018-02-16</th>\n",
       "      <td>172.360001</td>\n",
       "      <td>174.820007</td>\n",
       "      <td>171.770004</td>\n",
       "      <td>NaN</td>\n",
       "      <td>169.843765</td>\n",
       "      <td>40176100.0</td>\n",
       "      <td>NaN</td>\n",
       "    </tr>\n",
       "    <tr>\n",
       "      <th>2018-02-20</th>\n",
       "      <td>172.050003</td>\n",
       "      <td>174.259995</td>\n",
       "      <td>171.419998</td>\n",
       "      <td>171.850006</td>\n",
       "      <td>169.272461</td>\n",
       "      <td>33930500.0</td>\n",
       "      <td>NaN</td>\n",
       "    </tr>\n",
       "    <tr>\n",
       "      <th>2018-02-21</th>\n",
       "      <td>172.830002</td>\n",
       "      <td>174.119995</td>\n",
       "      <td>171.009995</td>\n",
       "      <td>171.070007</td>\n",
       "      <td>168.504166</td>\n",
       "      <td>37471600.0</td>\n",
       "      <td>NaN</td>\n",
       "    </tr>\n",
       "    <tr>\n",
       "      <th>2018-02-22</th>\n",
       "      <td>171.800003</td>\n",
       "      <td>173.949997</td>\n",
       "      <td>171.710007</td>\n",
       "      <td>172.500000</td>\n",
       "      <td>169.912704</td>\n",
       "      <td>30991900.0</td>\n",
       "      <td>NaN</td>\n",
       "    </tr>\n",
       "    <tr>\n",
       "      <th>2018-02-23</th>\n",
       "      <td>173.669998</td>\n",
       "      <td>175.649994</td>\n",
       "      <td>173.539993</td>\n",
       "      <td>175.500000</td>\n",
       "      <td>172.867706</td>\n",
       "      <td>33812400.0</td>\n",
       "      <td>NaN</td>\n",
       "    </tr>\n",
       "    <tr>\n",
       "      <th>2018-02-26</th>\n",
       "      <td>176.350006</td>\n",
       "      <td>179.389999</td>\n",
       "      <td>176.210007</td>\n",
       "      <td>178.970001</td>\n",
       "      <td>176.285675</td>\n",
       "      <td>38162200.0</td>\n",
       "      <td>NaN</td>\n",
       "    </tr>\n",
       "  </tbody>\n",
       "</table>\n",
       "</div>"
      ],
      "text/plain": [
       "                  Open        High         Low       Close   Adj Close  \\\n",
       "Date                                                                     \n",
       "2018-02-12         NaN         NaN         NaN         NaN         NaN   \n",
       "2018-02-13  161.949997  164.750000  161.649994  164.339996  161.875107   \n",
       "2018-02-14  163.039993  167.539993  162.880005         NaN  164.859650   \n",
       "2018-02-15         NaN  173.089996  169.000000         NaN  170.395370   \n",
       "2018-02-16  172.360001  174.820007  171.770004         NaN  169.843765   \n",
       "2018-02-20  172.050003  174.259995  171.419998  171.850006  169.272461   \n",
       "2018-02-21  172.830002  174.119995  171.009995  171.070007  168.504166   \n",
       "2018-02-22  171.800003  173.949997  171.710007  172.500000  169.912704   \n",
       "2018-02-23  173.669998  175.649994  173.539993  175.500000  172.867706   \n",
       "2018-02-26  176.350006  179.389999  176.210007  178.970001  176.285675   \n",
       "\n",
       "                Volume  Daily_Average  \n",
       "Date                                   \n",
       "2018-02-12         NaN            NaN  \n",
       "2018-02-13  32549200.0            NaN  \n",
       "2018-02-14  40644900.0            NaN  \n",
       "2018-02-15  51147200.0            NaN  \n",
       "2018-02-16  40176100.0            NaN  \n",
       "2018-02-20  33930500.0            NaN  \n",
       "2018-02-21  37471600.0            NaN  \n",
       "2018-02-22  30991900.0            NaN  \n",
       "2018-02-23  33812400.0            NaN  \n",
       "2018-02-26  38162200.0            NaN  "
      ]
     },
     "execution_count": 303,
     "metadata": {},
     "output_type": "execute_result"
    }
   ],
   "source": [
    "d_f"
   ]
  },
  {
   "cell_type": "code",
   "execution_count": 304,
   "metadata": {},
   "outputs": [],
   "source": [
    "# what if we need to replace approximate values\n",
    "# for this we use fillna() function"
   ]
  },
  {
   "cell_type": "code",
   "execution_count": 305,
   "metadata": {},
   "outputs": [
    {
     "data": {
      "text/html": [
       "<div>\n",
       "<style scoped>\n",
       "    .dataframe tbody tr th:only-of-type {\n",
       "        vertical-align: middle;\n",
       "    }\n",
       "\n",
       "    .dataframe tbody tr th {\n",
       "        vertical-align: top;\n",
       "    }\n",
       "\n",
       "    .dataframe thead th {\n",
       "        text-align: right;\n",
       "    }\n",
       "</style>\n",
       "<table border=\"1\" class=\"dataframe\">\n",
       "  <thead>\n",
       "    <tr style=\"text-align: right;\">\n",
       "      <th></th>\n",
       "      <th>Open</th>\n",
       "      <th>High</th>\n",
       "      <th>Low</th>\n",
       "      <th>Close</th>\n",
       "      <th>Adj Close</th>\n",
       "      <th>Volume</th>\n",
       "      <th>Daily_Average</th>\n",
       "    </tr>\n",
       "    <tr>\n",
       "      <th>Date</th>\n",
       "      <th></th>\n",
       "      <th></th>\n",
       "      <th></th>\n",
       "      <th></th>\n",
       "      <th></th>\n",
       "      <th></th>\n",
       "      <th></th>\n",
       "    </tr>\n",
       "  </thead>\n",
       "  <tbody>\n",
       "    <tr>\n",
       "      <th>2018-02-12</th>\n",
       "      <td>0.000000</td>\n",
       "      <td>0.000000</td>\n",
       "      <td>0.000000</td>\n",
       "      <td>0.000000</td>\n",
       "      <td>0.000000</td>\n",
       "      <td>0.0</td>\n",
       "      <td>0.0</td>\n",
       "    </tr>\n",
       "    <tr>\n",
       "      <th>2018-02-13</th>\n",
       "      <td>161.949997</td>\n",
       "      <td>164.750000</td>\n",
       "      <td>161.649994</td>\n",
       "      <td>164.339996</td>\n",
       "      <td>161.875107</td>\n",
       "      <td>32549200.0</td>\n",
       "      <td>0.0</td>\n",
       "    </tr>\n",
       "    <tr>\n",
       "      <th>2018-02-14</th>\n",
       "      <td>163.039993</td>\n",
       "      <td>167.539993</td>\n",
       "      <td>162.880005</td>\n",
       "      <td>0.000000</td>\n",
       "      <td>164.859650</td>\n",
       "      <td>40644900.0</td>\n",
       "      <td>0.0</td>\n",
       "    </tr>\n",
       "    <tr>\n",
       "      <th>2018-02-15</th>\n",
       "      <td>0.000000</td>\n",
       "      <td>173.089996</td>\n",
       "      <td>169.000000</td>\n",
       "      <td>0.000000</td>\n",
       "      <td>170.395370</td>\n",
       "      <td>51147200.0</td>\n",
       "      <td>0.0</td>\n",
       "    </tr>\n",
       "    <tr>\n",
       "      <th>2018-02-16</th>\n",
       "      <td>172.360001</td>\n",
       "      <td>174.820007</td>\n",
       "      <td>171.770004</td>\n",
       "      <td>0.000000</td>\n",
       "      <td>169.843765</td>\n",
       "      <td>40176100.0</td>\n",
       "      <td>0.0</td>\n",
       "    </tr>\n",
       "    <tr>\n",
       "      <th>2018-02-20</th>\n",
       "      <td>172.050003</td>\n",
       "      <td>174.259995</td>\n",
       "      <td>171.419998</td>\n",
       "      <td>171.850006</td>\n",
       "      <td>169.272461</td>\n",
       "      <td>33930500.0</td>\n",
       "      <td>0.0</td>\n",
       "    </tr>\n",
       "    <tr>\n",
       "      <th>2018-02-21</th>\n",
       "      <td>172.830002</td>\n",
       "      <td>174.119995</td>\n",
       "      <td>171.009995</td>\n",
       "      <td>171.070007</td>\n",
       "      <td>168.504166</td>\n",
       "      <td>37471600.0</td>\n",
       "      <td>0.0</td>\n",
       "    </tr>\n",
       "    <tr>\n",
       "      <th>2018-02-22</th>\n",
       "      <td>171.800003</td>\n",
       "      <td>173.949997</td>\n",
       "      <td>171.710007</td>\n",
       "      <td>172.500000</td>\n",
       "      <td>169.912704</td>\n",
       "      <td>30991900.0</td>\n",
       "      <td>0.0</td>\n",
       "    </tr>\n",
       "    <tr>\n",
       "      <th>2018-02-23</th>\n",
       "      <td>173.669998</td>\n",
       "      <td>175.649994</td>\n",
       "      <td>173.539993</td>\n",
       "      <td>175.500000</td>\n",
       "      <td>172.867706</td>\n",
       "      <td>33812400.0</td>\n",
       "      <td>0.0</td>\n",
       "    </tr>\n",
       "    <tr>\n",
       "      <th>2018-02-26</th>\n",
       "      <td>176.350006</td>\n",
       "      <td>179.389999</td>\n",
       "      <td>176.210007</td>\n",
       "      <td>178.970001</td>\n",
       "      <td>176.285675</td>\n",
       "      <td>38162200.0</td>\n",
       "      <td>0.0</td>\n",
       "    </tr>\n",
       "  </tbody>\n",
       "</table>\n",
       "</div>"
      ],
      "text/plain": [
       "                  Open        High         Low       Close   Adj Close  \\\n",
       "Date                                                                     \n",
       "2018-02-12    0.000000    0.000000    0.000000    0.000000    0.000000   \n",
       "2018-02-13  161.949997  164.750000  161.649994  164.339996  161.875107   \n",
       "2018-02-14  163.039993  167.539993  162.880005    0.000000  164.859650   \n",
       "2018-02-15    0.000000  173.089996  169.000000    0.000000  170.395370   \n",
       "2018-02-16  172.360001  174.820007  171.770004    0.000000  169.843765   \n",
       "2018-02-20  172.050003  174.259995  171.419998  171.850006  169.272461   \n",
       "2018-02-21  172.830002  174.119995  171.009995  171.070007  168.504166   \n",
       "2018-02-22  171.800003  173.949997  171.710007  172.500000  169.912704   \n",
       "2018-02-23  173.669998  175.649994  173.539993  175.500000  172.867706   \n",
       "2018-02-26  176.350006  179.389999  176.210007  178.970001  176.285675   \n",
       "\n",
       "                Volume  Daily_Average  \n",
       "Date                                   \n",
       "2018-02-12         0.0            0.0  \n",
       "2018-02-13  32549200.0            0.0  \n",
       "2018-02-14  40644900.0            0.0  \n",
       "2018-02-15  51147200.0            0.0  \n",
       "2018-02-16  40176100.0            0.0  \n",
       "2018-02-20  33930500.0            0.0  \n",
       "2018-02-21  37471600.0            0.0  \n",
       "2018-02-22  30991900.0            0.0  \n",
       "2018-02-23  33812400.0            0.0  \n",
       "2018-02-26  38162200.0            0.0  "
      ]
     },
     "execution_count": 305,
     "metadata": {},
     "output_type": "execute_result"
    }
   ],
   "source": [
    "# all the value fill with nan\n",
    "d_f.fillna(0)"
   ]
  },
  {
   "cell_type": "code",
   "execution_count": 306,
   "metadata": {},
   "outputs": [],
   "source": [
    "# but we need to fill with value or expected data"
   ]
  },
  {
   "cell_type": "code",
   "execution_count": 307,
   "metadata": {},
   "outputs": [
    {
     "data": {
      "text/html": [
       "<div>\n",
       "<style scoped>\n",
       "    .dataframe tbody tr th:only-of-type {\n",
       "        vertical-align: middle;\n",
       "    }\n",
       "\n",
       "    .dataframe tbody tr th {\n",
       "        vertical-align: top;\n",
       "    }\n",
       "\n",
       "    .dataframe thead th {\n",
       "        text-align: right;\n",
       "    }\n",
       "</style>\n",
       "<table border=\"1\" class=\"dataframe\">\n",
       "  <thead>\n",
       "    <tr style=\"text-align: right;\">\n",
       "      <th></th>\n",
       "      <th>Open</th>\n",
       "      <th>High</th>\n",
       "      <th>Low</th>\n",
       "      <th>Close</th>\n",
       "      <th>Adj Close</th>\n",
       "      <th>Volume</th>\n",
       "      <th>Daily_Average</th>\n",
       "    </tr>\n",
       "    <tr>\n",
       "      <th>Date</th>\n",
       "      <th></th>\n",
       "      <th></th>\n",
       "      <th></th>\n",
       "      <th></th>\n",
       "      <th></th>\n",
       "      <th></th>\n",
       "      <th></th>\n",
       "    </tr>\n",
       "  </thead>\n",
       "  <tbody>\n",
       "    <tr>\n",
       "      <th>2018-02-12</th>\n",
       "      <td>NaN</td>\n",
       "      <td>NaN</td>\n",
       "      <td>NaN</td>\n",
       "      <td>NaN</td>\n",
       "      <td>NaN</td>\n",
       "      <td>NaN</td>\n",
       "      <td>NaN</td>\n",
       "    </tr>\n",
       "    <tr>\n",
       "      <th>2018-02-13</th>\n",
       "      <td>161.949997</td>\n",
       "      <td>164.750000</td>\n",
       "      <td>161.649994</td>\n",
       "      <td>164.339996</td>\n",
       "      <td>161.875107</td>\n",
       "      <td>32549200.0</td>\n",
       "      <td>NaN</td>\n",
       "    </tr>\n",
       "    <tr>\n",
       "      <th>2018-02-14</th>\n",
       "      <td>163.039993</td>\n",
       "      <td>167.539993</td>\n",
       "      <td>162.880005</td>\n",
       "      <td>164.339996</td>\n",
       "      <td>164.859650</td>\n",
       "      <td>40644900.0</td>\n",
       "      <td>NaN</td>\n",
       "    </tr>\n",
       "    <tr>\n",
       "      <th>2018-02-15</th>\n",
       "      <td>163.039993</td>\n",
       "      <td>173.089996</td>\n",
       "      <td>169.000000</td>\n",
       "      <td>164.339996</td>\n",
       "      <td>170.395370</td>\n",
       "      <td>51147200.0</td>\n",
       "      <td>NaN</td>\n",
       "    </tr>\n",
       "    <tr>\n",
       "      <th>2018-02-16</th>\n",
       "      <td>172.360001</td>\n",
       "      <td>174.820007</td>\n",
       "      <td>171.770004</td>\n",
       "      <td>164.339996</td>\n",
       "      <td>169.843765</td>\n",
       "      <td>40176100.0</td>\n",
       "      <td>NaN</td>\n",
       "    </tr>\n",
       "    <tr>\n",
       "      <th>2018-02-20</th>\n",
       "      <td>172.050003</td>\n",
       "      <td>174.259995</td>\n",
       "      <td>171.419998</td>\n",
       "      <td>171.850006</td>\n",
       "      <td>169.272461</td>\n",
       "      <td>33930500.0</td>\n",
       "      <td>NaN</td>\n",
       "    </tr>\n",
       "    <tr>\n",
       "      <th>2018-02-21</th>\n",
       "      <td>172.830002</td>\n",
       "      <td>174.119995</td>\n",
       "      <td>171.009995</td>\n",
       "      <td>171.070007</td>\n",
       "      <td>168.504166</td>\n",
       "      <td>37471600.0</td>\n",
       "      <td>NaN</td>\n",
       "    </tr>\n",
       "    <tr>\n",
       "      <th>2018-02-22</th>\n",
       "      <td>171.800003</td>\n",
       "      <td>173.949997</td>\n",
       "      <td>171.710007</td>\n",
       "      <td>172.500000</td>\n",
       "      <td>169.912704</td>\n",
       "      <td>30991900.0</td>\n",
       "      <td>NaN</td>\n",
       "    </tr>\n",
       "    <tr>\n",
       "      <th>2018-02-23</th>\n",
       "      <td>173.669998</td>\n",
       "      <td>175.649994</td>\n",
       "      <td>173.539993</td>\n",
       "      <td>175.500000</td>\n",
       "      <td>172.867706</td>\n",
       "      <td>33812400.0</td>\n",
       "      <td>NaN</td>\n",
       "    </tr>\n",
       "    <tr>\n",
       "      <th>2018-02-26</th>\n",
       "      <td>176.350006</td>\n",
       "      <td>179.389999</td>\n",
       "      <td>176.210007</td>\n",
       "      <td>178.970001</td>\n",
       "      <td>176.285675</td>\n",
       "      <td>38162200.0</td>\n",
       "      <td>NaN</td>\n",
       "    </tr>\n",
       "  </tbody>\n",
       "</table>\n",
       "</div>"
      ],
      "text/plain": [
       "                  Open        High         Low       Close   Adj Close  \\\n",
       "Date                                                                     \n",
       "2018-02-12         NaN         NaN         NaN         NaN         NaN   \n",
       "2018-02-13  161.949997  164.750000  161.649994  164.339996  161.875107   \n",
       "2018-02-14  163.039993  167.539993  162.880005  164.339996  164.859650   \n",
       "2018-02-15  163.039993  173.089996  169.000000  164.339996  170.395370   \n",
       "2018-02-16  172.360001  174.820007  171.770004  164.339996  169.843765   \n",
       "2018-02-20  172.050003  174.259995  171.419998  171.850006  169.272461   \n",
       "2018-02-21  172.830002  174.119995  171.009995  171.070007  168.504166   \n",
       "2018-02-22  171.800003  173.949997  171.710007  172.500000  169.912704   \n",
       "2018-02-23  173.669998  175.649994  173.539993  175.500000  172.867706   \n",
       "2018-02-26  176.350006  179.389999  176.210007  178.970001  176.285675   \n",
       "\n",
       "                Volume  Daily_Average  \n",
       "Date                                   \n",
       "2018-02-12         NaN            NaN  \n",
       "2018-02-13  32549200.0            NaN  \n",
       "2018-02-14  40644900.0            NaN  \n",
       "2018-02-15  51147200.0            NaN  \n",
       "2018-02-16  40176100.0            NaN  \n",
       "2018-02-20  33930500.0            NaN  \n",
       "2018-02-21  37471600.0            NaN  \n",
       "2018-02-22  30991900.0            NaN  \n",
       "2018-02-23  33812400.0            NaN  \n",
       "2018-02-26  38162200.0            NaN  "
      ]
     },
     "execution_count": 307,
     "metadata": {},
     "output_type": "execute_result"
    }
   ],
   "source": [
    "# fill forward filling\n",
    "d_f.fillna(method = 'ffill')"
   ]
  },
  {
   "cell_type": "code",
   "execution_count": 308,
   "metadata": {},
   "outputs": [
    {
     "data": {
      "text/html": [
       "<div>\n",
       "<style scoped>\n",
       "    .dataframe tbody tr th:only-of-type {\n",
       "        vertical-align: middle;\n",
       "    }\n",
       "\n",
       "    .dataframe tbody tr th {\n",
       "        vertical-align: top;\n",
       "    }\n",
       "\n",
       "    .dataframe thead th {\n",
       "        text-align: right;\n",
       "    }\n",
       "</style>\n",
       "<table border=\"1\" class=\"dataframe\">\n",
       "  <thead>\n",
       "    <tr style=\"text-align: right;\">\n",
       "      <th></th>\n",
       "      <th>Open</th>\n",
       "      <th>High</th>\n",
       "      <th>Low</th>\n",
       "      <th>Close</th>\n",
       "      <th>Adj Close</th>\n",
       "      <th>Volume</th>\n",
       "      <th>Daily_Average</th>\n",
       "    </tr>\n",
       "    <tr>\n",
       "      <th>Date</th>\n",
       "      <th></th>\n",
       "      <th></th>\n",
       "      <th></th>\n",
       "      <th></th>\n",
       "      <th></th>\n",
       "      <th></th>\n",
       "      <th></th>\n",
       "    </tr>\n",
       "  </thead>\n",
       "  <tbody>\n",
       "    <tr>\n",
       "      <th>2018-02-12</th>\n",
       "      <td>161.949997</td>\n",
       "      <td>164.750000</td>\n",
       "      <td>161.649994</td>\n",
       "      <td>164.339996</td>\n",
       "      <td>161.875107</td>\n",
       "      <td>32549200.0</td>\n",
       "      <td>NaN</td>\n",
       "    </tr>\n",
       "    <tr>\n",
       "      <th>2018-02-13</th>\n",
       "      <td>161.949997</td>\n",
       "      <td>164.750000</td>\n",
       "      <td>161.649994</td>\n",
       "      <td>164.339996</td>\n",
       "      <td>161.875107</td>\n",
       "      <td>32549200.0</td>\n",
       "      <td>NaN</td>\n",
       "    </tr>\n",
       "    <tr>\n",
       "      <th>2018-02-14</th>\n",
       "      <td>163.039993</td>\n",
       "      <td>167.539993</td>\n",
       "      <td>162.880005</td>\n",
       "      <td>171.850006</td>\n",
       "      <td>164.859650</td>\n",
       "      <td>40644900.0</td>\n",
       "      <td>NaN</td>\n",
       "    </tr>\n",
       "    <tr>\n",
       "      <th>2018-02-15</th>\n",
       "      <td>172.360001</td>\n",
       "      <td>173.089996</td>\n",
       "      <td>169.000000</td>\n",
       "      <td>171.850006</td>\n",
       "      <td>170.395370</td>\n",
       "      <td>51147200.0</td>\n",
       "      <td>NaN</td>\n",
       "    </tr>\n",
       "    <tr>\n",
       "      <th>2018-02-16</th>\n",
       "      <td>172.360001</td>\n",
       "      <td>174.820007</td>\n",
       "      <td>171.770004</td>\n",
       "      <td>171.850006</td>\n",
       "      <td>169.843765</td>\n",
       "      <td>40176100.0</td>\n",
       "      <td>NaN</td>\n",
       "    </tr>\n",
       "    <tr>\n",
       "      <th>2018-02-20</th>\n",
       "      <td>172.050003</td>\n",
       "      <td>174.259995</td>\n",
       "      <td>171.419998</td>\n",
       "      <td>171.850006</td>\n",
       "      <td>169.272461</td>\n",
       "      <td>33930500.0</td>\n",
       "      <td>NaN</td>\n",
       "    </tr>\n",
       "    <tr>\n",
       "      <th>2018-02-21</th>\n",
       "      <td>172.830002</td>\n",
       "      <td>174.119995</td>\n",
       "      <td>171.009995</td>\n",
       "      <td>171.070007</td>\n",
       "      <td>168.504166</td>\n",
       "      <td>37471600.0</td>\n",
       "      <td>NaN</td>\n",
       "    </tr>\n",
       "    <tr>\n",
       "      <th>2018-02-22</th>\n",
       "      <td>171.800003</td>\n",
       "      <td>173.949997</td>\n",
       "      <td>171.710007</td>\n",
       "      <td>172.500000</td>\n",
       "      <td>169.912704</td>\n",
       "      <td>30991900.0</td>\n",
       "      <td>NaN</td>\n",
       "    </tr>\n",
       "    <tr>\n",
       "      <th>2018-02-23</th>\n",
       "      <td>173.669998</td>\n",
       "      <td>175.649994</td>\n",
       "      <td>173.539993</td>\n",
       "      <td>175.500000</td>\n",
       "      <td>172.867706</td>\n",
       "      <td>33812400.0</td>\n",
       "      <td>NaN</td>\n",
       "    </tr>\n",
       "    <tr>\n",
       "      <th>2018-02-26</th>\n",
       "      <td>176.350006</td>\n",
       "      <td>179.389999</td>\n",
       "      <td>176.210007</td>\n",
       "      <td>178.970001</td>\n",
       "      <td>176.285675</td>\n",
       "      <td>38162200.0</td>\n",
       "      <td>NaN</td>\n",
       "    </tr>\n",
       "  </tbody>\n",
       "</table>\n",
       "</div>"
      ],
      "text/plain": [
       "                  Open        High         Low       Close   Adj Close  \\\n",
       "Date                                                                     \n",
       "2018-02-12  161.949997  164.750000  161.649994  164.339996  161.875107   \n",
       "2018-02-13  161.949997  164.750000  161.649994  164.339996  161.875107   \n",
       "2018-02-14  163.039993  167.539993  162.880005  171.850006  164.859650   \n",
       "2018-02-15  172.360001  173.089996  169.000000  171.850006  170.395370   \n",
       "2018-02-16  172.360001  174.820007  171.770004  171.850006  169.843765   \n",
       "2018-02-20  172.050003  174.259995  171.419998  171.850006  169.272461   \n",
       "2018-02-21  172.830002  174.119995  171.009995  171.070007  168.504166   \n",
       "2018-02-22  171.800003  173.949997  171.710007  172.500000  169.912704   \n",
       "2018-02-23  173.669998  175.649994  173.539993  175.500000  172.867706   \n",
       "2018-02-26  176.350006  179.389999  176.210007  178.970001  176.285675   \n",
       "\n",
       "                Volume  Daily_Average  \n",
       "Date                                   \n",
       "2018-02-12  32549200.0            NaN  \n",
       "2018-02-13  32549200.0            NaN  \n",
       "2018-02-14  40644900.0            NaN  \n",
       "2018-02-15  51147200.0            NaN  \n",
       "2018-02-16  40176100.0            NaN  \n",
       "2018-02-20  33930500.0            NaN  \n",
       "2018-02-21  37471600.0            NaN  \n",
       "2018-02-22  30991900.0            NaN  \n",
       "2018-02-23  33812400.0            NaN  \n",
       "2018-02-26  38162200.0            NaN  "
      ]
     },
     "execution_count": 308,
     "metadata": {},
     "output_type": "execute_result"
    }
   ],
   "source": [
    "# backward filling\n",
    "d_f.fillna(method = 'bfill')"
   ]
  },
  {
   "cell_type": "code",
   "execution_count": 310,
   "metadata": {},
   "outputs": [
    {
     "data": {
      "text/html": [
       "<div>\n",
       "<style scoped>\n",
       "    .dataframe tbody tr th:only-of-type {\n",
       "        vertical-align: middle;\n",
       "    }\n",
       "\n",
       "    .dataframe tbody tr th {\n",
       "        vertical-align: top;\n",
       "    }\n",
       "\n",
       "    .dataframe thead th {\n",
       "        text-align: right;\n",
       "    }\n",
       "</style>\n",
       "<table border=\"1\" class=\"dataframe\">\n",
       "  <thead>\n",
       "    <tr style=\"text-align: right;\">\n",
       "      <th></th>\n",
       "      <th>Open</th>\n",
       "      <th>High</th>\n",
       "      <th>Low</th>\n",
       "      <th>Close</th>\n",
       "      <th>Adj Close</th>\n",
       "      <th>Volume</th>\n",
       "      <th>Daily_Average</th>\n",
       "    </tr>\n",
       "    <tr>\n",
       "      <th>Date</th>\n",
       "      <th></th>\n",
       "      <th></th>\n",
       "      <th></th>\n",
       "      <th></th>\n",
       "      <th></th>\n",
       "      <th></th>\n",
       "      <th></th>\n",
       "    </tr>\n",
       "  </thead>\n",
       "  <tbody>\n",
       "    <tr>\n",
       "      <th>2018-02-12</th>\n",
       "      <td>170.506250</td>\n",
       "      <td>173.063331</td>\n",
       "      <td>169.910000</td>\n",
       "      <td>172.371668</td>\n",
       "      <td>169.312956</td>\n",
       "      <td>37654000.0</td>\n",
       "      <td>NaN</td>\n",
       "    </tr>\n",
       "    <tr>\n",
       "      <th>2018-02-13</th>\n",
       "      <td>161.949997</td>\n",
       "      <td>164.750000</td>\n",
       "      <td>161.649994</td>\n",
       "      <td>164.339996</td>\n",
       "      <td>161.875107</td>\n",
       "      <td>32549200.0</td>\n",
       "      <td>NaN</td>\n",
       "    </tr>\n",
       "    <tr>\n",
       "      <th>2018-02-14</th>\n",
       "      <td>163.039993</td>\n",
       "      <td>167.539993</td>\n",
       "      <td>162.880005</td>\n",
       "      <td>172.371668</td>\n",
       "      <td>164.859650</td>\n",
       "      <td>40644900.0</td>\n",
       "      <td>NaN</td>\n",
       "    </tr>\n",
       "    <tr>\n",
       "      <th>2018-02-15</th>\n",
       "      <td>170.506250</td>\n",
       "      <td>173.089996</td>\n",
       "      <td>169.000000</td>\n",
       "      <td>172.371668</td>\n",
       "      <td>170.395370</td>\n",
       "      <td>51147200.0</td>\n",
       "      <td>NaN</td>\n",
       "    </tr>\n",
       "    <tr>\n",
       "      <th>2018-02-16</th>\n",
       "      <td>172.360001</td>\n",
       "      <td>174.820007</td>\n",
       "      <td>171.770004</td>\n",
       "      <td>172.371668</td>\n",
       "      <td>169.843765</td>\n",
       "      <td>40176100.0</td>\n",
       "      <td>NaN</td>\n",
       "    </tr>\n",
       "    <tr>\n",
       "      <th>2018-02-20</th>\n",
       "      <td>172.050003</td>\n",
       "      <td>174.259995</td>\n",
       "      <td>171.419998</td>\n",
       "      <td>171.850006</td>\n",
       "      <td>169.272461</td>\n",
       "      <td>33930500.0</td>\n",
       "      <td>NaN</td>\n",
       "    </tr>\n",
       "    <tr>\n",
       "      <th>2018-02-21</th>\n",
       "      <td>172.830002</td>\n",
       "      <td>174.119995</td>\n",
       "      <td>171.009995</td>\n",
       "      <td>171.070007</td>\n",
       "      <td>168.504166</td>\n",
       "      <td>37471600.0</td>\n",
       "      <td>NaN</td>\n",
       "    </tr>\n",
       "    <tr>\n",
       "      <th>2018-02-22</th>\n",
       "      <td>171.800003</td>\n",
       "      <td>173.949997</td>\n",
       "      <td>171.710007</td>\n",
       "      <td>172.500000</td>\n",
       "      <td>169.912704</td>\n",
       "      <td>30991900.0</td>\n",
       "      <td>NaN</td>\n",
       "    </tr>\n",
       "    <tr>\n",
       "      <th>2018-02-23</th>\n",
       "      <td>173.669998</td>\n",
       "      <td>175.649994</td>\n",
       "      <td>173.539993</td>\n",
       "      <td>175.500000</td>\n",
       "      <td>172.867706</td>\n",
       "      <td>33812400.0</td>\n",
       "      <td>NaN</td>\n",
       "    </tr>\n",
       "    <tr>\n",
       "      <th>2018-02-26</th>\n",
       "      <td>176.350006</td>\n",
       "      <td>179.389999</td>\n",
       "      <td>176.210007</td>\n",
       "      <td>178.970001</td>\n",
       "      <td>176.285675</td>\n",
       "      <td>38162200.0</td>\n",
       "      <td>NaN</td>\n",
       "    </tr>\n",
       "  </tbody>\n",
       "</table>\n",
       "</div>"
      ],
      "text/plain": [
       "                  Open        High         Low       Close   Adj Close  \\\n",
       "Date                                                                     \n",
       "2018-02-12  170.506250  173.063331  169.910000  172.371668  169.312956   \n",
       "2018-02-13  161.949997  164.750000  161.649994  164.339996  161.875107   \n",
       "2018-02-14  163.039993  167.539993  162.880005  172.371668  164.859650   \n",
       "2018-02-15  170.506250  173.089996  169.000000  172.371668  170.395370   \n",
       "2018-02-16  172.360001  174.820007  171.770004  172.371668  169.843765   \n",
       "2018-02-20  172.050003  174.259995  171.419998  171.850006  169.272461   \n",
       "2018-02-21  172.830002  174.119995  171.009995  171.070007  168.504166   \n",
       "2018-02-22  171.800003  173.949997  171.710007  172.500000  169.912704   \n",
       "2018-02-23  173.669998  175.649994  173.539993  175.500000  172.867706   \n",
       "2018-02-26  176.350006  179.389999  176.210007  178.970001  176.285675   \n",
       "\n",
       "                Volume  Daily_Average  \n",
       "Date                                   \n",
       "2018-02-12  37654000.0            NaN  \n",
       "2018-02-13  32549200.0            NaN  \n",
       "2018-02-14  40644900.0            NaN  \n",
       "2018-02-15  51147200.0            NaN  \n",
       "2018-02-16  40176100.0            NaN  \n",
       "2018-02-20  33930500.0            NaN  \n",
       "2018-02-21  37471600.0            NaN  \n",
       "2018-02-22  30991900.0            NaN  \n",
       "2018-02-23  33812400.0            NaN  \n",
       "2018-02-26  38162200.0            NaN  "
      ]
     },
     "execution_count": 310,
     "metadata": {},
     "output_type": "execute_result"
    }
   ],
   "source": [
    "# fill with mean of value\n",
    "d_f.fillna(d_f.mean())"
   ]
  },
  {
   "cell_type": "code",
   "execution_count": 311,
   "metadata": {},
   "outputs": [],
   "source": [
    "# changing of the value of missing data or interpolation"
   ]
  },
  {
   "cell_type": "code",
   "execution_count": 312,
   "metadata": {},
   "outputs": [
    {
     "data": {
      "text/plain": [
       "0    10.0\n",
       "1     NaN\n",
       "2     NaN\n",
       "3     NaN\n",
       "4    50.0\n",
       "dtype: float64"
      ]
     },
     "execution_count": 312,
     "metadata": {},
     "output_type": "execute_result"
    }
   ],
   "source": [
    "s1 = pd.Series([10,np.nan, np.nan, np.nan, 50])\n",
    "s1"
   ]
  },
  {
   "cell_type": "code",
   "execution_count": 316,
   "metadata": {},
   "outputs": [
    {
     "data": {
      "text/plain": [
       "0    10.0\n",
       "1    20.0\n",
       "2    30.0\n",
       "3    40.0\n",
       "4    50.0\n",
       "dtype: float64"
      ]
     },
     "execution_count": 316,
     "metadata": {},
     "output_type": "execute_result"
    }
   ],
   "source": [
    "# pandas expect values between the gives values by calculating some relations\n",
    "# so in this the relation is linear relation [10,20,30,40,50]\n",
    "s1.interpolate()"
   ]
  },
  {
   "cell_type": "code",
   "execution_count": 317,
   "metadata": {},
   "outputs": [
    {
     "data": {
      "text/plain": [
       "0    10.0\n",
       "1     NaN\n",
       "2     NaN\n",
       "3     NaN\n",
       "4    20.0\n",
       "5    39.0\n",
       "dtype: float64"
      ]
     },
     "execution_count": 317,
     "metadata": {},
     "output_type": "execute_result"
    }
   ],
   "source": [
    "s2 = pd.Series([10,np.nan, np.nan, np.nan, 20,39])\n",
    "s2"
   ]
  },
  {
   "cell_type": "code",
   "execution_count": 319,
   "metadata": {},
   "outputs": [
    {
     "data": {
      "text/plain": [
       "0    10.0\n",
       "1    12.5\n",
       "2    15.0\n",
       "3    17.5\n",
       "4    20.0\n",
       "5    39.0\n",
       "dtype: float64"
      ]
     },
     "execution_count": 319,
     "metadata": {},
     "output_type": "execute_result"
    }
   ],
   "source": [
    "# gives the value according to given data\n",
    "s2.interpolate()"
   ]
  },
  {
   "cell_type": "code",
   "execution_count": 2,
   "metadata": {},
   "outputs": [],
   "source": [
    "import pandas as pd\n",
    "ser1 = pd.Series([200,300,400,500,200, 300,400, 500], index = ['microsoft', 'google', 'facebook', 'yahoo','microsoft','google', 'facebook', 'yahoo'])\n",
    "ser2 = pd.Series([150,250,350,450,150, 250,350, 450], index = ['microsoft', 'google', 'facebook', 'yahoo','microsoft','google', 'facebook', 'yahoo'])\n",
    "ser3 = pd.Series([220,330,440,550,220, 330,440, 550], index = ['microsoft', 'google', 'facebook', 'yahoo','microsoft','google', 'facebook', 'yahoo'])\n",
    "df_new = pd.DataFrame({2017:ser1, 2018:ser2, 2019:ser3})\n"
   ]
  },
  {
   "cell_type": "code",
   "execution_count": 3,
   "metadata": {},
   "outputs": [
    {
     "data": {
      "text/html": [
       "<div>\n",
       "<style scoped>\n",
       "    .dataframe tbody tr th:only-of-type {\n",
       "        vertical-align: middle;\n",
       "    }\n",
       "\n",
       "    .dataframe tbody tr th {\n",
       "        vertical-align: top;\n",
       "    }\n",
       "\n",
       "    .dataframe thead th {\n",
       "        text-align: right;\n",
       "    }\n",
       "</style>\n",
       "<table border=\"1\" class=\"dataframe\">\n",
       "  <thead>\n",
       "    <tr style=\"text-align: right;\">\n",
       "      <th></th>\n",
       "      <th>2017</th>\n",
       "      <th>2018</th>\n",
       "      <th>2019</th>\n",
       "    </tr>\n",
       "  </thead>\n",
       "  <tbody>\n",
       "    <tr>\n",
       "      <th>microsoft</th>\n",
       "      <td>200</td>\n",
       "      <td>150</td>\n",
       "      <td>220</td>\n",
       "    </tr>\n",
       "    <tr>\n",
       "      <th>google</th>\n",
       "      <td>300</td>\n",
       "      <td>250</td>\n",
       "      <td>330</td>\n",
       "    </tr>\n",
       "    <tr>\n",
       "      <th>facebook</th>\n",
       "      <td>400</td>\n",
       "      <td>350</td>\n",
       "      <td>440</td>\n",
       "    </tr>\n",
       "    <tr>\n",
       "      <th>yahoo</th>\n",
       "      <td>500</td>\n",
       "      <td>450</td>\n",
       "      <td>550</td>\n",
       "    </tr>\n",
       "    <tr>\n",
       "      <th>microsoft</th>\n",
       "      <td>200</td>\n",
       "      <td>150</td>\n",
       "      <td>220</td>\n",
       "    </tr>\n",
       "    <tr>\n",
       "      <th>google</th>\n",
       "      <td>300</td>\n",
       "      <td>250</td>\n",
       "      <td>330</td>\n",
       "    </tr>\n",
       "    <tr>\n",
       "      <th>facebook</th>\n",
       "      <td>400</td>\n",
       "      <td>350</td>\n",
       "      <td>440</td>\n",
       "    </tr>\n",
       "    <tr>\n",
       "      <th>yahoo</th>\n",
       "      <td>500</td>\n",
       "      <td>450</td>\n",
       "      <td>550</td>\n",
       "    </tr>\n",
       "  </tbody>\n",
       "</table>\n",
       "</div>"
      ],
      "text/plain": [
       "           2017  2018  2019\n",
       "microsoft   200   150   220\n",
       "google      300   250   330\n",
       "facebook    400   350   440\n",
       "yahoo       500   450   550\n",
       "microsoft   200   150   220\n",
       "google      300   250   330\n",
       "facebook    400   350   440\n",
       "yahoo       500   450   550"
      ]
     },
     "execution_count": 3,
     "metadata": {},
     "output_type": "execute_result"
    }
   ],
   "source": [
    "df_new"
   ]
  },
  {
   "cell_type": "code",
   "execution_count": 4,
   "metadata": {},
   "outputs": [
    {
     "data": {
      "text/plain": [
       "microsoft    False\n",
       "google       False\n",
       "facebook     False\n",
       "yahoo        False\n",
       "microsoft     True\n",
       "google        True\n",
       "facebook      True\n",
       "yahoo         True\n",
       "dtype: bool"
      ]
     },
     "execution_count": 4,
     "metadata": {},
     "output_type": "execute_result"
    }
   ],
   "source": [
    "# now rows duplicate and repeat\n",
    "df_new.duplicated()"
   ]
  },
  {
   "cell_type": "code",
   "execution_count": 5,
   "metadata": {},
   "outputs": [],
   "source": [
    "# dataframe scan row wise initiallly no duplicate then find duplicate\n"
   ]
  },
  {
   "cell_type": "code",
   "execution_count": 8,
   "metadata": {},
   "outputs": [
    {
     "data": {
      "text/html": [
       "<div>\n",
       "<style scoped>\n",
       "    .dataframe tbody tr th:only-of-type {\n",
       "        vertical-align: middle;\n",
       "    }\n",
       "\n",
       "    .dataframe tbody tr th {\n",
       "        vertical-align: top;\n",
       "    }\n",
       "\n",
       "    .dataframe thead th {\n",
       "        text-align: right;\n",
       "    }\n",
       "</style>\n",
       "<table border=\"1\" class=\"dataframe\">\n",
       "  <thead>\n",
       "    <tr style=\"text-align: right;\">\n",
       "      <th></th>\n",
       "      <th>2017</th>\n",
       "      <th>2018</th>\n",
       "      <th>2019</th>\n",
       "    </tr>\n",
       "  </thead>\n",
       "  <tbody>\n",
       "    <tr>\n",
       "      <th>microsoft</th>\n",
       "      <td>200</td>\n",
       "      <td>150</td>\n",
       "      <td>220</td>\n",
       "    </tr>\n",
       "    <tr>\n",
       "      <th>google</th>\n",
       "      <td>300</td>\n",
       "      <td>250</td>\n",
       "      <td>330</td>\n",
       "    </tr>\n",
       "    <tr>\n",
       "      <th>facebook</th>\n",
       "      <td>400</td>\n",
       "      <td>350</td>\n",
       "      <td>440</td>\n",
       "    </tr>\n",
       "    <tr>\n",
       "      <th>yahoo</th>\n",
       "      <td>500</td>\n",
       "      <td>450</td>\n",
       "      <td>550</td>\n",
       "    </tr>\n",
       "  </tbody>\n",
       "</table>\n",
       "</div>"
      ],
      "text/plain": [
       "           2017  2018  2019\n",
       "microsoft   200   150   220\n",
       "google      300   250   330\n",
       "facebook    400   350   440\n",
       "yahoo       500   450   550"
      ]
     },
     "execution_count": 8,
     "metadata": {},
     "output_type": "execute_result"
    }
   ],
   "source": [
    "# now drop duplicate\n",
    "df_new.drop_duplicates()"
   ]
  },
  {
   "cell_type": "code",
   "execution_count": 9,
   "metadata": {},
   "outputs": [],
   "source": [
    "import numpy as np"
   ]
  },
  {
   "cell_type": "code",
   "execution_count": 12,
   "metadata": {},
   "outputs": [
    {
     "data": {
      "text/html": [
       "<div>\n",
       "<style scoped>\n",
       "    .dataframe tbody tr th:only-of-type {\n",
       "        vertical-align: middle;\n",
       "    }\n",
       "\n",
       "    .dataframe tbody tr th {\n",
       "        vertical-align: top;\n",
       "    }\n",
       "\n",
       "    .dataframe thead th {\n",
       "        text-align: right;\n",
       "    }\n",
       "</style>\n",
       "<table border=\"1\" class=\"dataframe\">\n",
       "  <thead>\n",
       "    <tr style=\"text-align: right;\">\n",
       "      <th></th>\n",
       "      <th>X</th>\n",
       "      <th>Y</th>\n",
       "    </tr>\n",
       "  </thead>\n",
       "  <tbody>\n",
       "    <tr>\n",
       "      <th>0</th>\n",
       "      <td>0</td>\n",
       "      <td>5</td>\n",
       "    </tr>\n",
       "    <tr>\n",
       "      <th>1</th>\n",
       "      <td>1</td>\n",
       "      <td>6</td>\n",
       "    </tr>\n",
       "    <tr>\n",
       "      <th>2</th>\n",
       "      <td>1</td>\n",
       "      <td>8</td>\n",
       "    </tr>\n",
       "    <tr>\n",
       "      <th>3</th>\n",
       "      <td>3</td>\n",
       "      <td>8</td>\n",
       "    </tr>\n",
       "    <tr>\n",
       "      <th>4</th>\n",
       "      <td>4</td>\n",
       "      <td>9</td>\n",
       "    </tr>\n",
       "  </tbody>\n",
       "</table>\n",
       "</div>"
      ],
      "text/plain": [
       "   X  Y\n",
       "0  0  5\n",
       "1  1  6\n",
       "2  1  8\n",
       "3  3  8\n",
       "4  4  9"
      ]
     },
     "execution_count": 12,
     "metadata": {},
     "output_type": "execute_result"
    }
   ],
   "source": [
    "d_f1 = pd.DataFrame({'X':[0,1,1,3,4], 'Y':[5,6,8,8,9]})\n",
    "d_f1"
   ]
  },
  {
   "cell_type": "code",
   "execution_count": 15,
   "metadata": {},
   "outputs": [
    {
     "data": {
      "text/html": [
       "<div>\n",
       "<style scoped>\n",
       "    .dataframe tbody tr th:only-of-type {\n",
       "        vertical-align: middle;\n",
       "    }\n",
       "\n",
       "    .dataframe tbody tr th {\n",
       "        vertical-align: top;\n",
       "    }\n",
       "\n",
       "    .dataframe thead th {\n",
       "        text-align: right;\n",
       "    }\n",
       "</style>\n",
       "<table border=\"1\" class=\"dataframe\">\n",
       "  <thead>\n",
       "    <tr style=\"text-align: right;\">\n",
       "      <th></th>\n",
       "      <th>X</th>\n",
       "      <th>Y</th>\n",
       "    </tr>\n",
       "  </thead>\n",
       "  <tbody>\n",
       "    <tr>\n",
       "      <th>0</th>\n",
       "      <td>0</td>\n",
       "      <td>5</td>\n",
       "    </tr>\n",
       "    <tr>\n",
       "      <th>1</th>\n",
       "      <td>100</td>\n",
       "      <td>6</td>\n",
       "    </tr>\n",
       "    <tr>\n",
       "      <th>2</th>\n",
       "      <td>100</td>\n",
       "      <td>100</td>\n",
       "    </tr>\n",
       "    <tr>\n",
       "      <th>3</th>\n",
       "      <td>3</td>\n",
       "      <td>100</td>\n",
       "    </tr>\n",
       "    <tr>\n",
       "      <th>4</th>\n",
       "      <td>4</td>\n",
       "      <td>9</td>\n",
       "    </tr>\n",
       "  </tbody>\n",
       "</table>\n",
       "</div>"
      ],
      "text/plain": [
       "     X    Y\n",
       "0    0    5\n",
       "1  100    6\n",
       "2  100  100\n",
       "3    3  100\n",
       "4    4    9"
      ]
     },
     "execution_count": 15,
     "metadata": {},
     "output_type": "execute_result"
    }
   ],
   "source": [
    "d_f1.replace({'X':1,'Y':8}, 100)"
   ]
  },
  {
   "cell_type": "code",
   "execution_count": 16,
   "metadata": {},
   "outputs": [
    {
     "data": {
      "text/html": [
       "<div>\n",
       "<style scoped>\n",
       "    .dataframe tbody tr th:only-of-type {\n",
       "        vertical-align: middle;\n",
       "    }\n",
       "\n",
       "    .dataframe tbody tr th {\n",
       "        vertical-align: top;\n",
       "    }\n",
       "\n",
       "    .dataframe thead th {\n",
       "        text-align: right;\n",
       "    }\n",
       "</style>\n",
       "<table border=\"1\" class=\"dataframe\">\n",
       "  <thead>\n",
       "    <tr style=\"text-align: right;\">\n",
       "      <th></th>\n",
       "      <th>X</th>\n",
       "      <th>Y</th>\n",
       "    </tr>\n",
       "  </thead>\n",
       "  <tbody>\n",
       "    <tr>\n",
       "      <th>0</th>\n",
       "      <td>0</td>\n",
       "      <td>5</td>\n",
       "    </tr>\n",
       "    <tr>\n",
       "      <th>1</th>\n",
       "      <td>1</td>\n",
       "      <td>6</td>\n",
       "    </tr>\n",
       "    <tr>\n",
       "      <th>2</th>\n",
       "      <td>1</td>\n",
       "      <td>8</td>\n",
       "    </tr>\n",
       "    <tr>\n",
       "      <th>3</th>\n",
       "      <td>3</td>\n",
       "      <td>8</td>\n",
       "    </tr>\n",
       "    <tr>\n",
       "      <th>4</th>\n",
       "      <td>4</td>\n",
       "      <td>9</td>\n",
       "    </tr>\n",
       "  </tbody>\n",
       "</table>\n",
       "</div>"
      ],
      "text/plain": [
       "   X  Y\n",
       "0  0  5\n",
       "1  1  6\n",
       "2  1  8\n",
       "3  3  8\n",
       "4  4  9"
      ]
     },
     "execution_count": 16,
     "metadata": {},
     "output_type": "execute_result"
    }
   ],
   "source": [
    "d_f1"
   ]
  },
  {
   "cell_type": "code",
   "execution_count": 17,
   "metadata": {},
   "outputs": [
    {
     "data": {
      "text/html": [
       "<div>\n",
       "<style scoped>\n",
       "    .dataframe tbody tr th:only-of-type {\n",
       "        vertical-align: middle;\n",
       "    }\n",
       "\n",
       "    .dataframe tbody tr th {\n",
       "        vertical-align: top;\n",
       "    }\n",
       "\n",
       "    .dataframe thead th {\n",
       "        text-align: right;\n",
       "    }\n",
       "</style>\n",
       "<table border=\"1\" class=\"dataframe\">\n",
       "  <thead>\n",
       "    <tr style=\"text-align: right;\">\n",
       "      <th></th>\n",
       "      <th>X</th>\n",
       "      <th>Y</th>\n",
       "    </tr>\n",
       "  </thead>\n",
       "  <tbody>\n",
       "    <tr>\n",
       "      <th>0</th>\n",
       "      <td>10</td>\n",
       "      <td>15</td>\n",
       "    </tr>\n",
       "    <tr>\n",
       "      <th>1</th>\n",
       "      <td>11</td>\n",
       "      <td>16</td>\n",
       "    </tr>\n",
       "    <tr>\n",
       "      <th>2</th>\n",
       "      <td>11</td>\n",
       "      <td>18</td>\n",
       "    </tr>\n",
       "    <tr>\n",
       "      <th>3</th>\n",
       "      <td>13</td>\n",
       "      <td>18</td>\n",
       "    </tr>\n",
       "    <tr>\n",
       "      <th>4</th>\n",
       "      <td>14</td>\n",
       "      <td>19</td>\n",
       "    </tr>\n",
       "  </tbody>\n",
       "</table>\n",
       "</div>"
      ],
      "text/plain": [
       "    X   Y\n",
       "0  10  15\n",
       "1  11  16\n",
       "2  11  18\n",
       "3  13  18\n",
       "4  14  19"
      ]
     },
     "execution_count": 17,
     "metadata": {},
     "output_type": "execute_result"
    }
   ],
   "source": [
    "# use function lambdad\n",
    "# add 10 to any value\n",
    "d_f1.apply(lambda v:v+10)"
   ]
  },
  {
   "cell_type": "code",
   "execution_count": 18,
   "metadata": {},
   "outputs": [
    {
     "data": {
      "text/html": [
       "<div>\n",
       "<style scoped>\n",
       "    .dataframe tbody tr th:only-of-type {\n",
       "        vertical-align: middle;\n",
       "    }\n",
       "\n",
       "    .dataframe tbody tr th {\n",
       "        vertical-align: top;\n",
       "    }\n",
       "\n",
       "    .dataframe thead th {\n",
       "        text-align: right;\n",
       "    }\n",
       "</style>\n",
       "<table border=\"1\" class=\"dataframe\">\n",
       "  <thead>\n",
       "    <tr style=\"text-align: right;\">\n",
       "      <th></th>\n",
       "      <th>X</th>\n",
       "      <th>Y</th>\n",
       "    </tr>\n",
       "  </thead>\n",
       "  <tbody>\n",
       "    <tr>\n",
       "      <th>0</th>\n",
       "      <td>0</td>\n",
       "      <td>50</td>\n",
       "    </tr>\n",
       "    <tr>\n",
       "      <th>1</th>\n",
       "      <td>10</td>\n",
       "      <td>60</td>\n",
       "    </tr>\n",
       "    <tr>\n",
       "      <th>2</th>\n",
       "      <td>10</td>\n",
       "      <td>80</td>\n",
       "    </tr>\n",
       "    <tr>\n",
       "      <th>3</th>\n",
       "      <td>30</td>\n",
       "      <td>80</td>\n",
       "    </tr>\n",
       "    <tr>\n",
       "      <th>4</th>\n",
       "      <td>40</td>\n",
       "      <td>90</td>\n",
       "    </tr>\n",
       "  </tbody>\n",
       "</table>\n",
       "</div>"
      ],
      "text/plain": [
       "    X   Y\n",
       "0   0  50\n",
       "1  10  60\n",
       "2  10  80\n",
       "3  30  80\n",
       "4  40  90"
      ]
     },
     "execution_count": 18,
     "metadata": {},
     "output_type": "execute_result"
    }
   ],
   "source": [
    "d_f1.apply(lambda v:v*10)"
   ]
  },
  {
   "cell_type": "code",
   "execution_count": 20,
   "metadata": {},
   "outputs": [
    {
     "data": {
      "text/plain": [
       "X     9\n",
       "Y    36\n",
       "dtype: int64"
      ]
     },
     "execution_count": 20,
     "metadata": {},
     "output_type": "execute_result"
    }
   ],
   "source": [
    "# sum of columns\n",
    "d_f1.apply(lambda col:col.sum())"
   ]
  },
  {
   "cell_type": "code",
   "execution_count": 28,
   "metadata": {},
   "outputs": [
    {
     "data": {
      "text/html": [
       "<div>\n",
       "<style scoped>\n",
       "    .dataframe tbody tr th:only-of-type {\n",
       "        vertical-align: middle;\n",
       "    }\n",
       "\n",
       "    .dataframe tbody tr th {\n",
       "        vertical-align: top;\n",
       "    }\n",
       "\n",
       "    .dataframe thead th {\n",
       "        text-align: right;\n",
       "    }\n",
       "</style>\n",
       "<table border=\"1\" class=\"dataframe\">\n",
       "  <thead>\n",
       "    <tr style=\"text-align: right;\">\n",
       "      <th></th>\n",
       "      <th>a</th>\n",
       "      <th>b</th>\n",
       "      <th>c</th>\n",
       "    </tr>\n",
       "  </thead>\n",
       "  <tbody>\n",
       "    <tr>\n",
       "      <th>1</th>\n",
       "      <td>10</td>\n",
       "      <td>20</td>\n",
       "      <td>30</td>\n",
       "    </tr>\n",
       "    <tr>\n",
       "      <th>2</th>\n",
       "      <td>40</td>\n",
       "      <td>50</td>\n",
       "      <td>60</td>\n",
       "    </tr>\n",
       "    <tr>\n",
       "      <th>3</th>\n",
       "      <td>70</td>\n",
       "      <td>80</td>\n",
       "      <td>90</td>\n",
       "    </tr>\n",
       "  </tbody>\n",
       "</table>\n",
       "</div>"
      ],
      "text/plain": [
       "    a   b   c\n",
       "1  10  20  30\n",
       "2  40  50  60\n",
       "3  70  80  90"
      ]
     },
     "execution_count": 28,
     "metadata": {},
     "output_type": "execute_result"
    }
   ],
   "source": [
    "# lets something new\n",
    "df1 = pd.DataFrame([[10,20,30],[40,50,60],[70,80,90]], index = [1,2,3], columns = ['a','b','c'])\n",
    "df1"
   ]
  },
  {
   "cell_type": "code",
   "execution_count": 29,
   "metadata": {},
   "outputs": [
    {
     "data": {
      "text/html": [
       "<div>\n",
       "<style scoped>\n",
       "    .dataframe tbody tr th:only-of-type {\n",
       "        vertical-align: middle;\n",
       "    }\n",
       "\n",
       "    .dataframe tbody tr th {\n",
       "        vertical-align: top;\n",
       "    }\n",
       "\n",
       "    .dataframe thead th {\n",
       "        text-align: right;\n",
       "    }\n",
       "</style>\n",
       "<table border=\"1\" class=\"dataframe\">\n",
       "  <thead>\n",
       "    <tr style=\"text-align: right;\">\n",
       "      <th></th>\n",
       "      <th>a</th>\n",
       "      <th>b</th>\n",
       "      <th>c</th>\n",
       "    </tr>\n",
       "  </thead>\n",
       "  <tbody>\n",
       "    <tr>\n",
       "      <th>1</th>\n",
       "      <td>100</td>\n",
       "      <td>200</td>\n",
       "      <td>300</td>\n",
       "    </tr>\n",
       "    <tr>\n",
       "      <th>2</th>\n",
       "      <td>400</td>\n",
       "      <td>500</td>\n",
       "      <td>600</td>\n",
       "    </tr>\n",
       "    <tr>\n",
       "      <th>3</th>\n",
       "      <td>700</td>\n",
       "      <td>800</td>\n",
       "      <td>900</td>\n",
       "    </tr>\n",
       "  </tbody>\n",
       "</table>\n",
       "</div>"
      ],
      "text/plain": [
       "     a    b    c\n",
       "1  100  200  300\n",
       "2  400  500  600\n",
       "3  700  800  900"
      ]
     },
     "execution_count": 29,
     "metadata": {},
     "output_type": "execute_result"
    }
   ],
   "source": [
    "df2 = pd.DataFrame([[100,200,300],[400,500,600],[700,800,900]], index = [1,2,3], columns = ['a','b','c'])\n",
    "df2"
   ]
  },
  {
   "cell_type": "code",
   "execution_count": 30,
   "metadata": {},
   "outputs": [
    {
     "data": {
      "text/html": [
       "<div>\n",
       "<style scoped>\n",
       "    .dataframe tbody tr th:only-of-type {\n",
       "        vertical-align: middle;\n",
       "    }\n",
       "\n",
       "    .dataframe tbody tr th {\n",
       "        vertical-align: top;\n",
       "    }\n",
       "\n",
       "    .dataframe thead th {\n",
       "        text-align: right;\n",
       "    }\n",
       "</style>\n",
       "<table border=\"1\" class=\"dataframe\">\n",
       "  <thead>\n",
       "    <tr style=\"text-align: right;\">\n",
       "      <th></th>\n",
       "      <th>a</th>\n",
       "      <th>b</th>\n",
       "      <th>c</th>\n",
       "    </tr>\n",
       "  </thead>\n",
       "  <tbody>\n",
       "    <tr>\n",
       "      <th>1</th>\n",
       "      <td>10</td>\n",
       "      <td>20</td>\n",
       "      <td>30</td>\n",
       "    </tr>\n",
       "    <tr>\n",
       "      <th>2</th>\n",
       "      <td>40</td>\n",
       "      <td>50</td>\n",
       "      <td>60</td>\n",
       "    </tr>\n",
       "    <tr>\n",
       "      <th>3</th>\n",
       "      <td>70</td>\n",
       "      <td>80</td>\n",
       "      <td>90</td>\n",
       "    </tr>\n",
       "    <tr>\n",
       "      <th>1</th>\n",
       "      <td>100</td>\n",
       "      <td>200</td>\n",
       "      <td>300</td>\n",
       "    </tr>\n",
       "    <tr>\n",
       "      <th>2</th>\n",
       "      <td>400</td>\n",
       "      <td>500</td>\n",
       "      <td>600</td>\n",
       "    </tr>\n",
       "    <tr>\n",
       "      <th>3</th>\n",
       "      <td>700</td>\n",
       "      <td>800</td>\n",
       "      <td>900</td>\n",
       "    </tr>\n",
       "  </tbody>\n",
       "</table>\n",
       "</div>"
      ],
      "text/plain": [
       "     a    b    c\n",
       "1   10   20   30\n",
       "2   40   50   60\n",
       "3   70   80   90\n",
       "1  100  200  300\n",
       "2  400  500  600\n",
       "3  700  800  900"
      ]
     },
     "execution_count": 30,
     "metadata": {},
     "output_type": "execute_result"
    }
   ],
   "source": [
    "# concatenation\n",
    "pd.concat([df1,df2 ])"
   ]
  },
  {
   "cell_type": "code",
   "execution_count": 31,
   "metadata": {},
   "outputs": [
    {
     "data": {
      "text/html": [
       "<div>\n",
       "<style scoped>\n",
       "    .dataframe tbody tr th:only-of-type {\n",
       "        vertical-align: middle;\n",
       "    }\n",
       "\n",
       "    .dataframe tbody tr th {\n",
       "        vertical-align: top;\n",
       "    }\n",
       "\n",
       "    .dataframe thead th {\n",
       "        text-align: right;\n",
       "    }\n",
       "</style>\n",
       "<table border=\"1\" class=\"dataframe\">\n",
       "  <thead>\n",
       "    <tr style=\"text-align: right;\">\n",
       "      <th></th>\n",
       "      <th>a</th>\n",
       "      <th>b</th>\n",
       "      <th>c</th>\n",
       "    </tr>\n",
       "  </thead>\n",
       "  <tbody>\n",
       "    <tr>\n",
       "      <th>1</th>\n",
       "      <td>100</td>\n",
       "      <td>200</td>\n",
       "      <td>300</td>\n",
       "    </tr>\n",
       "    <tr>\n",
       "      <th>2</th>\n",
       "      <td>400</td>\n",
       "      <td>500</td>\n",
       "      <td>600</td>\n",
       "    </tr>\n",
       "    <tr>\n",
       "      <th>3</th>\n",
       "      <td>700</td>\n",
       "      <td>800</td>\n",
       "      <td>900</td>\n",
       "    </tr>\n",
       "    <tr>\n",
       "      <th>1</th>\n",
       "      <td>10</td>\n",
       "      <td>20</td>\n",
       "      <td>30</td>\n",
       "    </tr>\n",
       "    <tr>\n",
       "      <th>2</th>\n",
       "      <td>40</td>\n",
       "      <td>50</td>\n",
       "      <td>60</td>\n",
       "    </tr>\n",
       "    <tr>\n",
       "      <th>3</th>\n",
       "      <td>70</td>\n",
       "      <td>80</td>\n",
       "      <td>90</td>\n",
       "    </tr>\n",
       "  </tbody>\n",
       "</table>\n",
       "</div>"
      ],
      "text/plain": [
       "     a    b    c\n",
       "1  100  200  300\n",
       "2  400  500  600\n",
       "3  700  800  900\n",
       "1   10   20   30\n",
       "2   40   50   60\n",
       "3   70   80   90"
      ]
     },
     "execution_count": 31,
     "metadata": {},
     "output_type": "execute_result"
    }
   ],
   "source": [
    "pd.concat([df2,df1 ])"
   ]
  },
  {
   "cell_type": "code",
   "execution_count": 32,
   "metadata": {},
   "outputs": [
    {
     "data": {
      "text/html": [
       "<div>\n",
       "<style scoped>\n",
       "    .dataframe tbody tr th:only-of-type {\n",
       "        vertical-align: middle;\n",
       "    }\n",
       "\n",
       "    .dataframe tbody tr th {\n",
       "        vertical-align: top;\n",
       "    }\n",
       "\n",
       "    .dataframe thead th {\n",
       "        text-align: right;\n",
       "    }\n",
       "</style>\n",
       "<table border=\"1\" class=\"dataframe\">\n",
       "  <thead>\n",
       "    <tr style=\"text-align: right;\">\n",
       "      <th></th>\n",
       "      <th></th>\n",
       "      <th>a</th>\n",
       "      <th>b</th>\n",
       "      <th>c</th>\n",
       "    </tr>\n",
       "  </thead>\n",
       "  <tbody>\n",
       "    <tr>\n",
       "      <th rowspan=\"3\" valign=\"top\">Dataframe1</th>\n",
       "      <th>1</th>\n",
       "      <td>100</td>\n",
       "      <td>200</td>\n",
       "      <td>300</td>\n",
       "    </tr>\n",
       "    <tr>\n",
       "      <th>2</th>\n",
       "      <td>400</td>\n",
       "      <td>500</td>\n",
       "      <td>600</td>\n",
       "    </tr>\n",
       "    <tr>\n",
       "      <th>3</th>\n",
       "      <td>700</td>\n",
       "      <td>800</td>\n",
       "      <td>900</td>\n",
       "    </tr>\n",
       "    <tr>\n",
       "      <th rowspan=\"3\" valign=\"top\">Dataframe2</th>\n",
       "      <th>1</th>\n",
       "      <td>10</td>\n",
       "      <td>20</td>\n",
       "      <td>30</td>\n",
       "    </tr>\n",
       "    <tr>\n",
       "      <th>2</th>\n",
       "      <td>40</td>\n",
       "      <td>50</td>\n",
       "      <td>60</td>\n",
       "    </tr>\n",
       "    <tr>\n",
       "      <th>3</th>\n",
       "      <td>70</td>\n",
       "      <td>80</td>\n",
       "      <td>90</td>\n",
       "    </tr>\n",
       "  </tbody>\n",
       "</table>\n",
       "</div>"
      ],
      "text/plain": [
       "                a    b    c\n",
       "Dataframe1 1  100  200  300\n",
       "           2  400  500  600\n",
       "           3  700  800  900\n",
       "Dataframe2 1   10   20   30\n",
       "           2   40   50   60\n",
       "           3   70   80   90"
      ]
     },
     "execution_count": 32,
     "metadata": {},
     "output_type": "execute_result"
    }
   ],
   "source": [
    "pd.concat([df2,df1 ], keys = ['Dataframe1', 'Dataframe2'])\n"
   ]
  },
  {
   "cell_type": "code",
   "execution_count": 33,
   "metadata": {},
   "outputs": [
    {
     "data": {
      "text/html": [
       "<div>\n",
       "<style scoped>\n",
       "    .dataframe tbody tr th:only-of-type {\n",
       "        vertical-align: middle;\n",
       "    }\n",
       "\n",
       "    .dataframe tbody tr th {\n",
       "        vertical-align: top;\n",
       "    }\n",
       "\n",
       "    .dataframe thead tr th {\n",
       "        text-align: left;\n",
       "    }\n",
       "</style>\n",
       "<table border=\"1\" class=\"dataframe\">\n",
       "  <thead>\n",
       "    <tr>\n",
       "      <th></th>\n",
       "      <th colspan=\"3\" halign=\"left\">Dataframe1</th>\n",
       "      <th colspan=\"3\" halign=\"left\">Dataframe2</th>\n",
       "    </tr>\n",
       "    <tr>\n",
       "      <th></th>\n",
       "      <th>a</th>\n",
       "      <th>b</th>\n",
       "      <th>c</th>\n",
       "      <th>a</th>\n",
       "      <th>b</th>\n",
       "      <th>c</th>\n",
       "    </tr>\n",
       "  </thead>\n",
       "  <tbody>\n",
       "    <tr>\n",
       "      <th>1</th>\n",
       "      <td>100</td>\n",
       "      <td>200</td>\n",
       "      <td>300</td>\n",
       "      <td>10</td>\n",
       "      <td>20</td>\n",
       "      <td>30</td>\n",
       "    </tr>\n",
       "    <tr>\n",
       "      <th>2</th>\n",
       "      <td>400</td>\n",
       "      <td>500</td>\n",
       "      <td>600</td>\n",
       "      <td>40</td>\n",
       "      <td>50</td>\n",
       "      <td>60</td>\n",
       "    </tr>\n",
       "    <tr>\n",
       "      <th>3</th>\n",
       "      <td>700</td>\n",
       "      <td>800</td>\n",
       "      <td>900</td>\n",
       "      <td>70</td>\n",
       "      <td>80</td>\n",
       "      <td>90</td>\n",
       "    </tr>\n",
       "  </tbody>\n",
       "</table>\n",
       "</div>"
      ],
      "text/plain": [
       "  Dataframe1           Dataframe2        \n",
       "           a    b    c          a   b   c\n",
       "1        100  200  300         10  20  30\n",
       "2        400  500  600         40  50  60\n",
       "3        700  800  900         70  80  90"
      ]
     },
     "execution_count": 33,
     "metadata": {},
     "output_type": "execute_result"
    }
   ],
   "source": [
    "pd.concat([df2,df1 ], axis = 1,keys = ['Dataframe1', 'Dataframe2'])\n"
   ]
  },
  {
   "cell_type": "code",
   "execution_count": 34,
   "metadata": {},
   "outputs": [
    {
     "data": {
      "text/html": [
       "<div>\n",
       "<style scoped>\n",
       "    .dataframe tbody tr th:only-of-type {\n",
       "        vertical-align: middle;\n",
       "    }\n",
       "\n",
       "    .dataframe tbody tr th {\n",
       "        vertical-align: top;\n",
       "    }\n",
       "\n",
       "    .dataframe thead th {\n",
       "        text-align: right;\n",
       "    }\n",
       "</style>\n",
       "<table border=\"1\" class=\"dataframe\">\n",
       "  <thead>\n",
       "    <tr style=\"text-align: right;\">\n",
       "      <th></th>\n",
       "      <th>sid</th>\n",
       "      <th>name</th>\n",
       "      <th>level</th>\n",
       "    </tr>\n",
       "  </thead>\n",
       "  <tbody>\n",
       "    <tr>\n",
       "      <th>0</th>\n",
       "      <td>1</td>\n",
       "      <td>amber</td>\n",
       "      <td>2</td>\n",
       "    </tr>\n",
       "    <tr>\n",
       "      <th>1</th>\n",
       "      <td>2</td>\n",
       "      <td>gautam</td>\n",
       "      <td>4</td>\n",
       "    </tr>\n",
       "  </tbody>\n",
       "</table>\n",
       "</div>"
      ],
      "text/plain": [
       "   sid    name  level\n",
       "0    1   amber      2\n",
       "1    2  gautam      4"
      ]
     },
     "execution_count": 34,
     "metadata": {},
     "output_type": "execute_result"
    }
   ],
   "source": [
    "# merging Data\n",
    "student = pd.DataFrame({'sid':[1,2], 'name': ['amber','gautam'], 'level':[2,4]})\n",
    "student"
   ]
  },
  {
   "cell_type": "code",
   "execution_count": 35,
   "metadata": {},
   "outputs": [],
   "source": [
    "activity = pd.DataFrame({'sid':[1,2,3], 'activity':['hockey','cricket','basketball']})\n"
   ]
  },
  {
   "cell_type": "code",
   "execution_count": 37,
   "metadata": {},
   "outputs": [
    {
     "data": {
      "text/html": [
       "<div>\n",
       "<style scoped>\n",
       "    .dataframe tbody tr th:only-of-type {\n",
       "        vertical-align: middle;\n",
       "    }\n",
       "\n",
       "    .dataframe tbody tr th {\n",
       "        vertical-align: top;\n",
       "    }\n",
       "\n",
       "    .dataframe thead th {\n",
       "        text-align: right;\n",
       "    }\n",
       "</style>\n",
       "<table border=\"1\" class=\"dataframe\">\n",
       "  <thead>\n",
       "    <tr style=\"text-align: right;\">\n",
       "      <th></th>\n",
       "      <th>sid</th>\n",
       "      <th>activity</th>\n",
       "    </tr>\n",
       "  </thead>\n",
       "  <tbody>\n",
       "    <tr>\n",
       "      <th>0</th>\n",
       "      <td>1</td>\n",
       "      <td>hockey</td>\n",
       "    </tr>\n",
       "    <tr>\n",
       "      <th>1</th>\n",
       "      <td>2</td>\n",
       "      <td>cricket</td>\n",
       "    </tr>\n",
       "    <tr>\n",
       "      <th>2</th>\n",
       "      <td>3</td>\n",
       "      <td>basketball</td>\n",
       "    </tr>\n",
       "  </tbody>\n",
       "</table>\n",
       "</div>"
      ],
      "text/plain": [
       "   sid    activity\n",
       "0    1      hockey\n",
       "1    2     cricket\n",
       "2    3  basketball"
      ]
     },
     "execution_count": 37,
     "metadata": {},
     "output_type": "execute_result"
    }
   ],
   "source": [
    "activity"
   ]
  },
  {
   "cell_type": "code",
   "execution_count": 38,
   "metadata": {},
   "outputs": [
    {
     "data": {
      "text/html": [
       "<div>\n",
       "<style scoped>\n",
       "    .dataframe tbody tr th:only-of-type {\n",
       "        vertical-align: middle;\n",
       "    }\n",
       "\n",
       "    .dataframe tbody tr th {\n",
       "        vertical-align: top;\n",
       "    }\n",
       "\n",
       "    .dataframe thead th {\n",
       "        text-align: right;\n",
       "    }\n",
       "</style>\n",
       "<table border=\"1\" class=\"dataframe\">\n",
       "  <thead>\n",
       "    <tr style=\"text-align: right;\">\n",
       "      <th></th>\n",
       "      <th>sid</th>\n",
       "      <th>name</th>\n",
       "      <th>level</th>\n",
       "      <th>activity</th>\n",
       "    </tr>\n",
       "  </thead>\n",
       "  <tbody>\n",
       "    <tr>\n",
       "      <th>0</th>\n",
       "      <td>1</td>\n",
       "      <td>amber</td>\n",
       "      <td>2</td>\n",
       "      <td>hockey</td>\n",
       "    </tr>\n",
       "    <tr>\n",
       "      <th>1</th>\n",
       "      <td>2</td>\n",
       "      <td>gautam</td>\n",
       "      <td>4</td>\n",
       "      <td>cricket</td>\n",
       "    </tr>\n",
       "  </tbody>\n",
       "</table>\n",
       "</div>"
      ],
      "text/plain": [
       "   sid    name  level activity\n",
       "0    1   amber      2   hockey\n",
       "1    2  gautam      4  cricket"
      ]
     },
     "execution_count": 38,
     "metadata": {},
     "output_type": "execute_result"
    }
   ],
   "source": [
    "# now perform merging\n",
    "student.merge(activity)"
   ]
  },
  {
   "cell_type": "code",
   "execution_count": 39,
   "metadata": {},
   "outputs": [
    {
     "data": {
      "text/html": [
       "<div>\n",
       "<style scoped>\n",
       "    .dataframe tbody tr th:only-of-type {\n",
       "        vertical-align: middle;\n",
       "    }\n",
       "\n",
       "    .dataframe tbody tr th {\n",
       "        vertical-align: top;\n",
       "    }\n",
       "\n",
       "    .dataframe thead th {\n",
       "        text-align: right;\n",
       "    }\n",
       "</style>\n",
       "<table border=\"1\" class=\"dataframe\">\n",
       "  <thead>\n",
       "    <tr style=\"text-align: right;\">\n",
       "      <th></th>\n",
       "      <th>sid</th>\n",
       "      <th>activity</th>\n",
       "      <th>name</th>\n",
       "      <th>level</th>\n",
       "    </tr>\n",
       "  </thead>\n",
       "  <tbody>\n",
       "    <tr>\n",
       "      <th>0</th>\n",
       "      <td>1</td>\n",
       "      <td>hockey</td>\n",
       "      <td>amber</td>\n",
       "      <td>2</td>\n",
       "    </tr>\n",
       "    <tr>\n",
       "      <th>1</th>\n",
       "      <td>2</td>\n",
       "      <td>cricket</td>\n",
       "      <td>gautam</td>\n",
       "      <td>4</td>\n",
       "    </tr>\n",
       "  </tbody>\n",
       "</table>\n",
       "</div>"
      ],
      "text/plain": [
       "   sid activity    name  level\n",
       "0    1   hockey   amber      2\n",
       "1    2  cricket  gautam      4"
      ]
     },
     "execution_count": 39,
     "metadata": {},
     "output_type": "execute_result"
    }
   ],
   "source": [
    "activity.merge(student)"
   ]
  },
  {
   "cell_type": "code",
   "execution_count": 42,
   "metadata": {},
   "outputs": [],
   "source": [
    "# Grouping data\n",
    "# split data in groups\n",
    "# and perform analysis on seperate group\n",
    "# calculate result and alt last combile\n",
    "\n",
    "\n",
    "# SPLIT, APPLY, COMBINE   (SAC)\n",
    "# spiltting data into group\n",
    "# calculate result\n",
    "# then combine result"
   ]
  },
  {
   "cell_type": "code",
   "execution_count": 43,
   "metadata": {},
   "outputs": [],
   "source": [
    "# Functions\n",
    "#v1 = ..... .groupby('column name')\n",
    "# v1.ngroups\n",
    "#==============================\n"
   ]
  },
  {
   "cell_type": "code",
   "execution_count": 44,
   "metadata": {},
   "outputs": [],
   "source": [
    "# transformation\n",
    "v1 = pd.DataFrame({'company':['HP','APPLE','DELL'], 'GC': ['N','R','R'],'CIS':[1000,np.nan,200], 'C17':[2100,2200,2300]})"
   ]
  },
  {
   "cell_type": "code",
   "execution_count": 45,
   "metadata": {},
   "outputs": [
    {
     "data": {
      "text/html": [
       "<div>\n",
       "<style scoped>\n",
       "    .dataframe tbody tr th:only-of-type {\n",
       "        vertical-align: middle;\n",
       "    }\n",
       "\n",
       "    .dataframe tbody tr th {\n",
       "        vertical-align: top;\n",
       "    }\n",
       "\n",
       "    .dataframe thead th {\n",
       "        text-align: right;\n",
       "    }\n",
       "</style>\n",
       "<table border=\"1\" class=\"dataframe\">\n",
       "  <thead>\n",
       "    <tr style=\"text-align: right;\">\n",
       "      <th></th>\n",
       "      <th>company</th>\n",
       "      <th>GC</th>\n",
       "      <th>CIS</th>\n",
       "      <th>C17</th>\n",
       "    </tr>\n",
       "  </thead>\n",
       "  <tbody>\n",
       "    <tr>\n",
       "      <th>0</th>\n",
       "      <td>HP</td>\n",
       "      <td>N</td>\n",
       "      <td>1000.0</td>\n",
       "      <td>2100</td>\n",
       "    </tr>\n",
       "    <tr>\n",
       "      <th>1</th>\n",
       "      <td>APPLE</td>\n",
       "      <td>R</td>\n",
       "      <td>NaN</td>\n",
       "      <td>2200</td>\n",
       "    </tr>\n",
       "    <tr>\n",
       "      <th>2</th>\n",
       "      <td>DELL</td>\n",
       "      <td>R</td>\n",
       "      <td>200.0</td>\n",
       "      <td>2300</td>\n",
       "    </tr>\n",
       "  </tbody>\n",
       "</table>\n",
       "</div>"
      ],
      "text/plain": [
       "  company GC     CIS   C17\n",
       "0      HP  N  1000.0  2100\n",
       "1   APPLE  R     NaN  2200\n",
       "2    DELL  R   200.0  2300"
      ]
     },
     "execution_count": 45,
     "metadata": {},
     "output_type": "execute_result"
    }
   ],
   "source": [
    "v1"
   ]
  },
  {
   "cell_type": "markdown",
   "metadata": {},
   "source": [
    "# "
   ]
  },
  {
   "cell_type": "code",
   "execution_count": 48,
   "metadata": {},
   "outputs": [
    {
     "data": {
      "text/html": [
       "<div>\n",
       "<style scoped>\n",
       "    .dataframe tbody tr th:only-of-type {\n",
       "        vertical-align: middle;\n",
       "    }\n",
       "\n",
       "    .dataframe tbody tr th {\n",
       "        vertical-align: top;\n",
       "    }\n",
       "\n",
       "    .dataframe thead th {\n",
       "        text-align: right;\n",
       "    }\n",
       "</style>\n",
       "<table border=\"1\" class=\"dataframe\">\n",
       "  <thead>\n",
       "    <tr style=\"text-align: right;\">\n",
       "      <th></th>\n",
       "      <th>GC</th>\n",
       "      <th>CIS</th>\n",
       "      <th>C17</th>\n",
       "    </tr>\n",
       "    <tr>\n",
       "      <th>company</th>\n",
       "      <th></th>\n",
       "      <th></th>\n",
       "      <th></th>\n",
       "    </tr>\n",
       "  </thead>\n",
       "  <tbody>\n",
       "    <tr>\n",
       "      <th>APPLE</th>\n",
       "      <td>1</td>\n",
       "      <td>0</td>\n",
       "      <td>1</td>\n",
       "    </tr>\n",
       "    <tr>\n",
       "      <th>DELL</th>\n",
       "      <td>1</td>\n",
       "      <td>1</td>\n",
       "      <td>1</td>\n",
       "    </tr>\n",
       "    <tr>\n",
       "      <th>HP</th>\n",
       "      <td>1</td>\n",
       "      <td>1</td>\n",
       "      <td>1</td>\n",
       "    </tr>\n",
       "  </tbody>\n",
       "</table>\n",
       "</div>"
      ],
      "text/plain": [
       "         GC  CIS  C17\n",
       "company              \n",
       "APPLE     1    0    1\n",
       "DELL      1    1    1\n",
       "HP        1    1    1"
      ]
     },
     "execution_count": 48,
     "metadata": {},
     "output_type": "execute_result"
    }
   ],
   "source": [
    "v2 = v1.groupby('company')\n",
    "v2.count()"
   ]
  },
  {
   "cell_type": "code",
   "execution_count": 54,
   "metadata": {},
   "outputs": [
    {
     "data": {
      "text/html": [
       "<div>\n",
       "<style scoped>\n",
       "    .dataframe tbody tr th:only-of-type {\n",
       "        vertical-align: middle;\n",
       "    }\n",
       "\n",
       "    .dataframe tbody tr th {\n",
       "        vertical-align: top;\n",
       "    }\n",
       "\n",
       "    .dataframe thead th {\n",
       "        text-align: right;\n",
       "    }\n",
       "</style>\n",
       "<table border=\"1\" class=\"dataframe\">\n",
       "  <thead>\n",
       "    <tr style=\"text-align: right;\">\n",
       "      <th></th>\n",
       "      <th>CIS</th>\n",
       "      <th>C17</th>\n",
       "    </tr>\n",
       "  </thead>\n",
       "  <tbody>\n",
       "    <tr>\n",
       "      <th>0</th>\n",
       "      <td>1010.0</td>\n",
       "      <td>2110</td>\n",
       "    </tr>\n",
       "    <tr>\n",
       "      <th>1</th>\n",
       "      <td>NaN</td>\n",
       "      <td>2210</td>\n",
       "    </tr>\n",
       "    <tr>\n",
       "      <th>2</th>\n",
       "      <td>210.0</td>\n",
       "      <td>2310</td>\n",
       "    </tr>\n",
       "  </tbody>\n",
       "</table>\n",
       "</div>"
      ],
      "text/plain": [
       "      CIS   C17\n",
       "0  1010.0  2110\n",
       "1     NaN  2210\n",
       "2   210.0  2310"
      ]
     },
     "execution_count": 54,
     "metadata": {},
     "output_type": "execute_result"
    }
   ],
   "source": [
    "v3 = v2.transform(lambda x: x+10)\n",
    "v3"
   ]
  },
  {
   "cell_type": "code",
   "execution_count": 55,
   "metadata": {},
   "outputs": [],
   "source": [
    "v4 = v3.transform(lambda x:x.fillna(x.mean()))"
   ]
  },
  {
   "cell_type": "markdown",
   "metadata": {},
   "source": [
    "v3"
   ]
  },
  {
   "cell_type": "markdown",
   "metadata": {},
   "source": [
    "## "
   ]
  },
  {
   "cell_type": "code",
   "execution_count": 56,
   "metadata": {},
   "outputs": [
    {
     "data": {
      "text/html": [
       "<div>\n",
       "<style scoped>\n",
       "    .dataframe tbody tr th:only-of-type {\n",
       "        vertical-align: middle;\n",
       "    }\n",
       "\n",
       "    .dataframe tbody tr th {\n",
       "        vertical-align: top;\n",
       "    }\n",
       "\n",
       "    .dataframe thead th {\n",
       "        text-align: right;\n",
       "    }\n",
       "</style>\n",
       "<table border=\"1\" class=\"dataframe\">\n",
       "  <thead>\n",
       "    <tr style=\"text-align: right;\">\n",
       "      <th></th>\n",
       "      <th>CIS</th>\n",
       "      <th>C17</th>\n",
       "    </tr>\n",
       "  </thead>\n",
       "  <tbody>\n",
       "    <tr>\n",
       "      <th>0</th>\n",
       "      <td>1010.0</td>\n",
       "      <td>2110</td>\n",
       "    </tr>\n",
       "    <tr>\n",
       "      <th>1</th>\n",
       "      <td>610.0</td>\n",
       "      <td>2210</td>\n",
       "    </tr>\n",
       "    <tr>\n",
       "      <th>2</th>\n",
       "      <td>210.0</td>\n",
       "      <td>2310</td>\n",
       "    </tr>\n",
       "  </tbody>\n",
       "</table>\n",
       "</div>"
      ],
      "text/plain": [
       "      CIS   C17\n",
       "0  1010.0  2110\n",
       "1   610.0  2210\n",
       "2   210.0  2310"
      ]
     },
     "execution_count": 56,
     "metadata": {},
     "output_type": "execute_result"
    }
   ],
   "source": [
    "v4"
   ]
  },
  {
   "cell_type": "code",
   "execution_count": 57,
   "metadata": {},
   "outputs": [],
   "source": [
    "# each operation of result apllied seperatly"
   ]
  },
  {
   "cell_type": "code",
   "execution_count": 58,
   "metadata": {},
   "outputs": [
    {
     "data": {
      "text/html": [
       "<div>\n",
       "<style scoped>\n",
       "    .dataframe tbody tr th:only-of-type {\n",
       "        vertical-align: middle;\n",
       "    }\n",
       "\n",
       "    .dataframe tbody tr th {\n",
       "        vertical-align: top;\n",
       "    }\n",
       "\n",
       "    .dataframe thead th {\n",
       "        text-align: right;\n",
       "    }\n",
       "</style>\n",
       "<table border=\"1\" class=\"dataframe\">\n",
       "  <thead>\n",
       "    <tr style=\"text-align: right;\">\n",
       "      <th></th>\n",
       "      <th>company</th>\n",
       "      <th>GC</th>\n",
       "      <th>CIS</th>\n",
       "      <th>C17</th>\n",
       "    </tr>\n",
       "  </thead>\n",
       "  <tbody>\n",
       "    <tr>\n",
       "      <th>0</th>\n",
       "      <td>HP</td>\n",
       "      <td>N</td>\n",
       "      <td>1000.0</td>\n",
       "      <td>2100</td>\n",
       "    </tr>\n",
       "    <tr>\n",
       "      <th>1</th>\n",
       "      <td>APPLE</td>\n",
       "      <td>R</td>\n",
       "      <td>NaN</td>\n",
       "      <td>2200</td>\n",
       "    </tr>\n",
       "    <tr>\n",
       "      <th>2</th>\n",
       "      <td>DELL</td>\n",
       "      <td>R</td>\n",
       "      <td>200.0</td>\n",
       "      <td>2300</td>\n",
       "    </tr>\n",
       "  </tbody>\n",
       "</table>\n",
       "</div>"
      ],
      "text/plain": [
       "  company GC     CIS   C17\n",
       "0      HP  N  1000.0  2100\n",
       "1   APPLE  R     NaN  2200\n",
       "2    DELL  R   200.0  2300"
      ]
     },
     "execution_count": 58,
     "metadata": {},
     "output_type": "execute_result"
    }
   ],
   "source": [
    "# filtering\n",
    "v2 = lambda x: x.C17 >200\n",
    "v1.groupby('company').filter(v2)"
   ]
  },
  {
   "cell_type": "code",
   "execution_count": 59,
   "metadata": {},
   "outputs": [],
   "source": [
    "# introduction to time series\n",
    "import numpy as np\n",
    "import pandas as pd"
   ]
  },
  {
   "cell_type": "code",
   "execution_count": 61,
   "metadata": {},
   "outputs": [],
   "source": [
    "import datetime"
   ]
  },
  {
   "cell_type": "code",
   "execution_count": 62,
   "metadata": {},
   "outputs": [
    {
     "data": {
      "text/plain": [
       "datetime.datetime(2009, 1, 20, 0, 0)"
      ]
     },
     "execution_count": 62,
     "metadata": {},
     "output_type": "execute_result"
    }
   ],
   "source": [
    "from datetime import datetime\n",
    "datetime(2009,1,20)"
   ]
  },
  {
   "cell_type": "code",
   "execution_count": 63,
   "metadata": {},
   "outputs": [
    {
     "data": {
      "text/plain": [
       "datetime.datetime(2019, 2, 12, 22, 13, 4, 383996)"
      ]
     },
     "execution_count": 63,
     "metadata": {},
     "output_type": "execute_result"
    }
   ],
   "source": [
    "datetime.now()"
   ]
  },
  {
   "cell_type": "code",
   "execution_count": 64,
   "metadata": {},
   "outputs": [
    {
     "data": {
      "text/plain": [
       "datetime.time(22, 13, 18, 275343)"
      ]
     },
     "execution_count": 64,
     "metadata": {},
     "output_type": "execute_result"
    }
   ],
   "source": [
    "datetime.now().time()"
   ]
  },
  {
   "cell_type": "code",
   "execution_count": 65,
   "metadata": {},
   "outputs": [],
   "source": [
    "# pandas is use widely use in financial sector\n",
    "    "
   ]
  },
  {
   "cell_type": "code",
   "execution_count": 66,
   "metadata": {},
   "outputs": [
    {
     "data": {
      "text/plain": [
       "Timestamp('2009-01-20 12:22:02')"
      ]
     },
     "execution_count": 66,
     "metadata": {},
     "output_type": "execute_result"
    }
   ],
   "source": [
    "pd.Timestamp(\"2009-1-20 12:22:2\")"
   ]
  },
  {
   "cell_type": "code",
   "execution_count": 67,
   "metadata": {},
   "outputs": [
    {
     "data": {
      "text/plain": [
       "Timestamp('2019-02-12 22:19:30.641623')"
      ]
     },
     "execution_count": 67,
     "metadata": {},
     "output_type": "execute_result"
    }
   ],
   "source": [
    "pd.Timestamp(\"now\")"
   ]
  },
  {
   "cell_type": "code",
   "execution_count": 68,
   "metadata": {},
   "outputs": [
    {
     "data": {
      "text/plain": [
       "datetime.datetime(2019, 2, 15, 22, 20, 37, 969068)"
      ]
     },
     "execution_count": 68,
     "metadata": {},
     "output_type": "execute_result"
    }
   ],
   "source": [
    "now = datetime.now()\n",
    "after_two_days = now + pd.Timedelta(days = 3)\n",
    "after_two_days"
   ]
  },
  {
   "cell_type": "code",
   "execution_count": 69,
   "metadata": {},
   "outputs": [
    {
     "data": {
      "text/plain": [
       "Period('2009-01-01 00:00', 'H')"
      ]
     },
     "execution_count": 69,
     "metadata": {},
     "output_type": "execute_result"
    }
   ],
   "source": [
    "feb = pd.Period(\"2009\", freq = \"H\")\n",
    "feb"
   ]
  },
  {
   "cell_type": "code",
   "execution_count": 70,
   "metadata": {},
   "outputs": [
    {
     "data": {
      "text/plain": [
       "(Timestamp('2009-01-01 00:00:00'), Timestamp('2009-01-01 00:59:59.999999999'))"
      ]
     },
     "execution_count": 70,
     "metadata": {},
     "output_type": "execute_result"
    }
   ],
   "source": [
    "feb.start_time, feb.end_time"
   ]
  },
  {
   "cell_type": "code",
   "execution_count": 71,
   "metadata": {},
   "outputs": [],
   "source": [
    "from pandas.tseries.holiday import *\n",
    "cal = USFederalHolidayCalendar()"
   ]
  },
  {
   "cell_type": "code",
   "execution_count": 72,
   "metadata": {},
   "outputs": [
    {
     "data": {
      "text/plain": [
       "<pandas.tseries.holiday.USFederalHolidayCalendar at 0x7f3136de54e0>"
      ]
     },
     "execution_count": 72,
     "metadata": {},
     "output_type": "execute_result"
    }
   ],
   "source": [
    "cal"
   ]
  },
  {
   "cell_type": "code",
   "execution_count": 74,
   "metadata": {},
   "outputs": [
    {
     "data": {
      "text/plain": [
       "DatetimeIndex(['2014-01-01', '2014-01-20', '2014-02-17', '2014-05-26',\n",
       "               '2014-07-04', '2014-09-01', '2014-10-13', '2014-11-11',\n",
       "               '2014-11-27', '2014-12-25'],\n",
       "              dtype='datetime64[ns]', freq=None)"
      ]
     },
     "execution_count": 74,
     "metadata": {},
     "output_type": "execute_result"
    }
   ],
   "source": [
    "d = cal.holidays(start = \"2014-01-01\", end = \"2014-12-31\")\n",
    "d"
   ]
  },
  {
   "cell_type": "code",
   "execution_count": 77,
   "metadata": {},
   "outputs": [],
   "source": [
    "# Now start with matplotlib\n",
    "# matplotlib is used for data visualization"
   ]
  },
  {
   "cell_type": "code",
   "execution_count": 78,
   "metadata": {},
   "outputs": [],
   "source": [
    "import matplotlib as mpl\n",
    "import matplotlib.pyplot as plt\n",
    "%matplotlib inline"
   ]
  },
  {
   "cell_type": "code",
   "execution_count": 80,
   "metadata": {},
   "outputs": [
    {
     "data": {
      "text/html": [
       "<div>\n",
       "<style scoped>\n",
       "    .dataframe tbody tr th:only-of-type {\n",
       "        vertical-align: middle;\n",
       "    }\n",
       "\n",
       "    .dataframe tbody tr th {\n",
       "        vertical-align: top;\n",
       "    }\n",
       "\n",
       "    .dataframe thead th {\n",
       "        text-align: right;\n",
       "    }\n",
       "</style>\n",
       "<table border=\"1\" class=\"dataframe\">\n",
       "  <thead>\n",
       "    <tr style=\"text-align: right;\">\n",
       "      <th></th>\n",
       "      <th>2017</th>\n",
       "      <th>2018</th>\n",
       "      <th>2019</th>\n",
       "    </tr>\n",
       "  </thead>\n",
       "  <tbody>\n",
       "    <tr>\n",
       "      <th>microsoft</th>\n",
       "      <td>200</td>\n",
       "      <td>220</td>\n",
       "      <td>600</td>\n",
       "    </tr>\n",
       "    <tr>\n",
       "      <th>google</th>\n",
       "      <td>300</td>\n",
       "      <td>330</td>\n",
       "      <td>320</td>\n",
       "    </tr>\n",
       "    <tr>\n",
       "      <th>yahoo</th>\n",
       "      <td>400</td>\n",
       "      <td>440</td>\n",
       "      <td>430</td>\n",
       "    </tr>\n",
       "    <tr>\n",
       "      <th>facebook</th>\n",
       "      <td>500</td>\n",
       "      <td>550</td>\n",
       "      <td>540</td>\n",
       "    </tr>\n",
       "  </tbody>\n",
       "</table>\n",
       "</div>"
      ],
      "text/plain": [
       "           2017  2018  2019\n",
       "microsoft   200   220   600\n",
       "google      300   330   320\n",
       "yahoo       400   440   430\n",
       "facebook    500   550   540"
      ]
     },
     "execution_count": 80,
     "metadata": {},
     "output_type": "execute_result"
    }
   ],
   "source": [
    "sales1 = pd.Series([200,300,400,500], index = ['microsoft', 'google', 'yahoo', 'facebook'])\n",
    "sales2 = pd.Series([220,330,440,550], index = ['microsoft', 'google', 'yahoo', 'facebook'])\n",
    "sales3 = pd.Series([600,320,430,540], index = ['microsoft', 'google', 'yahoo', 'facebook'])\n",
    "\n",
    "df = pd.DataFrame({2017:sales1,2018:sales2,2019:sales3})\n",
    "df"
   ]
  },
  {
   "cell_type": "code",
   "execution_count": 81,
   "metadata": {},
   "outputs": [
    {
     "data": {
      "text/plain": [
       "<matplotlib.axes._subplots.AxesSubplot at 0x7f313593df28>"
      ]
     },
     "execution_count": 81,
     "metadata": {},
     "output_type": "execute_result"
    },
    {
     "data": {
      "image/png": "[encoded data removed]",
      "text/plain": [
       "<Figure size 432x288 with 1 Axes>"
      ]
     },
     "metadata": {
      "needs_background": "light"
     },
     "output_type": "display_data"
    }
   ],
   "source": [
    "df.plot()"
   ]
  },
  {
   "cell_type": "code",
   "execution_count": 82,
   "metadata": {},
   "outputs": [],
   "source": [
    "# above is the plot of dataframe "
   ]
  },
  {
   "cell_type": "code",
   "execution_count": 85,
   "metadata": {},
   "outputs": [
    {
     "data": {
      "text/plain": [
       "11111111"
      ]
     },
     "execution_count": 85,
     "metadata": {},
     "output_type": "execute_result"
    }
   ],
   "source": [
    "v1 = 11111111\n",
    "v1"
   ]
  },
  {
   "cell_type": "code",
   "execution_count": 90,
   "metadata": {},
   "outputs": [
    {
     "data": {
      "text/plain": [
       "2016-01-01    0.199229\n",
       "2016-01-02    0.325708\n",
       "2016-01-03   -1.405036\n",
       "2016-01-04    0.186130\n",
       "2016-01-05    0.093082\n",
       "2016-01-06   -0.561405\n",
       "2016-01-07   -0.310954\n",
       "2016-01-08    0.909171\n",
       "2016-01-09    1.020406\n",
       "2016-01-10    1.678482\n",
       "2016-01-11    1.142435\n",
       "2016-01-12   -1.709515\n",
       "2016-01-13   -0.559357\n",
       "2016-01-14    1.357962\n",
       "2016-01-15    0.844581\n",
       "2016-01-16   -1.992761\n",
       "2016-01-17    0.092201\n",
       "2016-01-18   -0.316048\n",
       "2016-01-19   -0.103612\n",
       "2016-01-20   -0.015859\n",
       "2016-01-21    1.080178\n",
       "2016-01-22   -0.055151\n",
       "2016-01-23   -0.595161\n",
       "2016-01-24   -0.029341\n",
       "2016-01-25    0.706729\n",
       "2016-01-26    0.834556\n",
       "2016-01-27    0.288180\n",
       "2016-01-28   -0.502916\n",
       "2016-01-29    1.012599\n",
       "2016-01-30   -0.092575\n",
       "                ...   \n",
       "2018-12-02   -0.785162\n",
       "2018-12-03    0.942811\n",
       "2018-12-04   -0.338158\n",
       "2018-12-05    2.591735\n",
       "2018-12-06   -1.021895\n",
       "2018-12-07   -0.478583\n",
       "2018-12-08   -0.797706\n",
       "2018-12-09   -0.888379\n",
       "2018-12-10   -1.306573\n",
       "2018-12-11    0.927512\n",
       "2018-12-12   -0.769278\n",
       "2018-12-13   -0.760588\n",
       "2018-12-14   -0.897817\n",
       "2018-12-15   -0.357530\n",
       "2018-12-16   -0.148364\n",
       "2018-12-17   -0.524858\n",
       "2018-12-18   -1.206415\n",
       "2018-12-19   -0.801714\n",
       "2018-12-20    1.107815\n",
       "2018-12-21    1.150831\n",
       "2018-12-22   -1.136266\n",
       "2018-12-23    0.474332\n",
       "2018-12-24    1.313726\n",
       "2018-12-25    0.017327\n",
       "2018-12-26   -0.941762\n",
       "2018-12-27   -1.117896\n",
       "2018-12-28    1.593313\n",
       "2018-12-29   -0.845373\n",
       "2018-12-30   -1.001745\n",
       "2018-12-31    1.459060\n",
       "Freq: D, Length: 1096, dtype: float64"
      ]
     },
     "execution_count": 90,
     "metadata": {},
     "output_type": "execute_result"
    }
   ],
   "source": [
    "s1 = pd.Series(np.random.randn(1096), index = pd.date_range(\"2016-01-01\", \"2018-12-31\"))\n",
    "s1"
   ]
  },
  {
   "cell_type": "code",
   "execution_count": 91,
   "metadata": {},
   "outputs": [
    {
     "data": {
      "text/plain": [
       "<matplotlib.axes._subplots.AxesSubplot at 0x7f313465a6a0>"
      ]
     },
     "execution_count": 91,
     "metadata": {},
     "output_type": "execute_result"
    },
    {
     "data": {
      "image/png": "[encoded data removed]",
      "text/plain": [
       "<Figure size 432x288 with 1 Axes>"
      ]
     },
     "metadata": {
      "needs_background": "light"
     },
     "output_type": "display_data"
    }
   ],
   "source": [
    "s1.plot()"
   ]
  },
  {
   "cell_type": "code",
   "execution_count": 92,
   "metadata": {},
   "outputs": [],
   "source": [
    "# above because of random values"
   ]
  },
  {
   "cell_type": "code",
   "execution_count": 95,
   "metadata": {},
   "outputs": [
    {
     "data": {
      "text/plain": [
       "2016-01-01     0.199229\n",
       "2016-01-02     0.524937\n",
       "2016-01-03    -0.880099\n",
       "2016-01-04    -0.693968\n",
       "2016-01-05    -0.600886\n",
       "2016-01-06    -1.162291\n",
       "2016-01-07    -1.473245\n",
       "2016-01-08    -0.564074\n",
       "2016-01-09     0.456332\n",
       "2016-01-10     2.134814\n",
       "2016-01-11     3.277249\n",
       "2016-01-12     1.567733\n",
       "2016-01-13     1.008376\n",
       "2016-01-14     2.366338\n",
       "2016-01-15     3.210919\n",
       "2016-01-16     1.218158\n",
       "2016-01-17     1.310359\n",
       "2016-01-18     0.994310\n",
       "2016-01-19     0.890699\n",
       "2016-01-20     0.874839\n",
       "2016-01-21     1.955017\n",
       "2016-01-22     1.899866\n",
       "2016-01-23     1.304705\n",
       "2016-01-24     1.275364\n",
       "2016-01-25     1.982093\n",
       "2016-01-26     2.816649\n",
       "2016-01-27     3.104829\n",
       "2016-01-28     2.601913\n",
       "2016-01-29     3.614512\n",
       "2016-01-30     3.521937\n",
       "                ...    \n",
       "2018-12-02     7.900858\n",
       "2018-12-03     8.843669\n",
       "2018-12-04     8.505510\n",
       "2018-12-05    11.097245\n",
       "2018-12-06    10.075350\n",
       "2018-12-07     9.596766\n",
       "2018-12-08     8.799061\n",
       "2018-12-09     7.910682\n",
       "2018-12-10     6.604108\n",
       "2018-12-11     7.531620\n",
       "2018-12-12     6.762342\n",
       "2018-12-13     6.001754\n",
       "2018-12-14     5.103937\n",
       "2018-12-15     4.746406\n",
       "2018-12-16     4.598042\n",
       "2018-12-17     4.073184\n",
       "2018-12-18     2.866769\n",
       "2018-12-19     2.065055\n",
       "2018-12-20     3.172870\n",
       "2018-12-21     4.323701\n",
       "2018-12-22     3.187435\n",
       "2018-12-23     3.661766\n",
       "2018-12-24     4.975492\n",
       "2018-12-25     4.992819\n",
       "2018-12-26     4.051057\n",
       "2018-12-27     2.933161\n",
       "2018-12-28     4.526475\n",
       "2018-12-29     3.681102\n",
       "2018-12-30     2.679357\n",
       "2018-12-31     4.138417\n",
       "Freq: D, Length: 1096, dtype: float64"
      ]
     },
     "execution_count": 95,
     "metadata": {},
     "output_type": "execute_result"
    }
   ],
   "source": [
    "# commutative sum\n",
    "s2 = s1.cumsum()\n",
    "s2"
   ]
  },
  {
   "cell_type": "code",
   "execution_count": 96,
   "metadata": {},
   "outputs": [
    {
     "data": {
      "text/plain": [
       "<matplotlib.axes._subplots.AxesSubplot at 0x7f3134498320>"
      ]
     },
     "execution_count": 96,
     "metadata": {},
     "output_type": "execute_result"
    },
    {
     "data": {
      "image/png": "[encoded data removed]",
      "text/plain": [
       "<Figure size 432x288 with 1 Axes>"
      ]
     },
     "metadata": {
      "needs_background": "light"
     },
     "output_type": "display_data"
    }
   ],
   "source": [
    "s2.plot()"
   ]
  },
  {
   "cell_type": "code",
   "execution_count": 97,
   "metadata": {},
   "outputs": [
    {
     "data": {
      "text/html": [
       "<div>\n",
       "<style scoped>\n",
       "    .dataframe tbody tr th:only-of-type {\n",
       "        vertical-align: middle;\n",
       "    }\n",
       "\n",
       "    .dataframe tbody tr th {\n",
       "        vertical-align: top;\n",
       "    }\n",
       "\n",
       "    .dataframe thead th {\n",
       "        text-align: right;\n",
       "    }\n",
       "</style>\n",
       "<table border=\"1\" class=\"dataframe\">\n",
       "  <thead>\n",
       "    <tr style=\"text-align: right;\">\n",
       "      <th></th>\n",
       "      <th>A</th>\n",
       "      <th>B</th>\n",
       "    </tr>\n",
       "  </thead>\n",
       "  <tbody>\n",
       "    <tr>\n",
       "      <th>2016-01-01</th>\n",
       "      <td>0.468996</td>\n",
       "      <td>-1.807808</td>\n",
       "    </tr>\n",
       "    <tr>\n",
       "      <th>2016-01-02</th>\n",
       "      <td>0.080547</td>\n",
       "      <td>1.718461</td>\n",
       "    </tr>\n",
       "    <tr>\n",
       "      <th>2016-01-03</th>\n",
       "      <td>-1.100480</td>\n",
       "      <td>-0.362592</td>\n",
       "    </tr>\n",
       "    <tr>\n",
       "      <th>2016-01-04</th>\n",
       "      <td>-0.305446</td>\n",
       "      <td>-0.247651</td>\n",
       "    </tr>\n",
       "    <tr>\n",
       "      <th>2016-01-05</th>\n",
       "      <td>-1.111420</td>\n",
       "      <td>0.444985</td>\n",
       "    </tr>\n",
       "    <tr>\n",
       "      <th>2016-01-06</th>\n",
       "      <td>0.467490</td>\n",
       "      <td>-1.256416</td>\n",
       "    </tr>\n",
       "    <tr>\n",
       "      <th>2016-01-07</th>\n",
       "      <td>-0.228833</td>\n",
       "      <td>0.038937</td>\n",
       "    </tr>\n",
       "    <tr>\n",
       "      <th>2016-01-08</th>\n",
       "      <td>-1.062315</td>\n",
       "      <td>1.498921</td>\n",
       "    </tr>\n",
       "    <tr>\n",
       "      <th>2016-01-09</th>\n",
       "      <td>1.082991</td>\n",
       "      <td>-1.034067</td>\n",
       "    </tr>\n",
       "    <tr>\n",
       "      <th>2016-01-10</th>\n",
       "      <td>-1.261665</td>\n",
       "      <td>2.614069</td>\n",
       "    </tr>\n",
       "    <tr>\n",
       "      <th>2016-01-11</th>\n",
       "      <td>-0.243473</td>\n",
       "      <td>-1.708145</td>\n",
       "    </tr>\n",
       "    <tr>\n",
       "      <th>2016-01-12</th>\n",
       "      <td>-1.231216</td>\n",
       "      <td>-0.191585</td>\n",
       "    </tr>\n",
       "    <tr>\n",
       "      <th>2016-01-13</th>\n",
       "      <td>2.810410</td>\n",
       "      <td>-0.990524</td>\n",
       "    </tr>\n",
       "    <tr>\n",
       "      <th>2016-01-14</th>\n",
       "      <td>-1.251628</td>\n",
       "      <td>0.684098</td>\n",
       "    </tr>\n",
       "    <tr>\n",
       "      <th>2016-01-15</th>\n",
       "      <td>-1.711115</td>\n",
       "      <td>0.237368</td>\n",
       "    </tr>\n",
       "    <tr>\n",
       "      <th>2016-01-16</th>\n",
       "      <td>0.209307</td>\n",
       "      <td>1.348261</td>\n",
       "    </tr>\n",
       "    <tr>\n",
       "      <th>2016-01-17</th>\n",
       "      <td>0.618702</td>\n",
       "      <td>-0.554964</td>\n",
       "    </tr>\n",
       "    <tr>\n",
       "      <th>2016-01-18</th>\n",
       "      <td>1.392720</td>\n",
       "      <td>1.204644</td>\n",
       "    </tr>\n",
       "    <tr>\n",
       "      <th>2016-01-19</th>\n",
       "      <td>-1.928660</td>\n",
       "      <td>1.273126</td>\n",
       "    </tr>\n",
       "    <tr>\n",
       "      <th>2016-01-20</th>\n",
       "      <td>-0.529859</td>\n",
       "      <td>-0.974781</td>\n",
       "    </tr>\n",
       "    <tr>\n",
       "      <th>2016-01-21</th>\n",
       "      <td>0.547353</td>\n",
       "      <td>0.049610</td>\n",
       "    </tr>\n",
       "    <tr>\n",
       "      <th>2016-01-22</th>\n",
       "      <td>-0.709468</td>\n",
       "      <td>0.222800</td>\n",
       "    </tr>\n",
       "    <tr>\n",
       "      <th>2016-01-23</th>\n",
       "      <td>-0.411503</td>\n",
       "      <td>0.620375</td>\n",
       "    </tr>\n",
       "    <tr>\n",
       "      <th>2016-01-24</th>\n",
       "      <td>-2.406888</td>\n",
       "      <td>0.445537</td>\n",
       "    </tr>\n",
       "    <tr>\n",
       "      <th>2016-01-25</th>\n",
       "      <td>-1.143287</td>\n",
       "      <td>-1.103464</td>\n",
       "    </tr>\n",
       "    <tr>\n",
       "      <th>2016-01-26</th>\n",
       "      <td>-0.109403</td>\n",
       "      <td>2.188474</td>\n",
       "    </tr>\n",
       "    <tr>\n",
       "      <th>2016-01-27</th>\n",
       "      <td>-0.897053</td>\n",
       "      <td>0.218642</td>\n",
       "    </tr>\n",
       "    <tr>\n",
       "      <th>2016-01-28</th>\n",
       "      <td>-0.233088</td>\n",
       "      <td>-1.488004</td>\n",
       "    </tr>\n",
       "    <tr>\n",
       "      <th>2016-01-29</th>\n",
       "      <td>0.732412</td>\n",
       "      <td>-0.333040</td>\n",
       "    </tr>\n",
       "    <tr>\n",
       "      <th>2016-01-30</th>\n",
       "      <td>-0.406749</td>\n",
       "      <td>-0.778830</td>\n",
       "    </tr>\n",
       "    <tr>\n",
       "      <th>...</th>\n",
       "      <td>...</td>\n",
       "      <td>...</td>\n",
       "    </tr>\n",
       "    <tr>\n",
       "      <th>2018-12-02</th>\n",
       "      <td>2.891961</td>\n",
       "      <td>-2.429672</td>\n",
       "    </tr>\n",
       "    <tr>\n",
       "      <th>2018-12-03</th>\n",
       "      <td>0.919566</td>\n",
       "      <td>-0.225886</td>\n",
       "    </tr>\n",
       "    <tr>\n",
       "      <th>2018-12-04</th>\n",
       "      <td>0.862083</td>\n",
       "      <td>1.950080</td>\n",
       "    </tr>\n",
       "    <tr>\n",
       "      <th>2018-12-05</th>\n",
       "      <td>0.547186</td>\n",
       "      <td>1.004048</td>\n",
       "    </tr>\n",
       "    <tr>\n",
       "      <th>2018-12-06</th>\n",
       "      <td>1.178929</td>\n",
       "      <td>0.829924</td>\n",
       "    </tr>\n",
       "    <tr>\n",
       "      <th>2018-12-07</th>\n",
       "      <td>-0.924805</td>\n",
       "      <td>-0.662192</td>\n",
       "    </tr>\n",
       "    <tr>\n",
       "      <th>2018-12-08</th>\n",
       "      <td>-0.288632</td>\n",
       "      <td>0.536298</td>\n",
       "    </tr>\n",
       "    <tr>\n",
       "      <th>2018-12-09</th>\n",
       "      <td>0.547319</td>\n",
       "      <td>0.455555</td>\n",
       "    </tr>\n",
       "    <tr>\n",
       "      <th>2018-12-10</th>\n",
       "      <td>0.048683</td>\n",
       "      <td>0.907029</td>\n",
       "    </tr>\n",
       "    <tr>\n",
       "      <th>2018-12-11</th>\n",
       "      <td>-0.353938</td>\n",
       "      <td>-1.041971</td>\n",
       "    </tr>\n",
       "    <tr>\n",
       "      <th>2018-12-12</th>\n",
       "      <td>1.874802</td>\n",
       "      <td>-1.276660</td>\n",
       "    </tr>\n",
       "    <tr>\n",
       "      <th>2018-12-13</th>\n",
       "      <td>0.903203</td>\n",
       "      <td>-0.811171</td>\n",
       "    </tr>\n",
       "    <tr>\n",
       "      <th>2018-12-14</th>\n",
       "      <td>-0.862169</td>\n",
       "      <td>0.349388</td>\n",
       "    </tr>\n",
       "    <tr>\n",
       "      <th>2018-12-15</th>\n",
       "      <td>-1.184467</td>\n",
       "      <td>-0.726463</td>\n",
       "    </tr>\n",
       "    <tr>\n",
       "      <th>2018-12-16</th>\n",
       "      <td>-0.280763</td>\n",
       "      <td>1.676496</td>\n",
       "    </tr>\n",
       "    <tr>\n",
       "      <th>2018-12-17</th>\n",
       "      <td>-2.211408</td>\n",
       "      <td>-0.932946</td>\n",
       "    </tr>\n",
       "    <tr>\n",
       "      <th>2018-12-18</th>\n",
       "      <td>-0.063864</td>\n",
       "      <td>1.043185</td>\n",
       "    </tr>\n",
       "    <tr>\n",
       "      <th>2018-12-19</th>\n",
       "      <td>-1.293955</td>\n",
       "      <td>0.779962</td>\n",
       "    </tr>\n",
       "    <tr>\n",
       "      <th>2018-12-20</th>\n",
       "      <td>0.422346</td>\n",
       "      <td>0.011942</td>\n",
       "    </tr>\n",
       "    <tr>\n",
       "      <th>2018-12-21</th>\n",
       "      <td>1.821996</td>\n",
       "      <td>0.712719</td>\n",
       "    </tr>\n",
       "    <tr>\n",
       "      <th>2018-12-22</th>\n",
       "      <td>0.197114</td>\n",
       "      <td>-1.055683</td>\n",
       "    </tr>\n",
       "    <tr>\n",
       "      <th>2018-12-23</th>\n",
       "      <td>0.034131</td>\n",
       "      <td>-0.275598</td>\n",
       "    </tr>\n",
       "    <tr>\n",
       "      <th>2018-12-24</th>\n",
       "      <td>2.074141</td>\n",
       "      <td>0.841232</td>\n",
       "    </tr>\n",
       "    <tr>\n",
       "      <th>2018-12-25</th>\n",
       "      <td>-1.269537</td>\n",
       "      <td>0.483152</td>\n",
       "    </tr>\n",
       "    <tr>\n",
       "      <th>2018-12-26</th>\n",
       "      <td>-0.259018</td>\n",
       "      <td>-0.184210</td>\n",
       "    </tr>\n",
       "    <tr>\n",
       "      <th>2018-12-27</th>\n",
       "      <td>-0.870743</td>\n",
       "      <td>-0.523831</td>\n",
       "    </tr>\n",
       "    <tr>\n",
       "      <th>2018-12-28</th>\n",
       "      <td>0.616699</td>\n",
       "      <td>0.506478</td>\n",
       "    </tr>\n",
       "    <tr>\n",
       "      <th>2018-12-29</th>\n",
       "      <td>-0.315839</td>\n",
       "      <td>-0.329442</td>\n",
       "    </tr>\n",
       "    <tr>\n",
       "      <th>2018-12-30</th>\n",
       "      <td>1.045721</td>\n",
       "      <td>1.249254</td>\n",
       "    </tr>\n",
       "    <tr>\n",
       "      <th>2018-12-31</th>\n",
       "      <td>1.517004</td>\n",
       "      <td>0.970424</td>\n",
       "    </tr>\n",
       "  </tbody>\n",
       "</table>\n",
       "<p>1096 rows × 2 columns</p>\n",
       "</div>"
      ],
      "text/plain": [
       "                   A         B\n",
       "2016-01-01  0.468996 -1.807808\n",
       "2016-01-02  0.080547  1.718461\n",
       "2016-01-03 -1.100480 -0.362592\n",
       "2016-01-04 -0.305446 -0.247651\n",
       "2016-01-05 -1.111420  0.444985\n",
       "2016-01-06  0.467490 -1.256416\n",
       "2016-01-07 -0.228833  0.038937\n",
       "2016-01-08 -1.062315  1.498921\n",
       "2016-01-09  1.082991 -1.034067\n",
       "2016-01-10 -1.261665  2.614069\n",
       "2016-01-11 -0.243473 -1.708145\n",
       "2016-01-12 -1.231216 -0.191585\n",
       "2016-01-13  2.810410 -0.990524\n",
       "2016-01-14 -1.251628  0.684098\n",
       "2016-01-15 -1.711115  0.237368\n",
       "2016-01-16  0.209307  1.348261\n",
       "2016-01-17  0.618702 -0.554964\n",
       "2016-01-18  1.392720  1.204644\n",
       "2016-01-19 -1.928660  1.273126\n",
       "2016-01-20 -0.529859 -0.974781\n",
       "2016-01-21  0.547353  0.049610\n",
       "2016-01-22 -0.709468  0.222800\n",
       "2016-01-23 -0.411503  0.620375\n",
       "2016-01-24 -2.406888  0.445537\n",
       "2016-01-25 -1.143287 -1.103464\n",
       "2016-01-26 -0.109403  2.188474\n",
       "2016-01-27 -0.897053  0.218642\n",
       "2016-01-28 -0.233088 -1.488004\n",
       "2016-01-29  0.732412 -0.333040\n",
       "2016-01-30 -0.406749 -0.778830\n",
       "...              ...       ...\n",
       "2018-12-02  2.891961 -2.429672\n",
       "2018-12-03  0.919566 -0.225886\n",
       "2018-12-04  0.862083  1.950080\n",
       "2018-12-05  0.547186  1.004048\n",
       "2018-12-06  1.178929  0.829924\n",
       "2018-12-07 -0.924805 -0.662192\n",
       "2018-12-08 -0.288632  0.536298\n",
       "2018-12-09  0.547319  0.455555\n",
       "2018-12-10  0.048683  0.907029\n",
       "2018-12-11 -0.353938 -1.041971\n",
       "2018-12-12  1.874802 -1.276660\n",
       "2018-12-13  0.903203 -0.811171\n",
       "2018-12-14 -0.862169  0.349388\n",
       "2018-12-15 -1.184467 -0.726463\n",
       "2018-12-16 -0.280763  1.676496\n",
       "2018-12-17 -2.211408 -0.932946\n",
       "2018-12-18 -0.063864  1.043185\n",
       "2018-12-19 -1.293955  0.779962\n",
       "2018-12-20  0.422346  0.011942\n",
       "2018-12-21  1.821996  0.712719\n",
       "2018-12-22  0.197114 -1.055683\n",
       "2018-12-23  0.034131 -0.275598\n",
       "2018-12-24  2.074141  0.841232\n",
       "2018-12-25 -1.269537  0.483152\n",
       "2018-12-26 -0.259018 -0.184210\n",
       "2018-12-27 -0.870743 -0.523831\n",
       "2018-12-28  0.616699  0.506478\n",
       "2018-12-29 -0.315839 -0.329442\n",
       "2018-12-30  1.045721  1.249254\n",
       "2018-12-31  1.517004  0.970424\n",
       "\n",
       "[1096 rows x 2 columns]"
      ]
     },
     "execution_count": 97,
     "metadata": {},
     "output_type": "execute_result"
    }
   ],
   "source": [
    "df2 = pd.DataFrame(np.random.randn(1096,2), index = s1.index, columns= list('AB'))\n",
    "df2"
   ]
  },
  {
   "cell_type": "code",
   "execution_count": 98,
   "metadata": {},
   "outputs": [
    {
     "data": {
      "text/plain": [
       "<matplotlib.axes._subplots.AxesSubplot at 0x7f31343eab00>"
      ]
     },
     "execution_count": 98,
     "metadata": {},
     "output_type": "execute_result"
    },
    {
     "data": {
      "image/png": "[encoded data removed]",
      "text/plain": [
       "<Figure size 432x288 with 1 Axes>"
      ]
     },
     "metadata": {
      "needs_background": "light"
     },
     "output_type": "display_data"
    }
   ],
   "source": [
    "df2.plot()"
   ]
  },
  {
   "cell_type": "code",
   "execution_count": 100,
   "metadata": {},
   "outputs": [],
   "source": [
    "v3 = df2.cumsum()"
   ]
  },
  {
   "cell_type": "code",
   "execution_count": 102,
   "metadata": {},
   "outputs": [
    {
     "data": {
      "text/plain": [
       "<matplotlib.axes._subplots.AxesSubplot at 0x7f31342245f8>"
      ]
     },
     "execution_count": 102,
     "metadata": {},
     "output_type": "execute_result"
    },
    {
     "data": {
      "image/png": "[encoded data removed]",
      "text/plain": [
       "<Figure size 432x288 with 1 Axes>"
      ]
     },
     "metadata": {
      "needs_background": "light"
     },
     "output_type": "display_data"
    }
   ],
   "source": [
    "v3.plot()"
   ]
  },
  {
   "cell_type": "code",
   "execution_count": 103,
   "metadata": {},
   "outputs": [
    {
     "data": {
      "text/plain": [
       "<matplotlib.axes._subplots.AxesSubplot at 0x7f3134118908>"
      ]
     },
     "execution_count": 103,
     "metadata": {},
     "output_type": "execute_result"
    },
    {
     "data": {
      "image/png": "[encoded data removed]",
      "text/plain": [
       "<Figure size 432x288 with 1 Axes>"
      ]
     },
     "metadata": {
      "needs_background": "light"
     },
     "output_type": "display_data"
    }
   ],
   "source": [
    "v3.plot(title = \"Chart\")"
   ]
  },
  {
   "cell_type": "code",
   "execution_count": 104,
   "metadata": {},
   "outputs": [
    {
     "data": {
      "text/plain": [
       "Text(0.5, 0, 'x axis')"
      ]
     },
     "execution_count": 104,
     "metadata": {},
     "output_type": "execute_result"
    },
    {
     "data": {
      "image/png": "[encoded data removed]",
      "text/plain": [
       "<Figure size 432x288 with 1 Axes>"
      ]
     },
     "metadata": {
      "needs_background": "light"
     },
     "output_type": "display_data"
    }
   ],
   "source": [
    "plt.xlabel(\"x axis\")"
   ]
  },
  {
   "cell_type": "code",
   "execution_count": 105,
   "metadata": {},
   "outputs": [
    {
     "data": {
      "text/plain": [
       "Text(0.5, 0, 'y axis')"
      ]
     },
     "execution_count": 105,
     "metadata": {},
     "output_type": "execute_result"
    },
    {
     "data": {
      "image/png": "[encoded data removed]",
      "text/plain": [
       "<Figure size 432x288 with 1 Axes>"
      ]
     },
     "metadata": {
      "needs_background": "light"
     },
     "output_type": "display_data"
    }
   ],
   "source": [
    "plt.xlabel(\"y axis\")"
   ]
  },
  {
   "cell_type": "code",
   "execution_count": 106,
   "metadata": {},
   "outputs": [],
   "source": [
    "plt.show()"
   ]
  },
  {
   "cell_type": "code",
   "execution_count": null,
   "metadata": {},
   "outputs": [],
   "source": [
    "# THE END"
   ]
  }
 ],
 "metadata": {
  "kernelspec": {
   "display_name": "masterdatascience",
   "language": "python",
   "name": "masterdatascience"
  },
  "language_info": {
   "codemirror_mode": {
    "name": "ipython",
    "version": 3
   },
   "file_extension": ".py",
   "mimetype": "text/x-python",
   "name": "python",
   "nbconvert_exporter": "python",
   "pygments_lexer": "ipython3",
   "version": "3.6.1"
  }
 },
 "nbformat": 4,
 "nbformat_minor": 2
}
